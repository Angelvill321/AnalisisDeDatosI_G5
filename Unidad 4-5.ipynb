{
 "cells": [
  {
   "cell_type": "markdown",
   "metadata": {},
   "source": [
    "# ANALISIS - GRUPO 5\n",
    "\n",
    "Este notebook integra ambas estrategias:\n",
    "- Usa `pipeline_simple.py` para regenerar el CSV limpio desde los .xlsx originales\n",
    "- O bien, carga directamente `base_pampeana_analizada.csv` si ya existe\n"
   ]
  },
  {
   "cell_type": "code",
   "execution_count": null,
   "metadata": {},
   "outputs": [],
   "source": [
    "import os\n",
    "import pandas as pd\n",
    "from pipeline_simple import construir_base_limpia\n",
    "\n",
    "# === Config ===\n",
    "PERSONAS = \"usu_individual_T324.xlsx\"\n",
    "HOGARES = \"usu_hogar_T324.xlsx\"\n",
    "OUT_CSV = \"base_pampeana_analizada.csv\"\n",
    "\n",
    "# === Cargar datos ===\n",
    "if os.path.exists(OUT_CSV):\n",
    "    print(\"[INFO] Cargando base limpia desde CSV existente…\")\n",
    "    df = pd.read_csv(OUT_CSV)\n",
    "else:\n",
    "    print(\"[INFO] Generando CSV limpio desde los archivos .xlsx…\")\n",
    "    df = construir_base_limpia(PERSONAS, HOGARES, OUT_CSV)\n",
    "\n",
    "# === Visualizar muestra ===\n",
    "df.sample(5)\n",
    "\n",
    "# === Ver resumen de ingreso ===\n",
    "df['ingreso'].describe()\n",
    "\n",
    "# === Agregar variable log_ingreso para modelado ===\n",
    "df['log_ingreso'] = np.log(df['ingreso'])\n",
    "\n",
    "# === Exportar para análisis posterior (opcional) ===\n",
    "df.to_csv(\"eph_final_analizada.csv\", index=False)\n",
    "print(\"[OK] Base exportada como eph_final_analizada.csv\")\n"
   ]
  }
 ],
 "metadata": {
  "kernelspec": {
   "display_name": "notebooks_kernel",
   "language": "python",
   "name": "notebooks_kernel"
  },
  "language_info": {
   "name": "python",
   "version": "3.10.12"
  }
 },
 "nbformat": 4,
 "nbformat_minor": 2
}
