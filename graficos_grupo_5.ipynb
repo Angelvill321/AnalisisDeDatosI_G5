{
 "cells": [
  {
   "cell_type": "markdown",
   "id": "64d84e28",
   "metadata": {},
   "source": [
    "# Gráficos - Región Pampeana\n",
    "## Importación y filtrado de encuesta"
   ]
  },
  {
   "cell_type": "code",
   "execution_count": 22,
   "id": "58559289",
   "metadata": {},
   "outputs": [],
   "source": [
    "import pandas as pd\n",
    "import matplotlib.pyplot as plt\n",
    "import numpy as np\n",
    "%matplotlib inline  \n"
   ]
  },
  {
   "cell_type": "code",
   "execution_count": 5,
   "id": "b48647b5",
   "metadata": {},
   "outputs": [],
   "source": [
    "from hogares import EncuestaHogares\n",
    "\n",
    "encuesta = EncuestaHogares(\"usu_hogar_T324.xlsx\", \"usu_individual_T324.xlsx\")\n",
    "hogares, personas = encuesta.memoria()\n",
    "hogares, personas = encuesta.filtrados_por_region(43, hogares, personas)\n",
    "hogares_personas = encuesta.df_hogares_personas(hogares, personas)"
   ]
  },
  {
   "cell_type": "markdown",
   "id": "b4c5ea7e",
   "metadata": {},
   "source": [
    "## Análisis de Variables Individuales\n",
    "### Ingreso e Ingreso Ponderado\n",
    "Cuantitativa Continua"
   ]
  },
  {
   "cell_type": "code",
   "execution_count": 12,
   "id": "e9fb85cf",
   "metadata": {},
   "outputs": [
    {
     "data": {
      "text/html": [
       "<div>\n",
       "<style scoped>\n",
       "    .dataframe tbody tr th:only-of-type {\n",
       "        vertical-align: middle;\n",
       "    }\n",
       "\n",
       "    .dataframe tbody tr th {\n",
       "        vertical-align: top;\n",
       "    }\n",
       "\n",
       "    .dataframe thead th {\n",
       "        text-align: right;\n",
       "    }\n",
       "</style>\n",
       "<table border=\"1\" class=\"dataframe\">\n",
       "  <thead>\n",
       "    <tr style=\"text-align: right;\">\n",
       "      <th></th>\n",
       "      <th>ingreso</th>\n",
       "      <th>ingreso_ponderado</th>\n",
       "      <th>edad</th>\n",
       "      <th>PONDERA_x</th>\n",
       "      <th>PONDERA_y</th>\n",
       "    </tr>\n",
       "  </thead>\n",
       "  <tbody>\n",
       "    <tr>\n",
       "      <th>2</th>\n",
       "      <td>1750000.0</td>\n",
       "      <td>401</td>\n",
       "      <td>81</td>\n",
       "      <td>277</td>\n",
       "      <td>277</td>\n",
       "    </tr>\n",
       "    <tr>\n",
       "      <th>3</th>\n",
       "      <td>400000.0</td>\n",
       "      <td>354</td>\n",
       "      <td>78</td>\n",
       "      <td>277</td>\n",
       "      <td>277</td>\n",
       "    </tr>\n",
       "    <tr>\n",
       "      <th>4</th>\n",
       "      <td>1200000.0</td>\n",
       "      <td>328</td>\n",
       "      <td>65</td>\n",
       "      <td>281</td>\n",
       "      <td>281</td>\n",
       "    </tr>\n",
       "    <tr>\n",
       "      <th>5</th>\n",
       "      <td>435600.0</td>\n",
       "      <td>366</td>\n",
       "      <td>66</td>\n",
       "      <td>281</td>\n",
       "      <td>281</td>\n",
       "    </tr>\n",
       "    <tr>\n",
       "      <th>6</th>\n",
       "      <td>1125000.0</td>\n",
       "      <td>362</td>\n",
       "      <td>30</td>\n",
       "      <td>281</td>\n",
       "      <td>281</td>\n",
       "    </tr>\n",
       "    <tr>\n",
       "      <th>...</th>\n",
       "      <td>...</td>\n",
       "      <td>...</td>\n",
       "      <td>...</td>\n",
       "      <td>...</td>\n",
       "      <td>...</td>\n",
       "    </tr>\n",
       "    <tr>\n",
       "      <th>14310</th>\n",
       "      <td>1300000.0</td>\n",
       "      <td>1374</td>\n",
       "      <td>34</td>\n",
       "      <td>727</td>\n",
       "      <td>727</td>\n",
       "    </tr>\n",
       "    <tr>\n",
       "      <th>14311</th>\n",
       "      <td>0.0</td>\n",
       "      <td>318</td>\n",
       "      <td>48</td>\n",
       "      <td>318</td>\n",
       "      <td>318</td>\n",
       "    </tr>\n",
       "    <tr>\n",
       "      <th>14312</th>\n",
       "      <td>750000.0</td>\n",
       "      <td>502</td>\n",
       "      <td>54</td>\n",
       "      <td>318</td>\n",
       "      <td>318</td>\n",
       "    </tr>\n",
       "    <tr>\n",
       "      <th>14313</th>\n",
       "      <td>275000.0</td>\n",
       "      <td>867</td>\n",
       "      <td>74</td>\n",
       "      <td>665</td>\n",
       "      <td>665</td>\n",
       "    </tr>\n",
       "    <tr>\n",
       "      <th>14314</th>\n",
       "      <td>312000.0</td>\n",
       "      <td>855</td>\n",
       "      <td>72</td>\n",
       "      <td>766</td>\n",
       "      <td>766</td>\n",
       "    </tr>\n",
       "  </tbody>\n",
       "</table>\n",
       "<p>11904 rows × 5 columns</p>\n",
       "</div>"
      ],
      "text/plain": [
       "         ingreso  ingreso_ponderado  edad  PONDERA_x  PONDERA_y\n",
       "2      1750000.0                401    81        277        277\n",
       "3       400000.0                354    78        277        277\n",
       "4      1200000.0                328    65        281        281\n",
       "5       435600.0                366    66        281        281\n",
       "6      1125000.0                362    30        281        281\n",
       "...          ...                ...   ...        ...        ...\n",
       "14310  1300000.0               1374    34        727        727\n",
       "14311        0.0                318    48        318        318\n",
       "14312   750000.0                502    54        318        318\n",
       "14313   275000.0                867    74        665        665\n",
       "14314   312000.0                855    72        766        766\n",
       "\n",
       "[11904 rows x 5 columns]"
      ]
     },
     "execution_count": 12,
     "metadata": {},
     "output_type": "execute_result"
    }
   ],
   "source": [
    "hogares_personas[hogares_personas[\"ingreso\"] !=-9][[\"ingreso\", \"ingreso_ponderado\", \"edad\", \"PONDERA_x\", \"PONDERA_y\"]]"
   ]
  },
  {
   "cell_type": "markdown",
   "id": "d6d06a4f",
   "metadata": {},
   "source": [
    "Reemplazando los ingresos en -9 por 0."
   ]
  },
  {
   "cell_type": "code",
   "execution_count": 18,
   "id": "d47b76b0",
   "metadata": {},
   "outputs": [],
   "source": [
    "hogares_personas[hogares_personas[\"ingreso\"] == -9][\"ingreso\"] = 0\n",
    "hogares_personas.loc[(hogares_personas[\"ingreso\"] == -9), 'ingreso'] = 0\n"
   ]
  },
  {
   "cell_type": "code",
   "execution_count": 20,
   "id": "4fafb65d",
   "metadata": {},
   "outputs": [
    {
     "data": {
      "text/html": [
       "<div>\n",
       "<style scoped>\n",
       "    .dataframe tbody tr th:only-of-type {\n",
       "        vertical-align: middle;\n",
       "    }\n",
       "\n",
       "    .dataframe tbody tr th {\n",
       "        vertical-align: top;\n",
       "    }\n",
       "\n",
       "    .dataframe thead th {\n",
       "        text-align: right;\n",
       "    }\n",
       "</style>\n",
       "<table border=\"1\" class=\"dataframe\">\n",
       "  <thead>\n",
       "    <tr style=\"text-align: right;\">\n",
       "      <th></th>\n",
       "      <th>ingreso</th>\n",
       "    </tr>\n",
       "  </thead>\n",
       "  <tbody>\n",
       "    <tr>\n",
       "      <th>count</th>\n",
       "      <td>1.430000e+04</td>\n",
       "    </tr>\n",
       "    <tr>\n",
       "      <th>mean</th>\n",
       "      <td>2.953937e+05</td>\n",
       "    </tr>\n",
       "    <tr>\n",
       "      <th>std</th>\n",
       "      <td>4.934710e+05</td>\n",
       "    </tr>\n",
       "    <tr>\n",
       "      <th>min</th>\n",
       "      <td>0.000000e+00</td>\n",
       "    </tr>\n",
       "    <tr>\n",
       "      <th>25%</th>\n",
       "      <td>0.000000e+00</td>\n",
       "    </tr>\n",
       "    <tr>\n",
       "      <th>50%</th>\n",
       "      <td>0.000000e+00</td>\n",
       "    </tr>\n",
       "    <tr>\n",
       "      <th>75%</th>\n",
       "      <td>4.300000e+05</td>\n",
       "    </tr>\n",
       "    <tr>\n",
       "      <th>max</th>\n",
       "      <td>1.237000e+07</td>\n",
       "    </tr>\n",
       "  </tbody>\n",
       "</table>\n",
       "</div>"
      ],
      "text/plain": [
       "            ingreso\n",
       "count  1.430000e+04\n",
       "mean   2.953937e+05\n",
       "std    4.934710e+05\n",
       "min    0.000000e+00\n",
       "25%    0.000000e+00\n",
       "50%    0.000000e+00\n",
       "75%    4.300000e+05\n",
       "max    1.237000e+07"
      ]
     },
     "execution_count": 20,
     "metadata": {},
     "output_type": "execute_result"
    }
   ],
   "source": [
    "hogares_personas[[\"ingreso\"]].describe()"
   ]
  },
  {
   "cell_type": "code",
   "execution_count": 25,
   "id": "dae1ddc5",
   "metadata": {},
   "outputs": [
    {
     "data": {
      "text/plain": [
       "(array([1.0647e+04, 2.1370e+03, 9.1500e+02, 3.2500e+02, 1.3700e+02,\n",
       "        4.0000e+01, 4.4000e+01, 2.4000e+01, 1.1000e+01, 7.0000e+00,\n",
       "        5.0000e+00, 1.0000e+00, 1.0000e+00, 1.0000e+00, 1.0000e+00,\n",
       "        0.0000e+00, 1.0000e+00, 0.0000e+00, 0.0000e+00, 0.0000e+00,\n",
       "        0.0000e+00, 0.0000e+00, 1.0000e+00, 0.0000e+00, 0.0000e+00,\n",
       "        0.0000e+00, 1.0000e+00, 0.0000e+00, 0.0000e+00, 1.0000e+00]),\n",
       " array([       0.        ,   412333.33333333,   824666.66666667,\n",
       "         1237000.        ,  1649333.33333333,  2061666.66666667,\n",
       "         2474000.        ,  2886333.33333333,  3298666.66666667,\n",
       "         3711000.        ,  4123333.33333333,  4535666.66666667,\n",
       "         4948000.        ,  5360333.33333333,  5772666.66666667,\n",
       "         6185000.        ,  6597333.33333333,  7009666.66666667,\n",
       "         7422000.        ,  7834333.33333333,  8246666.66666667,\n",
       "         8659000.        ,  9071333.33333333,  9483666.66666667,\n",
       "         9896000.        , 10308333.33333333, 10720666.66666667,\n",
       "        11133000.        , 11545333.33333333, 11957666.66666667,\n",
       "        12370000.        ]),\n",
       " <BarContainer object of 30 artists>)"
      ]
     },
     "execution_count": 25,
     "metadata": {},
     "output_type": "execute_result"
    },
    {
     "data": {
      "image/png": "[encoded data removed]",
      "text/plain": [
       "<Figure size 640x480 with 1 Axes>"
      ]
     },
     "metadata": {},
     "output_type": "display_data"
    }
   ],
   "source": [
    "plt.hist(hogares_personas[\"ingreso\"], edgecolor='black', bins=30)"
   ]
  }
 ],
 "metadata": {
  "kernelspec": {
   "display_name": ".venv",
   "language": "python",
   "name": "python3"
  },
  "language_info": {
   "codemirror_mode": {
    "name": "ipython",
    "version": 3
   },
   "file_extension": ".py",
   "mimetype": "text/x-python",
   "name": "python",
   "nbconvert_exporter": "python",
   "pygments_lexer": "ipython3",
   "version": "3.10.12"
  }
 },
 "nbformat": 4,
 "nbformat_minor": 5
}
