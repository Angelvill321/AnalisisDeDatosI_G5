{
 "cells": [
  {
   "cell_type": "code",
   "execution_count": 2,
   "id": "58559289",
   "metadata": {},
   "outputs": [],
   "source": [
    "import pandas as pd\n",
    "import matplotlib.pyplot as plt\n",
    "import numpy as np\n",
    "%matplotlib inline  \n"
   ]
  },
  {
   "cell_type": "code",
   "execution_count": 3,
   "id": "b48647b5",
   "metadata": {},
   "outputs": [],
   "source": [
    "from hogares import EncuestaHogares\n",
    "\n",
    "encuesta = EncuestaHogares(\"usu_hogar_T324.xlsx\", \"usu_individual_T324.xlsx\")\n",
    "hogares, personas = encuesta.memoria()\n",
    "hogares, personas = encuesta.filtrados_por_region(43, hogares, personas)\n",
    "hogares_personas = encuesta.df_hogares_personas(hogares, personas)"
   ]
  }
 ],
 "metadata": {
  "kernelspec": {
   "display_name": ".venv",
   "language": "python",
   "name": "python3"
  },
  "language_info": {
   "codemirror_mode": {
    "name": "ipython",
    "version": 3
   },
   "file_extension": ".py",
   "mimetype": "text/x-python",
   "name": "python",
   "nbconvert_exporter": "python",
   "pygments_lexer": "ipython3",
   "version": "3.10.12"
  }
 },
 "nbformat": 4,
 "nbformat_minor": 5
}
