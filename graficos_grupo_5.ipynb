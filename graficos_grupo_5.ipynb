{
 "cells": [
  {
   "cell_type": "code",
   "execution_count": 1,
   "id": "58559289",
   "metadata": {},
   "outputs": [],
   "source": [
    "import pandas as pd\n",
    "import matplotlib.pyplot as plt\n",
    "import numpy as np\n",
    "%matplotlib inline  \n"
   ]
  },
  {
   "cell_type": "code",
   "execution_count": 2,
   "id": "b48647b5",
   "metadata": {},
   "outputs": [],
   "source": [
    "from hogares import EncuestaHogares\n",
    "\n",
    "encuesta = EncuestaHogares(\"usu_hogar_T324.xlsx\", \"usu_individual_T324.xlsx\")\n",
    "hogares, personas = encuesta.memoria()\n",
    "hogares, personas = encuesta.filtrados_por_region(43, hogares, personas)\n",
    "subconjunto_hogares, subconjunto_personas = encuesta.subconjunto_columnas(hogares, personas)\n",
    "subconjunto_hogares_personas = encuesta.df_hogares_personas(subconjunto_hogares, subconjunto_personas)"
   ]
  },
  {
   "cell_type": "markdown",
   "id": "a34f944d",
   "metadata": {},
   "source": [
    "### Edad\n",
    "Cuantitativa discreta"
   ]
  },
  {
   "cell_type": "code",
   "execution_count": 3,
   "id": "4e1e28d5",
   "metadata": {},
   "outputs": [
    {
     "data": {
      "text/plain": [
       "count    14315.000000\n",
       "mean        37.251764\n",
       "std         22.394482\n",
       "min         -1.000000\n",
       "25%         18.000000\n",
       "50%         35.000000\n",
       "75%         55.000000\n",
       "max        102.000000\n",
       "Name: edad, dtype: float64"
      ]
     },
     "execution_count": 3,
     "metadata": {},
     "output_type": "execute_result"
    }
   ],
   "source": [
    "personas[\"edad\"].describe()"
   ]
  },
  {
   "cell_type": "markdown",
   "id": "c4d45328",
   "metadata": {},
   "source": [
    "#### Valores Faltantes/Incorrectos\n",
    "Hay 101 personas con edad -1."
   ]
  },
  {
   "cell_type": "code",
   "execution_count": 44,
   "id": "73059bbc",
   "metadata": {},
   "outputs": [
    {
     "data": {
      "text/plain": [
       "101"
      ]
     },
     "execution_count": 44,
     "metadata": {},
     "output_type": "execute_result"
    }
   ],
   "source": [
    "len(personas[(personas[\"edad\"]==-1)])"
   ]
  },
  {
   "cell_type": "markdown",
   "id": "836401d2",
   "metadata": {},
   "source": [
    "Se evalúa la fecha de nacimiento"
   ]
  },
  {
   "cell_type": "code",
   "execution_count": 72,
   "id": "460dff48",
   "metadata": {},
   "outputs": [
    {
     "name": "stderr",
     "output_type": "stream",
     "text": [
      "/tmp/ipykernel_5705/1670591876.py:4: SettingWithCopyWarning: \n",
      "A value is trying to be set on a copy of a slice from a DataFrame.\n",
      "Try using .loc[row_indexer,col_indexer] = value instead\n",
      "\n",
      "See the caveats in the documentation: https://pandas.pydata.org/pandas-docs/stable/user_guide/indexing.html#returning-a-view-versus-a-copy\n",
      "  aux[\"año\"] = aux[\"CH05\"].apply(lambda dt: dt.year)\n"
     ]
    },
    {
     "data": {
      "image/png": "[encoded data removed]",
      "text/plain": [
       "<Figure size 640x480 with 1 Axes>"
      ]
     },
     "metadata": {},
     "output_type": "display_data"
    }
   ],
   "source": [
    "import datetime\n",
    "\n",
    "aux = personas[personas[\"edad\"]==-1]\n",
    "aux[\"año\"] = aux[\"CH05\"].apply(lambda dt: dt.year)\n",
    "ocurrencias_por_anio = aux[\"año\"].value_counts().reset_index(name=\"frecuencia\")\n",
    "ocurrencias_por_anio.sort_values(\"año\", inplace=True)\n",
    "ocurrencias_por_anio.head()\n",
    "\n",
    "axes = ocurrencias_por_anio.plot.bar(x=\"año\", y=\"frecuencia\")\n",
    "\n"
   ]
  }
 ],
 "metadata": {
  "kernelspec": {
   "display_name": ".venv",
   "language": "python",
   "name": "python3"
  },
  "language_info": {
   "codemirror_mode": {
    "name": "ipython",
    "version": 3
   },
   "file_extension": ".py",
   "mimetype": "text/x-python",
   "name": "python",
   "nbconvert_exporter": "python",
   "pygments_lexer": "ipython3",
   "version": "3.10.12"
  }
 },
 "nbformat": 4,
 "nbformat_minor": 5
}
