{
 "cells": [
  {
   "cell_type": "markdown",
   "id": "6cb97dba",
   "metadata": {
    "notebookRunGroups": {
     "groupValue": "1"
    }
   },
   "source": [
    "### Problemática:\n",
    "\n",
    "**¿Qué factores personales y comportamentales se relacionan con los ingresos individuales en la región Pampeana?**\n",
    "Este análisis busca explorar variables como el sexo, la edad y el nivel educativo, así como ciertas prácticas financieras del hogar (pedir préstamos, comprar en cuotas o al fiado), se asocian con el nivel de ingreso declarado por las personas.\n",
    "Se trabaja sobre la region Pampeana, ya que es una region de intereses, dado que algunos participantes del grupo viven en la region y sirve para poder conocer ciertas caracteristicas de su zona.\n",
    "\n",
    "### Variables:\n",
    "Las variables a trabajar son:\n",
    "\n",
    "| Nombre Tabla  | Descripción                |\n",
    "|---------------|----------------------------|\n",
    "| P47T          | Ingreso total ind. (mes)   |\n",
    "| NIVEL_ED      | Nivel educativo alcanzado  |\n",
    "| CH04          | Sexo                       |\n",
    "| CH06          | Edad en años cumplidos     |\n",
    "| V14           | Piden préstamos a personas |\n",
    "| V15           | Piden préstamos a bancos   |\n",
    "| V16           | Compran en cuotas o fiado  |\n",
    "| ESTADO        | Condición de actividad     |\n",
    "\n",
    "### Población total y muestra:\n",
    "Este trabajo se basa en los datos provistos por la Encuesta Permanente de Hogares (EPH) correspondientes al tercer trimestre de 2024. Para este análisis se utilizaron tanto la base de datos de personas (individual) como la base de hogares, que fueron solapadas mediante el identificador común presente en ambas tablas (número de hogar y componente).\n",
    "La población total a la que pertenecen estos datos es la población residente en la República Argentina, de acuerdo a la cobertura de la EPH. Esta población incluye tanto a personas económicamente activas como inactivas, y contempla diversos niveles educativos, edades y situaciones familiares.\n",
    "\n",
    "Para el análisis se realizó un recorte geográfico, tomando únicamente los hogares y personas correspondientes a la región Pampeana, que abarca aglomerados urbanos en las provincias de Buenos Aires, Córdoba, Santa Fe, Entre Ríos y La Pampa. Elegimos esta región porque representa una parte muy importante de la población del país y tiene mucha variedad en cuanto a situaciones sociales y económicas. Esto nos permite analizar distintos casos dentro de una misma zona.\n",
    "\n",
    "La muestra analizada se compone de personas con ingresos individuales declarados, que además cuentan con información sobre sexo, edad, nivel educativo, y variables asociadas al comportamiento económico del hogar, como la compra en cuotas, al fiado, o el acceso a préstamos. Este enfoque permitió estudiar relaciones entre los ingresos individuales y diversas características sociodemográficas y de consumo dentro de la región Pampeana.\n",
    "\n",
    "### Clasificar las variables elegidas.\n",
    "|Columna  | Variable                  | Tipo de variable       | Fuente (tabla)    |\n",
    "|---------|---------------------------|------------------------|-------------------|\n",
    "|P47T     | Ingreso individual        | Cuantitativa continua  | Base individual   |\n",
    "|CH06     | Edad                      | Cuantitativa continua  | Base individual   |\n",
    "|CH04     | Sexo                      | Cualitativa            | Base individual   |\n",
    "|NIVEL_ED | Nivel educativo           | Cualitativa ordinal    | Base individual   |\n",
    "|ESTADO   | Estado actividad          | Cualitativa            | Base individual   |\n",
    "|V16      | Compra en cuotas o fiado  | Cualitativa            | Base de hogares   |\n",
    "|V15      | Préstamo banco            | Cualitativa            | Base de hogares   |\n",
    "|V14      | Préstamo personas         | Cualitativa            | Base de hogares   |\n",
    "\n",
    "### Diagrama de Tablas vs Variables Seleccionadas\n",
    "![Distribución de variables en Hogares y Personas](der.png)\n",
    "\n"
   ]
  },
  {
   "cell_type": "markdown",
   "id": "50fc64ec",
   "metadata": {},
   "source": [
    "### Carga de datos de las encuestas"
   ]
  },
  {
   "cell_type": "code",
   "execution_count": 103,
   "id": "dc96acf9",
   "metadata": {},
   "outputs": [],
   "source": [
    "import pandas as pd\n",
    "\n",
    "hogares = pd.read_excel(\"usu_hogar_T324.xlsx\")\n",
    "personas = pd.read_excel(\"usu_individual_T324.xlsx\")"
   ]
  },
  {
   "cell_type": "markdown",
   "id": "e9b12084",
   "metadata": {},
   "source": [
    "### Renombramiento de columnas con nombres mas intuitivos."
   ]
  },
  {
   "cell_type": "code",
   "execution_count": 104,
   "id": "bbadb127",
   "metadata": {},
   "outputs": [],
   "source": [
    "# Renombrar columnas de personas\n",
    "renombrar_personas = {\n",
    "    \"CH04\": \"sexo\",\n",
    "    \"CH06\": \"edad\",\n",
    "    \"P47T\": \"ingreso\",\n",
    "    \"NIVEL_ED\": \"nivel_educativo\",\n",
    "    \"ESTADO\": \"estado_actividad\",\n",
    "    \"CODUSU\": \"id_vivienda\",\n",
    "    \"NRO_HOGAR\": \"id_hogar\",\n",
    "    \"REGION\": \"region\"\n",
    "}\n",
    "personas.rename(columns=renombrar_personas, inplace=True)\n",
    "\n",
    "# Renombrar columnas de hogares\n",
    "renombrar_hogares = {\n",
    "    \"V14\": \"prestamo_personas\",\n",
    "    \"V15\": \"prestamo_banco\",\n",
    "    \"V16\": \"compra_cuotas\",\n",
    "    \"CODUSU\": \"id_vivienda\",\n",
    "    \"NRO_HOGAR\": \"id_hogar\",\n",
    "    \"REGION\": \"region\"\n",
    "}\n",
    "hogares.rename(columns=renombrar_hogares, inplace=True)"
   ]
  },
  {
   "cell_type": "markdown",
   "id": "547c1c1f",
   "metadata": {},
   "source": [
    "##### Configuración de dependencias"
   ]
  },
  {
   "cell_type": "code",
   "execution_count": 168,
   "id": "4bd04e7d",
   "metadata": {},
   "outputs": [],
   "source": [
    "import matplotlib.pyplot as plt\n",
    "import numpy as np\n",
    "import seaborn as sns\n",
    "%matplotlib inline  "
   ]
  },
  {
   "cell_type": "markdown",
   "id": "9ef3ed28",
   "metadata": {},
   "source": [
    "Como se va a trabajar sobre la región Pampeana (Número 43) se filtra todas las filas que cumplan esa valor."
   ]
  },
  {
   "cell_type": "code",
   "execution_count": 51,
   "id": "7476ce88",
   "metadata": {},
   "outputs": [],
   "source": [
    "personas_fil_pam = personas[personas['region'] == 43]"
   ]
  },
  {
   "cell_type": "code",
   "execution_count": 106,
   "id": "4ce2cb6a",
   "metadata": {},
   "outputs": [
    {
     "name": "stdout",
     "output_type": "stream",
     "text": [
      "Longitud Tabla Personas: 47564\n",
      "Longitud Tabla Personas Filtrada: 14315\n"
     ]
    }
   ],
   "source": [
    "print(\"Longitud Tabla Personas:\", len(personas))\n",
    "print(\"Longitud Tabla Personas Filtrada:\", len(personas_fil_pam))\n"
   ]
  },
  {
   "cell_type": "markdown",
   "id": "ed60bd26",
   "metadata": {},
   "source": [
    "Se redujo el total de la tabla personas un 30%.\n",
    "Ahora se va a filtrar las columnas (variables) a trabajar:"
   ]
  },
  {
   "cell_type": "code",
   "execution_count": 107,
   "id": "dc57708d",
   "metadata": {},
   "outputs": [
    {
     "data": {
      "text/html": [
       "<div>\n",
       "<style scoped>\n",
       "    .dataframe tbody tr th:only-of-type {\n",
       "        vertical-align: middle;\n",
       "    }\n",
       "\n",
       "    .dataframe tbody tr th {\n",
       "        vertical-align: top;\n",
       "    }\n",
       "\n",
       "    .dataframe thead th {\n",
       "        text-align: right;\n",
       "    }\n",
       "</style>\n",
       "<table border=\"1\" class=\"dataframe\">\n",
       "  <thead>\n",
       "    <tr style=\"text-align: right;\">\n",
       "      <th></th>\n",
       "      <th>id_vivienda</th>\n",
       "      <th>id_hogar</th>\n",
       "      <th>sexo</th>\n",
       "      <th>edad</th>\n",
       "      <th>ingreso</th>\n",
       "      <th>nivel_educativo</th>\n",
       "      <th>estado_actividad</th>\n",
       "      <th>region</th>\n",
       "    </tr>\n",
       "  </thead>\n",
       "  <tbody>\n",
       "    <tr>\n",
       "      <th>0</th>\n",
       "      <td>TQRMNOPTVHLOKRCDEFJAH00803557</td>\n",
       "      <td>1</td>\n",
       "      <td>2</td>\n",
       "      <td>33</td>\n",
       "      <td>-9.0</td>\n",
       "      <td>6</td>\n",
       "      <td>1</td>\n",
       "      <td>43</td>\n",
       "    </tr>\n",
       "    <tr>\n",
       "      <th>1</th>\n",
       "      <td>TQRMNOPTVHLOKRCDEFJAH00803557</td>\n",
       "      <td>1</td>\n",
       "      <td>1</td>\n",
       "      <td>33</td>\n",
       "      <td>-9.0</td>\n",
       "      <td>6</td>\n",
       "      <td>1</td>\n",
       "      <td>43</td>\n",
       "    </tr>\n",
       "    <tr>\n",
       "      <th>2</th>\n",
       "      <td>TQRMNOQPRHKLKNCDEFJAH00868631</td>\n",
       "      <td>1</td>\n",
       "      <td>1</td>\n",
       "      <td>81</td>\n",
       "      <td>1750000.0</td>\n",
       "      <td>6</td>\n",
       "      <td>1</td>\n",
       "      <td>43</td>\n",
       "    </tr>\n",
       "    <tr>\n",
       "      <th>3</th>\n",
       "      <td>TQRMNOQPRHKLKNCDEFJAH00868631</td>\n",
       "      <td>1</td>\n",
       "      <td>2</td>\n",
       "      <td>78</td>\n",
       "      <td>400000.0</td>\n",
       "      <td>6</td>\n",
       "      <td>3</td>\n",
       "      <td>43</td>\n",
       "    </tr>\n",
       "    <tr>\n",
       "      <th>4</th>\n",
       "      <td>TQRMNORVXHKLKNCDEFJAH00868632</td>\n",
       "      <td>1</td>\n",
       "      <td>1</td>\n",
       "      <td>65</td>\n",
       "      <td>1200000.0</td>\n",
       "      <td>4</td>\n",
       "      <td>1</td>\n",
       "      <td>43</td>\n",
       "    </tr>\n",
       "  </tbody>\n",
       "</table>\n",
       "</div>"
      ],
      "text/plain": [
       "                     id_vivienda  id_hogar  sexo  edad    ingreso  \\\n",
       "0  TQRMNOPTVHLOKRCDEFJAH00803557         1     2    33       -9.0   \n",
       "1  TQRMNOPTVHLOKRCDEFJAH00803557         1     1    33       -9.0   \n",
       "2  TQRMNOQPRHKLKNCDEFJAH00868631         1     1    81  1750000.0   \n",
       "3  TQRMNOQPRHKLKNCDEFJAH00868631         1     2    78   400000.0   \n",
       "4  TQRMNORVXHKLKNCDEFJAH00868632         1     1    65  1200000.0   \n",
       "\n",
       "   nivel_educativo  estado_actividad  region  \n",
       "0                6                 1      43  \n",
       "1                6                 1      43  \n",
       "2                6                 1      43  \n",
       "3                6                 3      43  \n",
       "4                4                 1      43  "
      ]
     },
     "execution_count": 107,
     "metadata": {},
     "output_type": "execute_result"
    }
   ],
   "source": [
    "personas_fil = personas_fil_pam[['id_vivienda', 'id_hogar', 'sexo', 'edad', 'ingreso', 'nivel_educativo', 'estado_actividad', 'region']]\n",
    "personas_fil.head()"
   ]
  },
  {
   "cell_type": "code",
   "execution_count": 108,
   "id": "a3342f78",
   "metadata": {},
   "outputs": [
    {
     "data": {
      "text/plain": [
       "id_vivienda          0\n",
       "id_hogar             0\n",
       "sexo                 0\n",
       "edad                 0\n",
       "ingreso             15\n",
       "nivel_educativo      0\n",
       "estado_actividad     0\n",
       "region               0\n",
       "dtype: int64"
      ]
     },
     "execution_count": 108,
     "metadata": {},
     "output_type": "execute_result"
    }
   ],
   "source": [
    "personas_fil.isnull().sum()"
   ]
  },
  {
   "cell_type": "markdown",
   "id": "0e83cdc9",
   "metadata": {},
   "source": [
    "Encontramos que en la columna de **Ingreso** hay 15 filas nulas. Sobre la variable de ingresos. Analizando filtramos las filas con valores nulos."
   ]
  },
  {
   "cell_type": "code",
   "execution_count": 109,
   "id": "774af0c7",
   "metadata": {},
   "outputs": [
    {
     "data": {
      "text/html": [
       "<div>\n",
       "<style scoped>\n",
       "    .dataframe tbody tr th:only-of-type {\n",
       "        vertical-align: middle;\n",
       "    }\n",
       "\n",
       "    .dataframe tbody tr th {\n",
       "        vertical-align: top;\n",
       "    }\n",
       "\n",
       "    .dataframe thead th {\n",
       "        text-align: right;\n",
       "    }\n",
       "</style>\n",
       "<table border=\"1\" class=\"dataframe\">\n",
       "  <thead>\n",
       "    <tr style=\"text-align: right;\">\n",
       "      <th></th>\n",
       "      <th>id_vivienda</th>\n",
       "      <th>id_hogar</th>\n",
       "      <th>sexo</th>\n",
       "      <th>edad</th>\n",
       "      <th>ingreso</th>\n",
       "      <th>nivel_educativo</th>\n",
       "      <th>estado_actividad</th>\n",
       "      <th>region</th>\n",
       "    </tr>\n",
       "  </thead>\n",
       "  <tbody>\n",
       "    <tr>\n",
       "      <th>731</th>\n",
       "      <td>TQRMNOPYWHKMKMCDEFMDB00868439</td>\n",
       "      <td>1</td>\n",
       "      <td>2</td>\n",
       "      <td>56</td>\n",
       "      <td>NaN</td>\n",
       "      <td>4</td>\n",
       "      <td>0</td>\n",
       "      <td>43</td>\n",
       "    </tr>\n",
       "    <tr>\n",
       "      <th>4159</th>\n",
       "      <td>TQRMNOQRWHLNLPCDEIKAH00807963</td>\n",
       "      <td>1</td>\n",
       "      <td>1</td>\n",
       "      <td>53</td>\n",
       "      <td>NaN</td>\n",
       "      <td>2</td>\n",
       "      <td>0</td>\n",
       "      <td>43</td>\n",
       "    </tr>\n",
       "    <tr>\n",
       "      <th>5439</th>\n",
       "      <td>TQRMNOPRTHJOLSCDEFKID00862865</td>\n",
       "      <td>1</td>\n",
       "      <td>1</td>\n",
       "      <td>16</td>\n",
       "      <td>NaN</td>\n",
       "      <td>3</td>\n",
       "      <td>0</td>\n",
       "      <td>43</td>\n",
       "    </tr>\n",
       "    <tr>\n",
       "      <th>17606</th>\n",
       "      <td>TQRMNORXRHMNKMCDEFIAH00870738</td>\n",
       "      <td>1</td>\n",
       "      <td>1</td>\n",
       "      <td>56</td>\n",
       "      <td>NaN</td>\n",
       "      <td>4</td>\n",
       "      <td>0</td>\n",
       "      <td>43</td>\n",
       "    </tr>\n",
       "    <tr>\n",
       "      <th>19213</th>\n",
       "      <td>TQRMNOPXUHLKKRCDEFMDB00804085</td>\n",
       "      <td>1</td>\n",
       "      <td>1</td>\n",
       "      <td>37</td>\n",
       "      <td>NaN</td>\n",
       "      <td>4</td>\n",
       "      <td>0</td>\n",
       "      <td>43</td>\n",
       "    </tr>\n",
       "    <tr>\n",
       "      <th>19214</th>\n",
       "      <td>TQRMNOPXUHLKKRCDEFMDB00804085</td>\n",
       "      <td>1</td>\n",
       "      <td>2</td>\n",
       "      <td>39</td>\n",
       "      <td>NaN</td>\n",
       "      <td>6</td>\n",
       "      <td>0</td>\n",
       "      <td>43</td>\n",
       "    </tr>\n",
       "    <tr>\n",
       "      <th>21233</th>\n",
       "      <td>TQRMNOQVVHLMKTCDEGKDB00805043</td>\n",
       "      <td>2</td>\n",
       "      <td>1</td>\n",
       "      <td>41</td>\n",
       "      <td>NaN</td>\n",
       "      <td>4</td>\n",
       "      <td>0</td>\n",
       "      <td>43</td>\n",
       "    </tr>\n",
       "    <tr>\n",
       "      <th>25056</th>\n",
       "      <td>TQRMNOSSUHJKKTCDEFKID00870296</td>\n",
       "      <td>1</td>\n",
       "      <td>1</td>\n",
       "      <td>41</td>\n",
       "      <td>NaN</td>\n",
       "      <td>4</td>\n",
       "      <td>0</td>\n",
       "      <td>43</td>\n",
       "    </tr>\n",
       "    <tr>\n",
       "      <th>25057</th>\n",
       "      <td>TQRMNOSSUHJKKTCDEFKID00870296</td>\n",
       "      <td>1</td>\n",
       "      <td>2</td>\n",
       "      <td>35</td>\n",
       "      <td>NaN</td>\n",
       "      <td>6</td>\n",
       "      <td>0</td>\n",
       "      <td>43</td>\n",
       "    </tr>\n",
       "    <tr>\n",
       "      <th>39376</th>\n",
       "      <td>TQRMNOQPVHKNLQCDEFMDB00871976</td>\n",
       "      <td>1</td>\n",
       "      <td>1</td>\n",
       "      <td>45</td>\n",
       "      <td>NaN</td>\n",
       "      <td>4</td>\n",
       "      <td>0</td>\n",
       "      <td>43</td>\n",
       "    </tr>\n",
       "    <tr>\n",
       "      <th>39377</th>\n",
       "      <td>TQRMNOQPVHKNLQCDEFMDB00871976</td>\n",
       "      <td>1</td>\n",
       "      <td>1</td>\n",
       "      <td>54</td>\n",
       "      <td>NaN</td>\n",
       "      <td>3</td>\n",
       "      <td>0</td>\n",
       "      <td>43</td>\n",
       "    </tr>\n",
       "    <tr>\n",
       "      <th>41842</th>\n",
       "      <td>TQRMNOPXXHJMKMCDEFIAH00866329</td>\n",
       "      <td>1</td>\n",
       "      <td>1</td>\n",
       "      <td>28</td>\n",
       "      <td>NaN</td>\n",
       "      <td>5</td>\n",
       "      <td>0</td>\n",
       "      <td>43</td>\n",
       "    </tr>\n",
       "    <tr>\n",
       "      <th>41844</th>\n",
       "      <td>TQRMNOPXXHJMKMCDEFIAH00866329</td>\n",
       "      <td>1</td>\n",
       "      <td>1</td>\n",
       "      <td>51</td>\n",
       "      <td>NaN</td>\n",
       "      <td>4</td>\n",
       "      <td>0</td>\n",
       "      <td>43</td>\n",
       "    </tr>\n",
       "    <tr>\n",
       "      <th>43813</th>\n",
       "      <td>TQRMNOPPTHJOLOCDEFKID00864753</td>\n",
       "      <td>1</td>\n",
       "      <td>1</td>\n",
       "      <td>47</td>\n",
       "      <td>NaN</td>\n",
       "      <td>4</td>\n",
       "      <td>0</td>\n",
       "      <td>43</td>\n",
       "    </tr>\n",
       "    <tr>\n",
       "      <th>45040</th>\n",
       "      <td>TQRMNOQRXHLMKPCDEIGED00865851</td>\n",
       "      <td>1</td>\n",
       "      <td>1</td>\n",
       "      <td>67</td>\n",
       "      <td>NaN</td>\n",
       "      <td>4</td>\n",
       "      <td>0</td>\n",
       "      <td>43</td>\n",
       "    </tr>\n",
       "  </tbody>\n",
       "</table>\n",
       "</div>"
      ],
      "text/plain": [
       "                         id_vivienda  id_hogar  sexo  edad  ingreso  \\\n",
       "731    TQRMNOPYWHKMKMCDEFMDB00868439         1     2    56      NaN   \n",
       "4159   TQRMNOQRWHLNLPCDEIKAH00807963         1     1    53      NaN   \n",
       "5439   TQRMNOPRTHJOLSCDEFKID00862865         1     1    16      NaN   \n",
       "17606  TQRMNORXRHMNKMCDEFIAH00870738         1     1    56      NaN   \n",
       "19213  TQRMNOPXUHLKKRCDEFMDB00804085         1     1    37      NaN   \n",
       "19214  TQRMNOPXUHLKKRCDEFMDB00804085         1     2    39      NaN   \n",
       "21233  TQRMNOQVVHLMKTCDEGKDB00805043         2     1    41      NaN   \n",
       "25056  TQRMNOSSUHJKKTCDEFKID00870296         1     1    41      NaN   \n",
       "25057  TQRMNOSSUHJKKTCDEFKID00870296         1     2    35      NaN   \n",
       "39376  TQRMNOQPVHKNLQCDEFMDB00871976         1     1    45      NaN   \n",
       "39377  TQRMNOQPVHKNLQCDEFMDB00871976         1     1    54      NaN   \n",
       "41842  TQRMNOPXXHJMKMCDEFIAH00866329         1     1    28      NaN   \n",
       "41844  TQRMNOPXXHJMKMCDEFIAH00866329         1     1    51      NaN   \n",
       "43813  TQRMNOPPTHJOLOCDEFKID00864753         1     1    47      NaN   \n",
       "45040  TQRMNOQRXHLMKPCDEIGED00865851         1     1    67      NaN   \n",
       "\n",
       "       nivel_educativo  estado_actividad  region  \n",
       "731                  4                 0      43  \n",
       "4159                 2                 0      43  \n",
       "5439                 3                 0      43  \n",
       "17606                4                 0      43  \n",
       "19213                4                 0      43  \n",
       "19214                6                 0      43  \n",
       "21233                4                 0      43  \n",
       "25056                4                 0      43  \n",
       "25057                6                 0      43  \n",
       "39376                4                 0      43  \n",
       "39377                3                 0      43  \n",
       "41842                5                 0      43  \n",
       "41844                4                 0      43  \n",
       "43813                4                 0      43  \n",
       "45040                4                 0      43  "
      ]
     },
     "execution_count": 109,
     "metadata": {},
     "output_type": "execute_result"
    }
   ],
   "source": [
    "personasnulos = personas_fil[personas_fil.isnull().any(axis=1)]\n",
    "personasnulos"
   ]
  },
  {
   "cell_type": "markdown",
   "id": "bb61d280",
   "metadata": {},
   "source": [
    "Podemos observar que corresponde a que la encuesta NO HA SIDO RESPONDIDA (Codigo de Estado \"0\"). Por lo que proponemos dado que casi todos los datos (14/15) son mayores de edad, promediar el valor de ingreso mensual para completar los campos nulos a fin de poder utilizar los datos sin que afecte las medias muestrales."
   ]
  },
  {
   "cell_type": "code",
   "execution_count": 110,
   "id": "273a08fb",
   "metadata": {},
   "outputs": [
    {
     "name": "stderr",
     "output_type": "stream",
     "text": [
      "C:\\Users\\angel\\AppData\\Local\\Temp\\ipykernel_6380\\4078023206.py:2: SettingWithCopyWarning: \n",
      "A value is trying to be set on a copy of a slice from a DataFrame.\n",
      "Try using .loc[row_indexer,col_indexer] = value instead\n",
      "\n",
      "See the caveats in the documentation: https://pandas.pydata.org/pandas-docs/stable/user_guide/indexing.html#returning-a-view-versus-a-copy\n",
      "  personas_fil.loc[:, 'ingreso'] = personas_fil['ingreso'].fillna(promedio_ingresos)\n"
     ]
    }
   ],
   "source": [
    "promedio_ingresos = personas_fil['ingreso'].mean()\n",
    "personas_fil.loc[:, 'ingreso'] = personas_fil['ingreso'].fillna(promedio_ingresos)"
   ]
  },
  {
   "cell_type": "markdown",
   "id": "a338d2d8",
   "metadata": {},
   "source": [
    "Hacemos un resumen rápido estádistico."
   ]
  },
  {
   "cell_type": "code",
   "execution_count": 111,
   "id": "b61b5988",
   "metadata": {},
   "outputs": [
    {
     "data": {
      "text/html": [
       "<div>\n",
       "<style scoped>\n",
       "    .dataframe tbody tr th:only-of-type {\n",
       "        vertical-align: middle;\n",
       "    }\n",
       "\n",
       "    .dataframe tbody tr th {\n",
       "        vertical-align: top;\n",
       "    }\n",
       "\n",
       "    .dataframe thead th {\n",
       "        text-align: right;\n",
       "    }\n",
       "</style>\n",
       "<table border=\"1\" class=\"dataframe\">\n",
       "  <thead>\n",
       "    <tr style=\"text-align: right;\">\n",
       "      <th></th>\n",
       "      <th>id_hogar</th>\n",
       "      <th>sexo</th>\n",
       "      <th>edad</th>\n",
       "      <th>ingreso</th>\n",
       "      <th>nivel_educativo</th>\n",
       "      <th>estado_actividad</th>\n",
       "      <th>region</th>\n",
       "    </tr>\n",
       "  </thead>\n",
       "  <tbody>\n",
       "    <tr>\n",
       "      <th>count</th>\n",
       "      <td>14315.000000</td>\n",
       "      <td>14315.000000</td>\n",
       "      <td>14315.000000</td>\n",
       "      <td>1.431500e+04</td>\n",
       "      <td>14315.000000</td>\n",
       "      <td>14315.000000</td>\n",
       "      <td>14315.0</td>\n",
       "    </tr>\n",
       "    <tr>\n",
       "      <th>mean</th>\n",
       "      <td>1.028222</td>\n",
       "      <td>1.519246</td>\n",
       "      <td>37.258819</td>\n",
       "      <td>2.953922e+05</td>\n",
       "      <td>3.748795</td>\n",
       "      <td>2.182676</td>\n",
       "      <td>43.0</td>\n",
       "    </tr>\n",
       "    <tr>\n",
       "      <th>std</th>\n",
       "      <td>0.175046</td>\n",
       "      <td>0.499647</td>\n",
       "      <td>22.382583</td>\n",
       "      <td>4.932133e+05</td>\n",
       "      <td>1.774382</td>\n",
       "      <td>1.129003</td>\n",
       "      <td>0.0</td>\n",
       "    </tr>\n",
       "    <tr>\n",
       "      <th>min</th>\n",
       "      <td>1.000000</td>\n",
       "      <td>1.000000</td>\n",
       "      <td>0.000000</td>\n",
       "      <td>-9.000000e+00</td>\n",
       "      <td>1.000000</td>\n",
       "      <td>0.000000</td>\n",
       "      <td>43.0</td>\n",
       "    </tr>\n",
       "    <tr>\n",
       "      <th>25%</th>\n",
       "      <td>1.000000</td>\n",
       "      <td>1.000000</td>\n",
       "      <td>18.000000</td>\n",
       "      <td>0.000000e+00</td>\n",
       "      <td>2.000000</td>\n",
       "      <td>1.000000</td>\n",
       "      <td>43.0</td>\n",
       "    </tr>\n",
       "    <tr>\n",
       "      <th>50%</th>\n",
       "      <td>1.000000</td>\n",
       "      <td>2.000000</td>\n",
       "      <td>35.000000</td>\n",
       "      <td>0.000000e+00</td>\n",
       "      <td>4.000000</td>\n",
       "      <td>3.000000</td>\n",
       "      <td>43.0</td>\n",
       "    </tr>\n",
       "    <tr>\n",
       "      <th>75%</th>\n",
       "      <td>1.000000</td>\n",
       "      <td>2.000000</td>\n",
       "      <td>55.000000</td>\n",
       "      <td>4.300000e+05</td>\n",
       "      <td>5.000000</td>\n",
       "      <td>3.000000</td>\n",
       "      <td>43.0</td>\n",
       "    </tr>\n",
       "    <tr>\n",
       "      <th>max</th>\n",
       "      <td>4.000000</td>\n",
       "      <td>2.000000</td>\n",
       "      <td>102.000000</td>\n",
       "      <td>1.237000e+07</td>\n",
       "      <td>7.000000</td>\n",
       "      <td>4.000000</td>\n",
       "      <td>43.0</td>\n",
       "    </tr>\n",
       "  </tbody>\n",
       "</table>\n",
       "</div>"
      ],
      "text/plain": [
       "           id_hogar          sexo          edad       ingreso  \\\n",
       "count  14315.000000  14315.000000  14315.000000  1.431500e+04   \n",
       "mean       1.028222      1.519246     37.258819  2.953922e+05   \n",
       "std        0.175046      0.499647     22.382583  4.932133e+05   \n",
       "min        1.000000      1.000000      0.000000 -9.000000e+00   \n",
       "25%        1.000000      1.000000     18.000000  0.000000e+00   \n",
       "50%        1.000000      2.000000     35.000000  0.000000e+00   \n",
       "75%        1.000000      2.000000     55.000000  4.300000e+05   \n",
       "max        4.000000      2.000000    102.000000  1.237000e+07   \n",
       "\n",
       "       nivel_educativo  estado_actividad   region  \n",
       "count     14315.000000      14315.000000  14315.0  \n",
       "mean          3.748795          2.182676     43.0  \n",
       "std           1.774382          1.129003      0.0  \n",
       "min           1.000000          0.000000     43.0  \n",
       "25%           2.000000          1.000000     43.0  \n",
       "50%           4.000000          3.000000     43.0  \n",
       "75%           5.000000          3.000000     43.0  \n",
       "max           7.000000          4.000000     43.0  "
      ]
     },
     "execution_count": 111,
     "metadata": {},
     "output_type": "execute_result"
    }
   ],
   "source": [
    "personas_fil.describe()"
   ]
  },
  {
   "cell_type": "markdown",
   "id": "66a298af",
   "metadata": {},
   "source": [
    "Hay un minimo de edad de -1 que no es lógico, y de ingresos -9. Y máximos en ingresos mensual marca como maximo $12.370.000 (puede ser correcto).\n",
    "Viendo el comentario:\n",
    "\n",
    "### Comentario General\n",
    "![Observaciones Comentario](ComentarioGeneral.jpg)"
   ]
  },
  {
   "cell_type": "markdown",
   "id": "fe6f1ac0",
   "metadata": {},
   "source": [
    "Si bien no está explicado, el valor -1 de edad corresponde a edades menores a un año. Analizamos los valores de esas fechas:"
   ]
  },
  {
   "cell_type": "code",
   "execution_count": 124,
   "id": "c4342f6d",
   "metadata": {},
   "outputs": [
    {
     "name": "stderr",
     "output_type": "stream",
     "text": [
      "C:\\Users\\angel\\AppData\\Local\\Temp\\ipykernel_6380\\3306751936.py:2: FutureWarning: In a future version, `df.iloc[:, i] = newvals` will attempt to set the values inplace instead of always setting a new array. To retain the old behavior, use either `df[df.columns[i]] = newvals` or, if columns are non-unique, `df.isetitem(i, newvals)`\n",
      "  personas_fil_pam.loc[:, 'CH05'] = pd.to_datetime(personas_fil_pam['CH05'], errors='coerce')\n"
     ]
    }
   ],
   "source": [
    "personas_fil_pam = personas_fil_pam.copy()\n",
    "personas_fil_pam.loc[:, 'CH05'] = pd.to_datetime(personas_fil_pam['CH05'], errors='coerce')\n",
    "personas_fil_pam_ordenada = personas_fil_pam.sort_values(by='CH05')"
   ]
  },
  {
   "cell_type": "code",
   "execution_count": 125,
   "id": "a0d843c2",
   "metadata": {},
   "outputs": [
    {
     "data": {
      "text/html": [
       "<div>\n",
       "<style scoped>\n",
       "    .dataframe tbody tr th:only-of-type {\n",
       "        vertical-align: middle;\n",
       "    }\n",
       "\n",
       "    .dataframe tbody tr th {\n",
       "        vertical-align: top;\n",
       "    }\n",
       "\n",
       "    .dataframe thead th {\n",
       "        text-align: right;\n",
       "    }\n",
       "</style>\n",
       "<table border=\"1\" class=\"dataframe\">\n",
       "  <thead>\n",
       "    <tr style=\"text-align: right;\">\n",
       "      <th></th>\n",
       "      <th>CH05</th>\n",
       "      <th>edad</th>\n",
       "      <th>ingreso</th>\n",
       "    </tr>\n",
       "  </thead>\n",
       "  <tbody>\n",
       "  </tbody>\n",
       "</table>\n",
       "</div>"
      ],
      "text/plain": [
       "Empty DataFrame\n",
       "Columns: [CH05, edad, ingreso]\n",
       "Index: []"
      ]
     },
     "execution_count": 125,
     "metadata": {},
     "output_type": "execute_result"
    }
   ],
   "source": [
    "filas_edad = personas_fil_pam_ordenada[personas_fil_pam_ordenada['edad'] == -1]\n",
    "filas_edad = filas_edad[['CH05', 'edad', 'ingreso']]\n",
    "filas_edad"
   ]
  },
  {
   "cell_type": "code",
   "execution_count": 126,
   "id": "7722725b",
   "metadata": {},
   "outputs": [
    {
     "data": {
      "text/plain": [
       "Series([], Name: ingreso, dtype: int64)"
      ]
     },
     "execution_count": 126,
     "metadata": {},
     "output_type": "execute_result"
    }
   ],
   "source": [
    "filas_edad['ingreso'].value_counts()"
   ]
  },
  {
   "cell_type": "code",
   "execution_count": 127,
   "id": "ee35f8c8",
   "metadata": {},
   "outputs": [
    {
     "name": "stdout",
     "output_type": "stream",
     "text": [
      "Cantidad de filas con '1900-01-01': 0\n"
     ]
    }
   ],
   "source": [
    "filas_1900 = filas_edad[filas_edad['CH05'] == '1900-01-01']\n",
    "cantidad_filas_1900 = len(filas_1900)\n",
    "print(f\"Cantidad de filas con '1900-01-01': {cantidad_filas_1900}\")"
   ]
  },
  {
   "cell_type": "markdown",
   "id": "18a65f8d",
   "metadata": {},
   "source": [
    "Hay 21 filas que tienen como fecha \"1900-01-01\" y representan el 20% de los valores \"-1\" y estos representan casi el 0,14% de los datos totales de la muestra. Entendemos que se debe a un error y como no tienen ingresos declarados en las 101 filas, entendemos que no son parte del analisis del trabajo, por lo que se no trabajara con las filas que tengan ingreso igual a cero."
   ]
  },
  {
   "cell_type": "code",
   "execution_count": 128,
   "id": "bceb12e6",
   "metadata": {},
   "outputs": [
    {
     "name": "stdout",
     "output_type": "stream",
     "text": [
      "Cantidad de filas con ingresos igual a cero: 4761\n"
     ]
    }
   ],
   "source": [
    "personas_sin_ingresos = personas_fil[personas_fil['ingreso'] == 0]\n",
    "print('Cantidad de filas con ingresos igual a cero:', len(personas_sin_ingresos))"
   ]
  },
  {
   "cell_type": "markdown",
   "id": "6783f5cf",
   "metadata": {},
   "source": [
    "Analizamos los datos -9 como no respondidos:"
   ]
  },
  {
   "cell_type": "code",
   "execution_count": 129,
   "id": "abadeda2",
   "metadata": {},
   "outputs": [
    {
     "name": "stdout",
     "output_type": "stream",
     "text": [
      "cantidad de filas con ingresos -9: 2411\n"
     ]
    }
   ],
   "source": [
    "filas_cod9 = personas_fil[personas_fil['ingreso'] == -9]\n",
    "print('cantidad de filas con ingresos -9:', len(filas_cod9))"
   ]
  },
  {
   "cell_type": "markdown",
   "id": "4b86b32d",
   "metadata": {},
   "source": [
    "**** COMPLETAMOS LOS -9 CON EL PROMEDIO COMO LOS DATOS NULOS? ELIMINAMOS LOS INGRESOS IGUAL A CERO?"
   ]
  },
  {
   "cell_type": "code",
   "execution_count": 146,
   "id": "45d16ea1",
   "metadata": {},
   "outputs": [
    {
     "name": "stdout",
     "output_type": "stream",
     "text": [
      "Longitud Tabla Hogares: 16650\n",
      "Longitud Tabla Hogares Filtrada: 5410\n"
     ]
    }
   ],
   "source": [
    "hogares_fil_pam = hogares[hogares['region'] == 43]\n",
    "print(\"Longitud Tabla Hogares:\", len(hogares))\n",
    "print(\"Longitud Tabla Hogares Filtrada:\", len(hogares_fil_pam))"
   ]
  },
  {
   "cell_type": "markdown",
   "id": "e8b86a4e",
   "metadata": {},
   "source": [
    "Se redujo el total de la tabla personas un 32%. Se tabaja sobre las variables de interés. Como las planillas se conectan con la columna \"CODUSU\" que es el Código para distinguir viviendas, permite aparearlas con Hogares y Personas."
   ]
  },
  {
   "cell_type": "code",
   "execution_count": 147,
   "id": "e17fdcbf",
   "metadata": {},
   "outputs": [],
   "source": [
    "hogares_fil = hogares_fil_pam[['id_vivienda', 'id_hogar', 'region', 'prestamo_personas', 'prestamo_banco', 'compra_cuotas']]\n"
   ]
  },
  {
   "cell_type": "code",
   "execution_count": 148,
   "id": "c3179bfd",
   "metadata": {},
   "outputs": [
    {
     "data": {
      "text/html": [
       "<div>\n",
       "<style scoped>\n",
       "    .dataframe tbody tr th:only-of-type {\n",
       "        vertical-align: middle;\n",
       "    }\n",
       "\n",
       "    .dataframe tbody tr th {\n",
       "        vertical-align: top;\n",
       "    }\n",
       "\n",
       "    .dataframe thead th {\n",
       "        text-align: right;\n",
       "    }\n",
       "</style>\n",
       "<table border=\"1\" class=\"dataframe\">\n",
       "  <thead>\n",
       "    <tr style=\"text-align: right;\">\n",
       "      <th></th>\n",
       "      <th>id_vivienda</th>\n",
       "      <th>id_hogar</th>\n",
       "      <th>region</th>\n",
       "      <th>prestamo_personas</th>\n",
       "      <th>prestamo_banco</th>\n",
       "      <th>compra_cuotas</th>\n",
       "    </tr>\n",
       "  </thead>\n",
       "  <tbody>\n",
       "    <tr>\n",
       "      <th>0</th>\n",
       "      <td>TQRMNOQVSHMMLOCDEFJAH00808791</td>\n",
       "      <td>1</td>\n",
       "      <td>43</td>\n",
       "      <td>2</td>\n",
       "      <td>2</td>\n",
       "      <td>1</td>\n",
       "    </tr>\n",
       "    <tr>\n",
       "      <th>1</th>\n",
       "      <td>TQRMNOPTQHKLLSCDEFJAH00866946</td>\n",
       "      <td>1</td>\n",
       "      <td>43</td>\n",
       "      <td>2</td>\n",
       "      <td>2</td>\n",
       "      <td>1</td>\n",
       "    </tr>\n",
       "    <tr>\n",
       "      <th>2</th>\n",
       "      <td>TQRMNORVTHMOLSCDEFJAH00808761</td>\n",
       "      <td>1</td>\n",
       "      <td>43</td>\n",
       "      <td>2</td>\n",
       "      <td>2</td>\n",
       "      <td>2</td>\n",
       "    </tr>\n",
       "    <tr>\n",
       "      <th>3</th>\n",
       "      <td>TQRMNORVVHMOLSCDEFJAH00866947</td>\n",
       "      <td>1</td>\n",
       "      <td>43</td>\n",
       "      <td>2</td>\n",
       "      <td>2</td>\n",
       "      <td>2</td>\n",
       "    </tr>\n",
       "    <tr>\n",
       "      <th>4</th>\n",
       "      <td>TQRMNOTPTHLNLRCDEFJAH00803474</td>\n",
       "      <td>1</td>\n",
       "      <td>43</td>\n",
       "      <td>2</td>\n",
       "      <td>2</td>\n",
       "      <td>2</td>\n",
       "    </tr>\n",
       "  </tbody>\n",
       "</table>\n",
       "</div>"
      ],
      "text/plain": [
       "                     id_vivienda  id_hogar  region  prestamo_personas  \\\n",
       "0  TQRMNOQVSHMMLOCDEFJAH00808791         1      43                  2   \n",
       "1  TQRMNOPTQHKLLSCDEFJAH00866946         1      43                  2   \n",
       "2  TQRMNORVTHMOLSCDEFJAH00808761         1      43                  2   \n",
       "3  TQRMNORVVHMOLSCDEFJAH00866947         1      43                  2   \n",
       "4  TQRMNOTPTHLNLRCDEFJAH00803474         1      43                  2   \n",
       "\n",
       "   prestamo_banco  compra_cuotas  \n",
       "0               2              1  \n",
       "1               2              1  \n",
       "2               2              2  \n",
       "3               2              2  \n",
       "4               2              2  "
      ]
     },
     "execution_count": 148,
     "metadata": {},
     "output_type": "execute_result"
    }
   ],
   "source": [
    "hogares_fil.head()"
   ]
  },
  {
   "cell_type": "code",
   "execution_count": 149,
   "id": "6e0a19be",
   "metadata": {},
   "outputs": [
    {
     "data": {
      "text/plain": [
       "id_vivienda          0\n",
       "id_hogar             0\n",
       "region               0\n",
       "prestamo_personas    0\n",
       "prestamo_banco       0\n",
       "compra_cuotas        0\n",
       "dtype: int64"
      ]
     },
     "execution_count": 149,
     "metadata": {},
     "output_type": "execute_result"
    }
   ],
   "source": [
    "hogares_fil.isnull().sum()\n"
   ]
  },
  {
   "cell_type": "markdown",
   "id": "69d63e86",
   "metadata": {},
   "source": [
    "No hay filas nulas."
   ]
  },
  {
   "cell_type": "markdown",
   "id": "6ac65f51",
   "metadata": {},
   "source": [
    "Hacemos un resumen rápido estádistico."
   ]
  },
  {
   "cell_type": "code",
   "execution_count": 150,
   "id": "6963df35",
   "metadata": {},
   "outputs": [
    {
     "data": {
      "text/html": [
       "<div>\n",
       "<style scoped>\n",
       "    .dataframe tbody tr th:only-of-type {\n",
       "        vertical-align: middle;\n",
       "    }\n",
       "\n",
       "    .dataframe tbody tr th {\n",
       "        vertical-align: top;\n",
       "    }\n",
       "\n",
       "    .dataframe thead th {\n",
       "        text-align: right;\n",
       "    }\n",
       "</style>\n",
       "<table border=\"1\" class=\"dataframe\">\n",
       "  <thead>\n",
       "    <tr style=\"text-align: right;\">\n",
       "      <th></th>\n",
       "      <th>id_hogar</th>\n",
       "      <th>region</th>\n",
       "      <th>prestamo_personas</th>\n",
       "      <th>prestamo_banco</th>\n",
       "      <th>compra_cuotas</th>\n",
       "    </tr>\n",
       "  </thead>\n",
       "  <tbody>\n",
       "    <tr>\n",
       "      <th>count</th>\n",
       "      <td>5410.000000</td>\n",
       "      <td>5410.0</td>\n",
       "      <td>5410.000000</td>\n",
       "      <td>5410.000000</td>\n",
       "      <td>5410.000000</td>\n",
       "    </tr>\n",
       "    <tr>\n",
       "      <th>mean</th>\n",
       "      <td>1.034566</td>\n",
       "      <td>43.0</td>\n",
       "      <td>1.851386</td>\n",
       "      <td>1.891682</td>\n",
       "      <td>1.529575</td>\n",
       "    </tr>\n",
       "    <tr>\n",
       "      <th>std</th>\n",
       "      <td>0.192548</td>\n",
       "      <td>0.0</td>\n",
       "      <td>0.370006</td>\n",
       "      <td>0.327041</td>\n",
       "      <td>0.509435</td>\n",
       "    </tr>\n",
       "    <tr>\n",
       "      <th>min</th>\n",
       "      <td>1.000000</td>\n",
       "      <td>43.0</td>\n",
       "      <td>1.000000</td>\n",
       "      <td>1.000000</td>\n",
       "      <td>1.000000</td>\n",
       "    </tr>\n",
       "    <tr>\n",
       "      <th>25%</th>\n",
       "      <td>1.000000</td>\n",
       "      <td>43.0</td>\n",
       "      <td>2.000000</td>\n",
       "      <td>2.000000</td>\n",
       "      <td>1.000000</td>\n",
       "    </tr>\n",
       "    <tr>\n",
       "      <th>50%</th>\n",
       "      <td>1.000000</td>\n",
       "      <td>43.0</td>\n",
       "      <td>2.000000</td>\n",
       "      <td>2.000000</td>\n",
       "      <td>2.000000</td>\n",
       "    </tr>\n",
       "    <tr>\n",
       "      <th>75%</th>\n",
       "      <td>1.000000</td>\n",
       "      <td>43.0</td>\n",
       "      <td>2.000000</td>\n",
       "      <td>2.000000</td>\n",
       "      <td>2.000000</td>\n",
       "    </tr>\n",
       "    <tr>\n",
       "      <th>max</th>\n",
       "      <td>4.000000</td>\n",
       "      <td>43.0</td>\n",
       "      <td>9.000000</td>\n",
       "      <td>9.000000</td>\n",
       "      <td>9.000000</td>\n",
       "    </tr>\n",
       "  </tbody>\n",
       "</table>\n",
       "</div>"
      ],
      "text/plain": [
       "          id_hogar  region  prestamo_personas  prestamo_banco  compra_cuotas\n",
       "count  5410.000000  5410.0        5410.000000     5410.000000    5410.000000\n",
       "mean      1.034566    43.0           1.851386        1.891682       1.529575\n",
       "std       0.192548     0.0           0.370006        0.327041       0.509435\n",
       "min       1.000000    43.0           1.000000        1.000000       1.000000\n",
       "25%       1.000000    43.0           2.000000        2.000000       1.000000\n",
       "50%       1.000000    43.0           2.000000        2.000000       2.000000\n",
       "75%       1.000000    43.0           2.000000        2.000000       2.000000\n",
       "max       4.000000    43.0           9.000000        9.000000       9.000000"
      ]
     },
     "execution_count": 150,
     "metadata": {},
     "output_type": "execute_result"
    }
   ],
   "source": [
    "hogares_fil.describe()"
   ]
  },
  {
   "cell_type": "markdown",
   "id": "9c6e7ebc",
   "metadata": {},
   "source": [
    "Hay errores de ingreso de datos al tener maximos en \"9\" cuando permite 1 o 2, en cuanto a comportamientos de consumo-prestamos."
   ]
  },
  {
   "cell_type": "code",
   "execution_count": 151,
   "id": "7e44a8cc",
   "metadata": {},
   "outputs": [
    {
     "data": {
      "text/plain": [
       "2    4816\n",
       "1     593\n",
       "9       1\n",
       "Name: prestamo_banco, dtype: int64"
      ]
     },
     "execution_count": 151,
     "metadata": {},
     "output_type": "execute_result"
    }
   ],
   "source": [
    "hogares_fil['prestamo_banco'].value_counts()"
   ]
  },
  {
   "cell_type": "code",
   "execution_count": 152,
   "id": "610f126f",
   "metadata": {},
   "outputs": [
    {
     "data": {
      "text/plain": [
       "2    4598\n",
       "1     811\n",
       "9       1\n",
       "Name: prestamo_personas, dtype: int64"
      ]
     },
     "execution_count": 152,
     "metadata": {},
     "output_type": "execute_result"
    }
   ],
   "source": [
    "hogares_fil['prestamo_personas'].value_counts()"
   ]
  },
  {
   "cell_type": "code",
   "execution_count": 153,
   "id": "e2cf35d2",
   "metadata": {},
   "outputs": [
    {
     "data": {
      "text/plain": [
       "2    2857\n",
       "1    2552\n",
       "9       1\n",
       "Name: compra_cuotas, dtype: int64"
      ]
     },
     "execution_count": 153,
     "metadata": {},
     "output_type": "execute_result"
    }
   ],
   "source": [
    "hogares_fil['compra_cuotas'].value_counts()"
   ]
  },
  {
   "cell_type": "markdown",
   "id": "4d90040a",
   "metadata": {},
   "source": [
    "Vemos una Fila con el valor 9 en la columna de prestamos a personas, por lo que se revisara cada estas variables. Significa que no ha respondido."
   ]
  },
  {
   "cell_type": "markdown",
   "id": "8ac497a4",
   "metadata": {},
   "source": [
    "Como es un único datos en cada columna, eliminamos las filas con valor 9 (son 3 en total)"
   ]
  },
  {
   "cell_type": "code",
   "execution_count": 154,
   "id": "c2363861",
   "metadata": {},
   "outputs": [],
   "source": [
    "hogares_fil = hogares_fil[hogares_fil['prestamo_banco'] != 9]"
   ]
  },
  {
   "cell_type": "code",
   "execution_count": 155,
   "id": "2d969bab",
   "metadata": {},
   "outputs": [],
   "source": [
    "hogares_fil = hogares_fil[hogares_fil['prestamo_personas'] != 9]"
   ]
  },
  {
   "cell_type": "code",
   "execution_count": 156,
   "id": "b59a97ff",
   "metadata": {},
   "outputs": [],
   "source": [
    "hogares_fil = hogares_fil[hogares_fil['compra_cuotas'] != 9]"
   ]
  },
  {
   "cell_type": "code",
   "execution_count": 160,
   "id": "cae50f39",
   "metadata": {},
   "outputs": [
    {
     "data": {
      "text/html": [
       "<div>\n",
       "<style scoped>\n",
       "    .dataframe tbody tr th:only-of-type {\n",
       "        vertical-align: middle;\n",
       "    }\n",
       "\n",
       "    .dataframe tbody tr th {\n",
       "        vertical-align: top;\n",
       "    }\n",
       "\n",
       "    .dataframe thead th {\n",
       "        text-align: right;\n",
       "    }\n",
       "</style>\n",
       "<table border=\"1\" class=\"dataframe\">\n",
       "  <thead>\n",
       "    <tr style=\"text-align: right;\">\n",
       "      <th></th>\n",
       "      <th>id_hogar</th>\n",
       "      <th>region</th>\n",
       "      <th>prestamo_personas</th>\n",
       "      <th>prestamo_banco</th>\n",
       "      <th>compra_cuotas</th>\n",
       "    </tr>\n",
       "  </thead>\n",
       "  <tbody>\n",
       "    <tr>\n",
       "      <th>count</th>\n",
       "      <td>5409.000000</td>\n",
       "      <td>5409.0</td>\n",
       "      <td>5409.000000</td>\n",
       "      <td>5409.000000</td>\n",
       "      <td>5409.000000</td>\n",
       "    </tr>\n",
       "    <tr>\n",
       "      <th>mean</th>\n",
       "      <td>1.034572</td>\n",
       "      <td>43.0</td>\n",
       "      <td>1.850065</td>\n",
       "      <td>1.890368</td>\n",
       "      <td>1.528194</td>\n",
       "    </tr>\n",
       "    <tr>\n",
       "      <th>std</th>\n",
       "      <td>0.192565</td>\n",
       "      <td>0.0</td>\n",
       "      <td>0.357041</td>\n",
       "      <td>0.312460</td>\n",
       "      <td>0.499251</td>\n",
       "    </tr>\n",
       "    <tr>\n",
       "      <th>min</th>\n",
       "      <td>1.000000</td>\n",
       "      <td>43.0</td>\n",
       "      <td>1.000000</td>\n",
       "      <td>1.000000</td>\n",
       "      <td>1.000000</td>\n",
       "    </tr>\n",
       "    <tr>\n",
       "      <th>25%</th>\n",
       "      <td>1.000000</td>\n",
       "      <td>43.0</td>\n",
       "      <td>2.000000</td>\n",
       "      <td>2.000000</td>\n",
       "      <td>1.000000</td>\n",
       "    </tr>\n",
       "    <tr>\n",
       "      <th>50%</th>\n",
       "      <td>1.000000</td>\n",
       "      <td>43.0</td>\n",
       "      <td>2.000000</td>\n",
       "      <td>2.000000</td>\n",
       "      <td>2.000000</td>\n",
       "    </tr>\n",
       "    <tr>\n",
       "      <th>75%</th>\n",
       "      <td>1.000000</td>\n",
       "      <td>43.0</td>\n",
       "      <td>2.000000</td>\n",
       "      <td>2.000000</td>\n",
       "      <td>2.000000</td>\n",
       "    </tr>\n",
       "    <tr>\n",
       "      <th>max</th>\n",
       "      <td>4.000000</td>\n",
       "      <td>43.0</td>\n",
       "      <td>2.000000</td>\n",
       "      <td>2.000000</td>\n",
       "      <td>2.000000</td>\n",
       "    </tr>\n",
       "  </tbody>\n",
       "</table>\n",
       "</div>"
      ],
      "text/plain": [
       "          id_hogar  region  prestamo_personas  prestamo_banco  compra_cuotas\n",
       "count  5409.000000  5409.0        5409.000000     5409.000000    5409.000000\n",
       "mean      1.034572    43.0           1.850065        1.890368       1.528194\n",
       "std       0.192565     0.0           0.357041        0.312460       0.499251\n",
       "min       1.000000    43.0           1.000000        1.000000       1.000000\n",
       "25%       1.000000    43.0           2.000000        2.000000       1.000000\n",
       "50%       1.000000    43.0           2.000000        2.000000       2.000000\n",
       "75%       1.000000    43.0           2.000000        2.000000       2.000000\n",
       "max       4.000000    43.0           2.000000        2.000000       2.000000"
      ]
     },
     "execution_count": 160,
     "metadata": {},
     "output_type": "execute_result"
    }
   ],
   "source": [
    "hogares_fil.describe()"
   ]
  },
  {
   "cell_type": "markdown",
   "id": "d4531122",
   "metadata": {},
   "source": [
    "### Personas y Hogares región Pampeana\n",
    "Unimos ambas tablas a través de la variable \"CODUSU\""
   ]
  },
  {
   "cell_type": "code",
   "execution_count": 163,
   "id": "e1a7aad2",
   "metadata": {},
   "outputs": [
    {
     "data": {
      "text/plain": [
       "14313"
      ]
     },
     "execution_count": 163,
     "metadata": {},
     "output_type": "execute_result"
    }
   ],
   "source": [
    "df_final = pd.merge(personas_fil, hogares_fil, on=['id_vivienda', 'id_hogar', 'region'], how='inner')\n",
    "len(df_final)\n"
   ]
  },
  {
   "cell_type": "code",
   "execution_count": 164,
   "id": "e5a2baa7",
   "metadata": {},
   "outputs": [
    {
     "data": {
      "text/html": [
       "<div>\n",
       "<style scoped>\n",
       "    .dataframe tbody tr th:only-of-type {\n",
       "        vertical-align: middle;\n",
       "    }\n",
       "\n",
       "    .dataframe tbody tr th {\n",
       "        vertical-align: top;\n",
       "    }\n",
       "\n",
       "    .dataframe thead th {\n",
       "        text-align: right;\n",
       "    }\n",
       "</style>\n",
       "<table border=\"1\" class=\"dataframe\">\n",
       "  <thead>\n",
       "    <tr style=\"text-align: right;\">\n",
       "      <th></th>\n",
       "      <th>id_vivienda</th>\n",
       "      <th>id_hogar</th>\n",
       "      <th>sexo</th>\n",
       "      <th>edad</th>\n",
       "      <th>ingreso</th>\n",
       "      <th>nivel_educativo</th>\n",
       "      <th>estado_actividad</th>\n",
       "      <th>region</th>\n",
       "      <th>prestamo_personas</th>\n",
       "      <th>prestamo_banco</th>\n",
       "      <th>compra_cuotas</th>\n",
       "    </tr>\n",
       "  </thead>\n",
       "  <tbody>\n",
       "    <tr>\n",
       "      <th>0</th>\n",
       "      <td>TQRMNOPTVHLOKRCDEFJAH00803557</td>\n",
       "      <td>1</td>\n",
       "      <td>2</td>\n",
       "      <td>33</td>\n",
       "      <td>-9.0</td>\n",
       "      <td>6</td>\n",
       "      <td>1</td>\n",
       "      <td>43</td>\n",
       "      <td>2</td>\n",
       "      <td>2</td>\n",
       "      <td>1</td>\n",
       "    </tr>\n",
       "    <tr>\n",
       "      <th>1</th>\n",
       "      <td>TQRMNOPTVHLOKRCDEFJAH00803557</td>\n",
       "      <td>1</td>\n",
       "      <td>1</td>\n",
       "      <td>33</td>\n",
       "      <td>-9.0</td>\n",
       "      <td>6</td>\n",
       "      <td>1</td>\n",
       "      <td>43</td>\n",
       "      <td>2</td>\n",
       "      <td>2</td>\n",
       "      <td>1</td>\n",
       "    </tr>\n",
       "    <tr>\n",
       "      <th>2</th>\n",
       "      <td>TQRMNOQPRHKLKNCDEFJAH00868631</td>\n",
       "      <td>1</td>\n",
       "      <td>1</td>\n",
       "      <td>81</td>\n",
       "      <td>1750000.0</td>\n",
       "      <td>6</td>\n",
       "      <td>1</td>\n",
       "      <td>43</td>\n",
       "      <td>2</td>\n",
       "      <td>2</td>\n",
       "      <td>2</td>\n",
       "    </tr>\n",
       "    <tr>\n",
       "      <th>3</th>\n",
       "      <td>TQRMNOQPRHKLKNCDEFJAH00868631</td>\n",
       "      <td>1</td>\n",
       "      <td>2</td>\n",
       "      <td>78</td>\n",
       "      <td>400000.0</td>\n",
       "      <td>6</td>\n",
       "      <td>3</td>\n",
       "      <td>43</td>\n",
       "      <td>2</td>\n",
       "      <td>2</td>\n",
       "      <td>2</td>\n",
       "    </tr>\n",
       "    <tr>\n",
       "      <th>4</th>\n",
       "      <td>TQRMNORVXHKLKNCDEFJAH00868632</td>\n",
       "      <td>1</td>\n",
       "      <td>1</td>\n",
       "      <td>65</td>\n",
       "      <td>1200000.0</td>\n",
       "      <td>4</td>\n",
       "      <td>1</td>\n",
       "      <td>43</td>\n",
       "      <td>2</td>\n",
       "      <td>1</td>\n",
       "      <td>1</td>\n",
       "    </tr>\n",
       "    <tr>\n",
       "      <th>5</th>\n",
       "      <td>TQRMNORVXHKLKNCDEFJAH00868632</td>\n",
       "      <td>1</td>\n",
       "      <td>2</td>\n",
       "      <td>66</td>\n",
       "      <td>435600.0</td>\n",
       "      <td>4</td>\n",
       "      <td>1</td>\n",
       "      <td>43</td>\n",
       "      <td>2</td>\n",
       "      <td>1</td>\n",
       "      <td>1</td>\n",
       "    </tr>\n",
       "    <tr>\n",
       "      <th>6</th>\n",
       "      <td>TQRMNORVXHKLKNCDEFJAH00868632</td>\n",
       "      <td>1</td>\n",
       "      <td>1</td>\n",
       "      <td>30</td>\n",
       "      <td>1125000.0</td>\n",
       "      <td>5</td>\n",
       "      <td>1</td>\n",
       "      <td>43</td>\n",
       "      <td>2</td>\n",
       "      <td>1</td>\n",
       "      <td>1</td>\n",
       "    </tr>\n",
       "    <tr>\n",
       "      <th>7</th>\n",
       "      <td>TQRMNQYTSHMOKQCDEFJAH00851671</td>\n",
       "      <td>1</td>\n",
       "      <td>1</td>\n",
       "      <td>63</td>\n",
       "      <td>-9.0</td>\n",
       "      <td>3</td>\n",
       "      <td>1</td>\n",
       "      <td>43</td>\n",
       "      <td>2</td>\n",
       "      <td>2</td>\n",
       "      <td>2</td>\n",
       "    </tr>\n",
       "    <tr>\n",
       "      <th>8</th>\n",
       "      <td>TQRMNQYTSHMOKQCDEFJAH00851671</td>\n",
       "      <td>1</td>\n",
       "      <td>2</td>\n",
       "      <td>60</td>\n",
       "      <td>0.0</td>\n",
       "      <td>3</td>\n",
       "      <td>3</td>\n",
       "      <td>43</td>\n",
       "      <td>2</td>\n",
       "      <td>2</td>\n",
       "      <td>2</td>\n",
       "    </tr>\n",
       "    <tr>\n",
       "      <th>9</th>\n",
       "      <td>TQRMNQYTSHMOKQCDEFJAH00851671</td>\n",
       "      <td>1</td>\n",
       "      <td>2</td>\n",
       "      <td>22</td>\n",
       "      <td>0.0</td>\n",
       "      <td>4</td>\n",
       "      <td>2</td>\n",
       "      <td>43</td>\n",
       "      <td>2</td>\n",
       "      <td>2</td>\n",
       "      <td>2</td>\n",
       "    </tr>\n",
       "    <tr>\n",
       "      <th>10</th>\n",
       "      <td>TQRMNORQRHLMLLCDEGKDB00805055</td>\n",
       "      <td>1</td>\n",
       "      <td>1</td>\n",
       "      <td>75</td>\n",
       "      <td>350000.0</td>\n",
       "      <td>3</td>\n",
       "      <td>3</td>\n",
       "      <td>43</td>\n",
       "      <td>2</td>\n",
       "      <td>2</td>\n",
       "      <td>2</td>\n",
       "    </tr>\n",
       "    <tr>\n",
       "      <th>11</th>\n",
       "      <td>TQRMNORQRHLMLLCDEGKDB00805055</td>\n",
       "      <td>1</td>\n",
       "      <td>2</td>\n",
       "      <td>49</td>\n",
       "      <td>-9.0</td>\n",
       "      <td>5</td>\n",
       "      <td>1</td>\n",
       "      <td>43</td>\n",
       "      <td>2</td>\n",
       "      <td>2</td>\n",
       "      <td>2</td>\n",
       "    </tr>\n",
       "    <tr>\n",
       "      <th>12</th>\n",
       "      <td>TQRMNOQVTHMLLNCDEGKDB00810177</td>\n",
       "      <td>1</td>\n",
       "      <td>1</td>\n",
       "      <td>28</td>\n",
       "      <td>500000.0</td>\n",
       "      <td>6</td>\n",
       "      <td>1</td>\n",
       "      <td>43</td>\n",
       "      <td>2</td>\n",
       "      <td>2</td>\n",
       "      <td>1</td>\n",
       "    </tr>\n",
       "    <tr>\n",
       "      <th>13</th>\n",
       "      <td>TQRMNOQVTHMLLNCDEGKDB00810177</td>\n",
       "      <td>1</td>\n",
       "      <td>2</td>\n",
       "      <td>32</td>\n",
       "      <td>320000.0</td>\n",
       "      <td>5</td>\n",
       "      <td>1</td>\n",
       "      <td>43</td>\n",
       "      <td>2</td>\n",
       "      <td>2</td>\n",
       "      <td>1</td>\n",
       "    </tr>\n",
       "    <tr>\n",
       "      <th>14</th>\n",
       "      <td>TQRMNOPRYHKMLMCDEGKDB00868633</td>\n",
       "      <td>1</td>\n",
       "      <td>1</td>\n",
       "      <td>38</td>\n",
       "      <td>1300000.0</td>\n",
       "      <td>4</td>\n",
       "      <td>1</td>\n",
       "      <td>43</td>\n",
       "      <td>2</td>\n",
       "      <td>1</td>\n",
       "      <td>1</td>\n",
       "    </tr>\n",
       "  </tbody>\n",
       "</table>\n",
       "</div>"
      ],
      "text/plain": [
       "                      id_vivienda  id_hogar  sexo  edad    ingreso  \\\n",
       "0   TQRMNOPTVHLOKRCDEFJAH00803557         1     2    33       -9.0   \n",
       "1   TQRMNOPTVHLOKRCDEFJAH00803557         1     1    33       -9.0   \n",
       "2   TQRMNOQPRHKLKNCDEFJAH00868631         1     1    81  1750000.0   \n",
       "3   TQRMNOQPRHKLKNCDEFJAH00868631         1     2    78   400000.0   \n",
       "4   TQRMNORVXHKLKNCDEFJAH00868632         1     1    65  1200000.0   \n",
       "5   TQRMNORVXHKLKNCDEFJAH00868632         1     2    66   435600.0   \n",
       "6   TQRMNORVXHKLKNCDEFJAH00868632         1     1    30  1125000.0   \n",
       "7   TQRMNQYTSHMOKQCDEFJAH00851671         1     1    63       -9.0   \n",
       "8   TQRMNQYTSHMOKQCDEFJAH00851671         1     2    60        0.0   \n",
       "9   TQRMNQYTSHMOKQCDEFJAH00851671         1     2    22        0.0   \n",
       "10  TQRMNORQRHLMLLCDEGKDB00805055         1     1    75   350000.0   \n",
       "11  TQRMNORQRHLMLLCDEGKDB00805055         1     2    49       -9.0   \n",
       "12  TQRMNOQVTHMLLNCDEGKDB00810177         1     1    28   500000.0   \n",
       "13  TQRMNOQVTHMLLNCDEGKDB00810177         1     2    32   320000.0   \n",
       "14  TQRMNOPRYHKMLMCDEGKDB00868633         1     1    38  1300000.0   \n",
       "\n",
       "    nivel_educativo  estado_actividad  region  prestamo_personas  \\\n",
       "0                 6                 1      43                  2   \n",
       "1                 6                 1      43                  2   \n",
       "2                 6                 1      43                  2   \n",
       "3                 6                 3      43                  2   \n",
       "4                 4                 1      43                  2   \n",
       "5                 4                 1      43                  2   \n",
       "6                 5                 1      43                  2   \n",
       "7                 3                 1      43                  2   \n",
       "8                 3                 3      43                  2   \n",
       "9                 4                 2      43                  2   \n",
       "10                3                 3      43                  2   \n",
       "11                5                 1      43                  2   \n",
       "12                6                 1      43                  2   \n",
       "13                5                 1      43                  2   \n",
       "14                4                 1      43                  2   \n",
       "\n",
       "    prestamo_banco  compra_cuotas  \n",
       "0                2              1  \n",
       "1                2              1  \n",
       "2                2              2  \n",
       "3                2              2  \n",
       "4                1              1  \n",
       "5                1              1  \n",
       "6                1              1  \n",
       "7                2              2  \n",
       "8                2              2  \n",
       "9                2              2  \n",
       "10               2              2  \n",
       "11               2              2  \n",
       "12               2              1  \n",
       "13               2              1  \n",
       "14               1              1  "
      ]
     },
     "execution_count": 164,
     "metadata": {},
     "output_type": "execute_result"
    }
   ],
   "source": [
    "df_final.head(15)\n"
   ]
  },
  {
   "cell_type": "markdown",
   "id": "0c679ab2",
   "metadata": {},
   "source": [
    "En este caso vamos a tener que agrupar las columnas de personas para resumirlas y trabajarlas junto con los datos de hogares."
   ]
  },
  {
   "cell_type": "markdown",
   "id": "35f8708a",
   "metadata": {},
   "source": [
    "### Tablas de Referencia"
   ]
  },
  {
   "cell_type": "markdown",
   "id": "29f9837f",
   "metadata": {},
   "source": [
    "#### ESTADO - Condición de Actividad\n",
    "Tipo de variable: Nominal"
   ]
  },
  {
   "cell_type": "code",
   "execution_count": 17,
   "id": "2d9eaf3d",
   "metadata": {},
   "outputs": [],
   "source": [
    "estado = pd.DataFrame([\n",
    "    (0, \"Encuesta no realizada\"),\n",
    "    (1, \"Ocupado\"),\n",
    "    (2, \"Desocupado\"),\n",
    "    (3, \"Inactivo\"),\n",
    "    (4, \"Menor de 10 años\")\n",
    "], columns=[\"estado_actividad\", \"estado_nombre\"])"
   ]
  },
  {
   "cell_type": "markdown",
   "id": "2e195781",
   "metadata": {},
   "source": [
    "##### Datos faltantes\n",
    "No hay registros con valores indefinidos."
   ]
  },
  {
   "cell_type": "code",
   "execution_count": 18,
   "id": "fcaacd47",
   "metadata": {},
   "outputs": [
    {
     "data": {
      "text/plain": [
       "0"
      ]
     },
     "execution_count": 18,
     "metadata": {},
     "output_type": "execute_result"
    }
   ],
   "source": [
    "personas_fil[\"estado_actividad\"].isna().sum()"
   ]
  },
  {
   "cell_type": "markdown",
   "id": "01d57fe8",
   "metadata": {},
   "source": [
    "##### Análisis de Frecuencias"
   ]
  },
  {
   "cell_type": "code",
   "execution_count": 19,
   "id": "d7e81a7c",
   "metadata": {},
   "outputs": [
    {
     "data": {
      "text/plain": [
       "estado_nombre\n",
       "Ocupado                  6389\n",
       "Inactivo                 5794\n",
       "Menor de 10 años         1620\n",
       "Desocupado                497\n",
       "Encuesta no realizada      15\n",
       "Name: count, dtype: int64"
      ]
     },
     "execution_count": 19,
     "metadata": {},
     "output_type": "execute_result"
    }
   ],
   "source": [
    "personas_fil.merge(estado, how=\"inner\", on=\"estado_actividad\")[\"estado_nombre\"].value_counts()"
   ]
  },
  {
   "cell_type": "code",
   "execution_count": 20,
   "id": "9a060012",
   "metadata": {},
   "outputs": [
    {
     "data": {
      "text/plain": [
       "estado_nombre\n",
       "Ocupado                  0.446315\n",
       "Inactivo                 0.404750\n",
       "Menor de 10 años         0.113168\n",
       "Desocupado               0.034719\n",
       "Encuesta no realizada    0.001048\n",
       "Name: proportion, dtype: float64"
      ]
     },
     "execution_count": 20,
     "metadata": {},
     "output_type": "execute_result"
    }
   ],
   "source": [
    "personas_fil.merge(estado, how=\"inner\", on=\"estado_actividad\")[\"estado_nombre\"].value_counts(normalize=True)"
   ]
  },
  {
   "cell_type": "code",
   "execution_count": 21,
   "id": "a525e28b",
   "metadata": {},
   "outputs": [
    {
     "data": {
      "text/plain": [
       "([<matplotlib.patches.Wedge at 0x7f221bcbc2b0>,\n",
       "  <matplotlib.patches.Wedge at 0x7f221bc98ca0>,\n",
       "  <matplotlib.patches.Wedge at 0x7f221bc564c0>,\n",
       "  <matplotlib.patches.Wedge at 0x7f221bc56bb0>,\n",
       "  <matplotlib.patches.Wedge at 0x7f221bc61460>],\n",
       " [Text(0.24003667031668752, 1.4097100400093907, 'Ocupado'),\n",
       "  Text(-0.8500254030457036, -1.1499377436091875, 'Inactivo'),\n",
       "  Text(1.1959405494372304, -0.7839809960782059, 'Menor de 10 años'),\n",
       "  Text(1.4204465464286657, -0.1650200252662591, 'Desocupado'),\n",
       "  Text(1.4299922515673409, -0.004707489497283461, 'Encuesta no realizada')],\n",
       " [Text(0.17457212386668183, 1.025243665461375, '44.63%'),\n",
       "  Text(-0.618200293124148, -0.8363183589884999, '40.48%'),\n",
       "  Text(0.8697749450452583, -0.5701679971477861, '11.32%'),\n",
       "  Text(1.0330520337663023, -0.12001456383000662, '3.47%'),\n",
       "  Text(1.039994364776248, -0.0034236287252970626, '0.10%')])"
      ]
     },
     "execution_count": 21,
     "metadata": {},
     "output_type": "execute_result"
    },
    {
     "data": {
      "image/png": "[encoded data removed]",
      "text/plain": [
       "<Figure size 640x480 with 1 Axes>"
      ]
     },
     "metadata": {},
     "output_type": "display_data"
    }
   ],
   "source": [
    "frecuencias = personas_fil.merge(estado, how=\"inner\", on=\"estado_actividad\")[\"estado_nombre\"].value_counts()\n",
    "plt.pie(frecuencias, labels=frecuencias.index, autopct=\"%.2f%%\", pctdistance=0.8, labeldistance=1.1, radius=1.3)"
   ]
  },
  {
   "cell_type": "markdown",
   "id": "df316772",
   "metadata": {},
   "source": [
    "\n",
    "#### NIVEL_ED - Nivel Educativo\n",
    "\n",
    "Tipo de Variable: Ordinal\n"
   ]
  },
  {
   "cell_type": "code",
   "execution_count": 22,
   "id": "ca6f8163",
   "metadata": {},
   "outputs": [],
   "source": [
    "nivel_educativo = pd.DataFrame([\n",
    "    (1, \"Primario incompleto (incluye educación especial)\"),\n",
    "    (2, \"Primario completo\"),\n",
    "    (3, \"Secundario incompleto\"),\n",
    "    (4, \"Secundario completo\"),\n",
    "    (5, \"Superior universitario incompleto\"),\n",
    "    (6, \"Superior universitario completo\"),\n",
    "    (7, \"Sin instrucción\"),\n",
    "    (9, \"Ns/Nr\"),\n",
    "    ], columns=[\"nivel_educativo\", \"nivel_educativo_nombre\"])\n"
   ]
  },
  {
   "cell_type": "markdown",
   "id": "d774cadf",
   "metadata": {},
   "source": [
    "\n",
    "#### Datos faltantes\n",
    "\n",
    "No hay registros con valores indefinidos.\n"
   ]
  },
  {
   "cell_type": "code",
   "execution_count": 23,
   "id": "53ad2c9a",
   "metadata": {},
   "outputs": [
    {
     "data": {
      "text/plain": [
       "0"
      ]
     },
     "execution_count": 23,
     "metadata": {},
     "output_type": "execute_result"
    }
   ],
   "source": [
    "personas_fil[\"nivel_educativo\"].isna().sum()"
   ]
  },
  {
   "cell_type": "markdown",
   "id": "c101aa13",
   "metadata": {},
   "source": [
    "#### Análisis de Frecuencias"
   ]
  },
  {
   "cell_type": "code",
   "execution_count": 24,
   "id": "2b7a0948",
   "metadata": {},
   "outputs": [
    {
     "data": {
      "text/plain": [
       "nivel_educativo  nivel_educativo_nombre                          \n",
       "4                Secundario completo                                 2965\n",
       "3                Secundario incompleto                               2887\n",
       "6                Superior universitario completo                     2156\n",
       "1                Primario incompleto (incluye educación especial)    2016\n",
       "5                Superior universitario incompleto                   1743\n",
       "2                Primario completo                                   1672\n",
       "7                Sin instrucción                                      876\n",
       "Name: count, dtype: int64"
      ]
     },
     "execution_count": 24,
     "metadata": {},
     "output_type": "execute_result"
    }
   ],
   "source": [
    "personas_fil.merge(nivel_educativo, how=\"inner\", on=\"nivel_educativo\")[[\"nivel_educativo\",\"nivel_educativo_nombre\"]].value_counts()"
   ]
  },
  {
   "cell_type": "code",
   "execution_count": 25,
   "id": "30b458a4",
   "metadata": {},
   "outputs": [
    {
     "data": {
      "text/plain": [
       "nivel_educativo_nombre\n",
       "Secundario completo                                 0.207125\n",
       "Secundario incompleto                               0.201677\n",
       "Superior universitario completo                     0.150611\n",
       "Primario incompleto (incluye educación especial)    0.140831\n",
       "Superior universitario incompleto                   0.121760\n",
       "Primario completo                                   0.116801\n",
       "Sin instrucción                                     0.061195\n",
       "Name: proportion, dtype: float64"
      ]
     },
     "execution_count": 25,
     "metadata": {},
     "output_type": "execute_result"
    }
   ],
   "source": [
    "personas_fil.merge(nivel_educativo, how=\"inner\", on=\"nivel_educativo\")[\"nivel_educativo_nombre\"].value_counts(normalize=True)"
   ]
  },
  {
   "cell_type": "code",
   "execution_count": 26,
   "id": "e41c637f",
   "metadata": {},
   "outputs": [
    {
     "data": {
      "image/png": "[encoded data removed]",
      "text/plain": [
       "<Figure size 1000x600 with 1 Axes>"
      ]
     },
     "metadata": {},
     "output_type": "display_data"
    }
   ],
   "source": [
    "frecuencias = personas_fil.merge(nivel_educativo, how=\"inner\", on=\"nivel_educativo\") \\\n",
    "    [[\"nivel_educativo\", \"nivel_educativo_nombre\"]].value_counts() \\\n",
    "    .reset_index(name='nivel_educativo_count') \\\n",
    "    .sort_values(\"nivel_educativo\")\n",
    "\n",
    "plt.figure(figsize=(10, 6))\n",
    "plt.bar(frecuencias[\"nivel_educativo_nombre\"], frecuencias[\"nivel_educativo_count\"])\n",
    "plt.xticks(rotation=45)\n",
    "plt.title(\"Distribución por Nivel Educativo\")\n",
    "plt.ylabel(\"Cantidad de personas\")\n",
    "plt.tight_layout()\n",
    "plt.show()\n"
   ]
  },
  {
   "cell_type": "markdown",
   "id": "b654836b",
   "metadata": {},
   "source": [
    "\n",
    "#### Variable Edad\n",
    "Tipo de variable: Continua"
   ]
  },
  {
   "cell_type": "code",
   "execution_count": 165,
   "id": "9f2f852c",
   "metadata": {},
   "outputs": [
    {
     "data": {
      "text/plain": [
       "count    14315.000000\n",
       "mean        37.258819\n",
       "std         22.382583\n",
       "min          0.000000\n",
       "25%         18.000000\n",
       "50%         35.000000\n",
       "75%         55.000000\n",
       "max        102.000000\n",
       "Name: edad, dtype: float64"
      ]
     },
     "execution_count": 165,
     "metadata": {},
     "output_type": "execute_result"
    }
   ],
   "source": [
    "personas_fil[\"edad\"].describe()"
   ]
  },
  {
   "cell_type": "code",
   "execution_count": 166,
   "id": "22ea3a31",
   "metadata": {},
   "outputs": [
    {
     "data": {
      "text/plain": [
       "Text(0.5, 1.0, 'Distribución de edades')"
      ]
     },
     "execution_count": 166,
     "metadata": {},
     "output_type": "execute_result"
    },
    {
     "data": {
      "image/png": "[encoded data removed]",
      "text/plain": [
       "<Figure size 640x480 with 1 Axes>"
      ]
     },
     "metadata": {},
     "output_type": "display_data"
    }
   ],
   "source": [
    "bin_edges = np.histogram_bin_edges(personas_fil[\"edad\"], bins='scott')\n",
    "plt.hist(personas_fil[\"edad\"], edgecolor='black', bins=bin_edges)\n",
    "plt.xlabel('Edad')\n",
    "plt.ylabel('Fecuencia')\n",
    "plt.title(\"Distribución de edades\")"
   ]
  },
  {
   "cell_type": "markdown",
   "id": "19f0f910",
   "metadata": {},
   "source": [
    "#### Variable: Sexo\n",
    "Varieble cualititativa"
   ]
  },
  {
   "cell_type": "code",
   "execution_count": null,
   "id": "d6dabe83",
   "metadata": {},
   "outputs": [
    {
     "data": {
      "image/png": "[encoded data removed]",
      "text/plain": [
       "<Figure size 640x480 with 1 Axes>"
      ]
     },
     "metadata": {},
     "output_type": "display_data"
    }
   ],
   "source": [
    "\n",
    "personas_fil['sexo'] = personas_fil['sexo'].map({1: 'Hombre', 2: 'Mujer'})\n",
    "ax = sns.countplot(x='sexo', data=personas_fil, palette='Set2')\n",
    "for p in ax.patches:\n",
    "    height = p.get_height()\n",
    "    ax.text(\n",
    "        p.get_x() + p.get_width() / 2, \n",
    "        height * 0.5,\n",
    "        str(height),  \n",
    "        ha='center', va='center', \n",
    "        color='black', fontsize=12\n",
    "    )\n",
    "\n",
    "# Títulos y etiquetas\n",
    "plt.title('Distribución de sexo')\n",
    "plt.xlabel('Sexo')\n",
    "plt.ylabel('Frecuencia')\n",
    "plt.tight_layout()\n",
    "plt.show()"
   ]
  }
 ],
 "metadata": {
  "kernelspec": {
   "display_name": "Python 3",
   "language": "python",
   "name": "python3"
  },
  "language_info": {
   "codemirror_mode": {
    "name": "ipython",
    "version": 3
   },
   "file_extension": ".py",
   "mimetype": "text/x-python",
   "name": "python",
   "nbconvert_exporter": "python",
   "pygments_lexer": "ipython3",
   "version": "3.10.4"
  }
 },
 "nbformat": 4,
 "nbformat_minor": 5
}
