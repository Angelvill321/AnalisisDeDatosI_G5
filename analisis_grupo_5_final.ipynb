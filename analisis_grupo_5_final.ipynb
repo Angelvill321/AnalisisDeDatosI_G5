{
 "cells": [
  {
   "cell_type": "markdown",
   "id": "6cb97dba",
   "metadata": {},
   "source": [
    "### Problemática:\n",
    "\n",
    "¿Podemos encontrar relación entre los ingresos individuales con otras variables como nivel educativo, sexo, edad en la región Pampeana? ¿Se pueden establecer otras relaciones entre los comportamientos como comprar en cuotas o fiado u obtener préstamos?\n",
    "\n",
    "### Variables:\n",
    "Las variables a trabajar son:\n",
    "\n",
    "| Nombre Tabla  | Descripción                |\n",
    "|---------------|----------------------------|\n",
    "| P47T          | Ingreso total ind. (mes)   |\n",
    "| NIVEL_ED      | Nivel educativo alcanzado  |\n",
    "| CH04          | Sexo                       |\n",
    "| CH06          | Edad en años cumplidos     |\n",
    "| V14           | Piden préstamos a personas |\n",
    "| V15           | Piden préstamos a bancos   |\n",
    "| V16           | Compran en cuotas o fiado  |\n",
    "| ESTADO        | Condición de actividad     |\n",
    "\n",
    "### Población total y muestra:\n",
    "Este trabajo se basa en los datos provistos por la Encuesta Permanente de Hogares (EPH) correspondientes al tercer trimestre de 2024. Para este análisis se utilizaron tanto la base de datos de personas (individual) como la base de hogares, que fueron solapadas mediante el identificador común presente en ambas tablas (número de hogar y componente).\n",
    "La población total a la que pertenecen estos datos es la población residente en la República Argentina, de acuerdo a la cobertura de la EPH. Esta población incluye tanto a personas económicamente activas como inactivas, y contempla diversos niveles educativos, edades y situaciones familiares.\n",
    "Para el análisis se realizó un recorte geográfico, tomando únicamente los hogares y personas correspondientes a la región Pampeana, que abarca aglomerados urbanos en las provincias de Buenos Aires, Córdoba, Santa Fe, Entre Ríos y La Pampa.\n",
    "La muestra analizada se compone de personas con ingresos individuales declarados, que además cuentan con información sobre sexo, edad, nivel educativo, y variables asociadas al comportamiento económico del hogar, como la compra en cuotas, al fiado, o el acceso a préstamos. Este enfoque permitió estudiar relaciones entre los ingresos individuales y diversas características sociodemográficas y de consumo dentro de la región Pampeana.\n",
    "\n",
    "### Clasificar las variables elegidas.\n",
    "| Variable                  | Tipo de variable       | Fuente (tabla)    |\n",
    "|---------------------------|------------------------|-------------------|\n",
    "| Ingreso individual        | Cuantitativa continua  | Base individual   |\n",
    "| Edad                      | Cuantitativa continua  | Base individual   |\n",
    "| Sexo                      | Cualitativa            | Base individual   |\n",
    "| Nivel educativo           | Cualitativa ordinal    | Base individual   |\n",
    "| Estado actividad          | Cualitativa            | Base individual   |\n",
    "| Compra en cuotas          | Cualitativa            | Base de hogares   |\n",
    "| Compra al fiado           | Cualitativa            | Base de hogares   |\n",
    "| Préstamos solicitados     | Cualitativa            | Base de hogares   |"
   ]
  },
  {
   "cell_type": "markdown",
   "id": "50fc64ec",
   "metadata": {},
   "source": [
    "### Carga de datos de las encuestas"
   ]
  },
  {
   "cell_type": "code",
   "execution_count": 1,
   "id": "dc96acf9",
   "metadata": {},
   "outputs": [],
   "source": [
    "import pandas as pd\n",
    "\n",
    "hogares = pd.read_excel(\"usu_hogar_T324.xlsx\")\n",
    "personas = pd.read_excel(\"usu_individual_T324.xlsx\")"
   ]
  },
  {
   "cell_type": "markdown",
   "id": "547c1c1f",
   "metadata": {},
   "source": [
    "##### Configuración de dependencias"
   ]
  },
  {
   "cell_type": "code",
   "execution_count": 20,
   "id": "4bd04e7d",
   "metadata": {},
   "outputs": [],
   "source": [
    "import matplotlib.pyplot as plt\n",
    "import numpy as np\n",
    "%matplotlib inline  "
   ]
  },
  {
   "cell_type": "code",
   "execution_count": 2,
   "id": "7476ce88",
   "metadata": {},
   "outputs": [],
   "source": [
    "personas_fil_pam = personas[personas['REGION'] == 43]"
   ]
  },
  {
   "cell_type": "code",
   "execution_count": 3,
   "id": "4ce2cb6a",
   "metadata": {},
   "outputs": [
    {
     "name": "stdout",
     "output_type": "stream",
     "text": [
      "Longitud Tabla Personas: 47564\n",
      "Longitud Tabla Personas Filtrada: 14315\n"
     ]
    }
   ],
   "source": [
    "print(\"Longitud Tabla Personas:\", len(personas))\n",
    "print(\"Longitud Tabla Personas Filtrada:\", len(personas_fil_pam))\n"
   ]
  },
  {
   "cell_type": "markdown",
   "id": "ed60bd26",
   "metadata": {},
   "source": [
    "Se redujo el total de la tabla personas un 30%"
   ]
  },
  {
   "cell_type": "code",
   "execution_count": 7,
   "id": "dc57708d",
   "metadata": {},
   "outputs": [
    {
     "data": {
      "text/html": [
       "<div>\n",
       "<style scoped>\n",
       "    .dataframe tbody tr th:only-of-type {\n",
       "        vertical-align: middle;\n",
       "    }\n",
       "\n",
       "    .dataframe tbody tr th {\n",
       "        vertical-align: top;\n",
       "    }\n",
       "\n",
       "    .dataframe thead th {\n",
       "        text-align: right;\n",
       "    }\n",
       "</style>\n",
       "<table border=\"1\" class=\"dataframe\">\n",
       "  <thead>\n",
       "    <tr style=\"text-align: right;\">\n",
       "      <th></th>\n",
       "      <th>CH04</th>\n",
       "      <th>CH06</th>\n",
       "      <th>P47T</th>\n",
       "      <th>NIVEL_ED</th>\n",
       "      <th>REGION</th>\n",
       "      <th>CODUSU</th>\n",
       "      <th>ESTADO</th>\n",
       "    </tr>\n",
       "  </thead>\n",
       "  <tbody>\n",
       "    <tr>\n",
       "      <th>0</th>\n",
       "      <td>2</td>\n",
       "      <td>33</td>\n",
       "      <td>-9.0</td>\n",
       "      <td>6</td>\n",
       "      <td>43</td>\n",
       "      <td>TQRMNOPTVHLOKRCDEFJAH00803557</td>\n",
       "      <td>1</td>\n",
       "    </tr>\n",
       "    <tr>\n",
       "      <th>1</th>\n",
       "      <td>1</td>\n",
       "      <td>33</td>\n",
       "      <td>-9.0</td>\n",
       "      <td>6</td>\n",
       "      <td>43</td>\n",
       "      <td>TQRMNOPTVHLOKRCDEFJAH00803557</td>\n",
       "      <td>1</td>\n",
       "    </tr>\n",
       "    <tr>\n",
       "      <th>2</th>\n",
       "      <td>1</td>\n",
       "      <td>81</td>\n",
       "      <td>1750000.0</td>\n",
       "      <td>6</td>\n",
       "      <td>43</td>\n",
       "      <td>TQRMNOQPRHKLKNCDEFJAH00868631</td>\n",
       "      <td>1</td>\n",
       "    </tr>\n",
       "    <tr>\n",
       "      <th>3</th>\n",
       "      <td>2</td>\n",
       "      <td>78</td>\n",
       "      <td>400000.0</td>\n",
       "      <td>6</td>\n",
       "      <td>43</td>\n",
       "      <td>TQRMNOQPRHKLKNCDEFJAH00868631</td>\n",
       "      <td>3</td>\n",
       "    </tr>\n",
       "    <tr>\n",
       "      <th>4</th>\n",
       "      <td>1</td>\n",
       "      <td>65</td>\n",
       "      <td>1200000.0</td>\n",
       "      <td>4</td>\n",
       "      <td>43</td>\n",
       "      <td>TQRMNORVXHKLKNCDEFJAH00868632</td>\n",
       "      <td>1</td>\n",
       "    </tr>\n",
       "  </tbody>\n",
       "</table>\n",
       "</div>"
      ],
      "text/plain": [
       "   CH04  CH06       P47T  NIVEL_ED  REGION                         CODUSU  \\\n",
       "0     2    33       -9.0         6      43  TQRMNOPTVHLOKRCDEFJAH00803557   \n",
       "1     1    33       -9.0         6      43  TQRMNOPTVHLOKRCDEFJAH00803557   \n",
       "2     1    81  1750000.0         6      43  TQRMNOQPRHKLKNCDEFJAH00868631   \n",
       "3     2    78   400000.0         6      43  TQRMNOQPRHKLKNCDEFJAH00868631   \n",
       "4     1    65  1200000.0         4      43  TQRMNORVXHKLKNCDEFJAH00868632   \n",
       "\n",
       "   ESTADO  \n",
       "0       1  \n",
       "1       1  \n",
       "2       1  \n",
       "3       3  \n",
       "4       1  "
      ]
     },
     "execution_count": 7,
     "metadata": {},
     "output_type": "execute_result"
    }
   ],
   "source": [
    "personas_fil = personas_fil_pam[['CH04', 'CH06', 'P47T', 'NIVEL_ED' ,'REGION', 'CODUSU', 'ESTADO']]\n",
    "personas_fil.head()"
   ]
  },
  {
   "cell_type": "code",
   "execution_count": 8,
   "id": "a3342f78",
   "metadata": {},
   "outputs": [
    {
     "data": {
      "text/plain": [
       "CH04         0\n",
       "CH06         0\n",
       "P47T        15\n",
       "NIVEL_ED     0\n",
       "REGION       0\n",
       "CODUSU       0\n",
       "ESTADO       0\n",
       "dtype: int64"
      ]
     },
     "execution_count": 8,
     "metadata": {},
     "output_type": "execute_result"
    }
   ],
   "source": [
    "personas_fil.isnull().sum()"
   ]
  },
  {
   "cell_type": "markdown",
   "id": "0e83cdc9",
   "metadata": {},
   "source": [
    "Encontramos que en la columna de Ingresos hay 15 filas nulas"
   ]
  },
  {
   "cell_type": "code",
   "execution_count": 9,
   "id": "b61b5988",
   "metadata": {},
   "outputs": [
    {
     "data": {
      "text/html": [
       "<div>\n",
       "<style scoped>\n",
       "    .dataframe tbody tr th:only-of-type {\n",
       "        vertical-align: middle;\n",
       "    }\n",
       "\n",
       "    .dataframe tbody tr th {\n",
       "        vertical-align: top;\n",
       "    }\n",
       "\n",
       "    .dataframe thead th {\n",
       "        text-align: right;\n",
       "    }\n",
       "</style>\n",
       "<table border=\"1\" class=\"dataframe\">\n",
       "  <thead>\n",
       "    <tr style=\"text-align: right;\">\n",
       "      <th></th>\n",
       "      <th>CH04</th>\n",
       "      <th>CH06</th>\n",
       "      <th>P47T</th>\n",
       "      <th>NIVEL_ED</th>\n",
       "      <th>REGION</th>\n",
       "      <th>ESTADO</th>\n",
       "    </tr>\n",
       "  </thead>\n",
       "  <tbody>\n",
       "    <tr>\n",
       "      <th>count</th>\n",
       "      <td>14315.000000</td>\n",
       "      <td>14315.000000</td>\n",
       "      <td>1.430000e+04</td>\n",
       "      <td>14315.000000</td>\n",
       "      <td>14315.0</td>\n",
       "      <td>14315.000000</td>\n",
       "    </tr>\n",
       "    <tr>\n",
       "      <th>mean</th>\n",
       "      <td>1.519246</td>\n",
       "      <td>37.251764</td>\n",
       "      <td>2.953922e+05</td>\n",
       "      <td>3.748795</td>\n",
       "      <td>43.0</td>\n",
       "      <td>2.182676</td>\n",
       "    </tr>\n",
       "    <tr>\n",
       "      <th>std</th>\n",
       "      <td>0.499647</td>\n",
       "      <td>22.394482</td>\n",
       "      <td>4.934719e+05</td>\n",
       "      <td>1.774382</td>\n",
       "      <td>0.0</td>\n",
       "      <td>1.129003</td>\n",
       "    </tr>\n",
       "    <tr>\n",
       "      <th>min</th>\n",
       "      <td>1.000000</td>\n",
       "      <td>-1.000000</td>\n",
       "      <td>-9.000000e+00</td>\n",
       "      <td>1.000000</td>\n",
       "      <td>43.0</td>\n",
       "      <td>0.000000</td>\n",
       "    </tr>\n",
       "    <tr>\n",
       "      <th>25%</th>\n",
       "      <td>1.000000</td>\n",
       "      <td>18.000000</td>\n",
       "      <td>0.000000e+00</td>\n",
       "      <td>2.000000</td>\n",
       "      <td>43.0</td>\n",
       "      <td>1.000000</td>\n",
       "    </tr>\n",
       "    <tr>\n",
       "      <th>50%</th>\n",
       "      <td>2.000000</td>\n",
       "      <td>35.000000</td>\n",
       "      <td>0.000000e+00</td>\n",
       "      <td>4.000000</td>\n",
       "      <td>43.0</td>\n",
       "      <td>3.000000</td>\n",
       "    </tr>\n",
       "    <tr>\n",
       "      <th>75%</th>\n",
       "      <td>2.000000</td>\n",
       "      <td>55.000000</td>\n",
       "      <td>4.300000e+05</td>\n",
       "      <td>5.000000</td>\n",
       "      <td>43.0</td>\n",
       "      <td>3.000000</td>\n",
       "    </tr>\n",
       "    <tr>\n",
       "      <th>max</th>\n",
       "      <td>2.000000</td>\n",
       "      <td>102.000000</td>\n",
       "      <td>1.237000e+07</td>\n",
       "      <td>7.000000</td>\n",
       "      <td>43.0</td>\n",
       "      <td>4.000000</td>\n",
       "    </tr>\n",
       "  </tbody>\n",
       "</table>\n",
       "</div>"
      ],
      "text/plain": [
       "               CH04          CH06          P47T      NIVEL_ED   REGION  \\\n",
       "count  14315.000000  14315.000000  1.430000e+04  14315.000000  14315.0   \n",
       "mean       1.519246     37.251764  2.953922e+05      3.748795     43.0   \n",
       "std        0.499647     22.394482  4.934719e+05      1.774382      0.0   \n",
       "min        1.000000     -1.000000 -9.000000e+00      1.000000     43.0   \n",
       "25%        1.000000     18.000000  0.000000e+00      2.000000     43.0   \n",
       "50%        2.000000     35.000000  0.000000e+00      4.000000     43.0   \n",
       "75%        2.000000     55.000000  4.300000e+05      5.000000     43.0   \n",
       "max        2.000000    102.000000  1.237000e+07      7.000000     43.0   \n",
       "\n",
       "             ESTADO  \n",
       "count  14315.000000  \n",
       "mean       2.182676  \n",
       "std        1.129003  \n",
       "min        0.000000  \n",
       "25%        1.000000  \n",
       "50%        3.000000  \n",
       "75%        3.000000  \n",
       "max        4.000000  "
      ]
     },
     "execution_count": 9,
     "metadata": {},
     "output_type": "execute_result"
    }
   ],
   "source": [
    "personas_fil.describe()"
   ]
  },
  {
   "cell_type": "markdown",
   "id": "66a298af",
   "metadata": {},
   "source": [
    "Hay un minimo de edad de -1 que no es lógico, y de ingresos -9. Y máximos en ingresos mensual marca como maximo $12.370.000 (puede ser correcto)"
   ]
  },
  {
   "cell_type": "code",
   "execution_count": 10,
   "id": "45d16ea1",
   "metadata": {},
   "outputs": [
    {
     "name": "stdout",
     "output_type": "stream",
     "text": [
      "Longitud Tabla Hogares: 16650\n",
      "Longitud Tabla Hogares Filtrada: 5410\n"
     ]
    }
   ],
   "source": [
    "hogares_fil_pam = hogares[hogares['REGION'] == 43]\n",
    "print(\"Longitud Tabla Hogares:\", len(hogares))\n",
    "print(\"Longitud Tabla Hogares Filtrada:\", len(hogares_fil_pam))"
   ]
  },
  {
   "cell_type": "markdown",
   "id": "e8b86a4e",
   "metadata": {},
   "source": [
    "Se redujo el total de la tabla personas un 32%"
   ]
  },
  {
   "cell_type": "code",
   "execution_count": 11,
   "id": "e17fdcbf",
   "metadata": {},
   "outputs": [],
   "source": [
    "hogares_fil = hogares_fil_pam[['V14', 'V15', 'V16','REGION', 'CODUSU' ]]"
   ]
  },
  {
   "cell_type": "code",
   "execution_count": 12,
   "id": "c3179bfd",
   "metadata": {},
   "outputs": [
    {
     "data": {
      "text/html": [
       "<div>\n",
       "<style scoped>\n",
       "    .dataframe tbody tr th:only-of-type {\n",
       "        vertical-align: middle;\n",
       "    }\n",
       "\n",
       "    .dataframe tbody tr th {\n",
       "        vertical-align: top;\n",
       "    }\n",
       "\n",
       "    .dataframe thead th {\n",
       "        text-align: right;\n",
       "    }\n",
       "</style>\n",
       "<table border=\"1\" class=\"dataframe\">\n",
       "  <thead>\n",
       "    <tr style=\"text-align: right;\">\n",
       "      <th></th>\n",
       "      <th>V14</th>\n",
       "      <th>V15</th>\n",
       "      <th>V16</th>\n",
       "      <th>REGION</th>\n",
       "      <th>CODUSU</th>\n",
       "    </tr>\n",
       "  </thead>\n",
       "  <tbody>\n",
       "    <tr>\n",
       "      <th>0</th>\n",
       "      <td>2</td>\n",
       "      <td>2</td>\n",
       "      <td>1</td>\n",
       "      <td>43</td>\n",
       "      <td>TQRMNOQVSHMMLOCDEFJAH00808791</td>\n",
       "    </tr>\n",
       "    <tr>\n",
       "      <th>1</th>\n",
       "      <td>2</td>\n",
       "      <td>2</td>\n",
       "      <td>1</td>\n",
       "      <td>43</td>\n",
       "      <td>TQRMNOPTQHKLLSCDEFJAH00866946</td>\n",
       "    </tr>\n",
       "    <tr>\n",
       "      <th>2</th>\n",
       "      <td>2</td>\n",
       "      <td>2</td>\n",
       "      <td>2</td>\n",
       "      <td>43</td>\n",
       "      <td>TQRMNORVTHMOLSCDEFJAH00808761</td>\n",
       "    </tr>\n",
       "    <tr>\n",
       "      <th>3</th>\n",
       "      <td>2</td>\n",
       "      <td>2</td>\n",
       "      <td>2</td>\n",
       "      <td>43</td>\n",
       "      <td>TQRMNORVVHMOLSCDEFJAH00866947</td>\n",
       "    </tr>\n",
       "    <tr>\n",
       "      <th>4</th>\n",
       "      <td>2</td>\n",
       "      <td>2</td>\n",
       "      <td>2</td>\n",
       "      <td>43</td>\n",
       "      <td>TQRMNOTPTHLNLRCDEFJAH00803474</td>\n",
       "    </tr>\n",
       "  </tbody>\n",
       "</table>\n",
       "</div>"
      ],
      "text/plain": [
       "   V14  V15  V16  REGION                         CODUSU\n",
       "0    2    2    1      43  TQRMNOQVSHMMLOCDEFJAH00808791\n",
       "1    2    2    1      43  TQRMNOPTQHKLLSCDEFJAH00866946\n",
       "2    2    2    2      43  TQRMNORVTHMOLSCDEFJAH00808761\n",
       "3    2    2    2      43  TQRMNORVVHMOLSCDEFJAH00866947\n",
       "4    2    2    2      43  TQRMNOTPTHLNLRCDEFJAH00803474"
      ]
     },
     "execution_count": 12,
     "metadata": {},
     "output_type": "execute_result"
    }
   ],
   "source": [
    "hogares_fil.head()"
   ]
  },
  {
   "cell_type": "code",
   "execution_count": 13,
   "id": "6e0a19be",
   "metadata": {},
   "outputs": [
    {
     "data": {
      "text/plain": [
       "V14       0\n",
       "V15       0\n",
       "V16       0\n",
       "REGION    0\n",
       "CODUSU    0\n",
       "dtype: int64"
      ]
     },
     "execution_count": 13,
     "metadata": {},
     "output_type": "execute_result"
    }
   ],
   "source": [
    "hogares_fil.isnull().sum()\n"
   ]
  },
  {
   "cell_type": "code",
   "execution_count": null,
   "id": "6963df35",
   "metadata": {},
   "outputs": [
    {
     "data": {
      "text/html": [
       "<div>\n",
       "<style scoped>\n",
       "    .dataframe tbody tr th:only-of-type {\n",
       "        vertical-align: middle;\n",
       "    }\n",
       "\n",
       "    .dataframe tbody tr th {\n",
       "        vertical-align: top;\n",
       "    }\n",
       "\n",
       "    .dataframe thead th {\n",
       "        text-align: right;\n",
       "    }\n",
       "</style>\n",
       "<table border=\"1\" class=\"dataframe\">\n",
       "  <thead>\n",
       "    <tr style=\"text-align: right;\">\n",
       "      <th></th>\n",
       "      <th>V14</th>\n",
       "      <th>V15</th>\n",
       "      <th>V16</th>\n",
       "      <th>REGION</th>\n",
       "    </tr>\n",
       "  </thead>\n",
       "  <tbody>\n",
       "    <tr>\n",
       "      <th>count</th>\n",
       "      <td>5410.000000</td>\n",
       "      <td>5410.000000</td>\n",
       "      <td>5410.000000</td>\n",
       "      <td>5410.0</td>\n",
       "    </tr>\n",
       "    <tr>\n",
       "      <th>mean</th>\n",
       "      <td>1.851386</td>\n",
       "      <td>1.891682</td>\n",
       "      <td>1.529575</td>\n",
       "      <td>43.0</td>\n",
       "    </tr>\n",
       "    <tr>\n",
       "      <th>std</th>\n",
       "      <td>0.370006</td>\n",
       "      <td>0.327041</td>\n",
       "      <td>0.509435</td>\n",
       "      <td>0.0</td>\n",
       "    </tr>\n",
       "    <tr>\n",
       "      <th>min</th>\n",
       "      <td>1.000000</td>\n",
       "      <td>1.000000</td>\n",
       "      <td>1.000000</td>\n",
       "      <td>43.0</td>\n",
       "    </tr>\n",
       "    <tr>\n",
       "      <th>25%</th>\n",
       "      <td>2.000000</td>\n",
       "      <td>2.000000</td>\n",
       "      <td>1.000000</td>\n",
       "      <td>43.0</td>\n",
       "    </tr>\n",
       "    <tr>\n",
       "      <th>50%</th>\n",
       "      <td>2.000000</td>\n",
       "      <td>2.000000</td>\n",
       "      <td>2.000000</td>\n",
       "      <td>43.0</td>\n",
       "    </tr>\n",
       "    <tr>\n",
       "      <th>75%</th>\n",
       "      <td>2.000000</td>\n",
       "      <td>2.000000</td>\n",
       "      <td>2.000000</td>\n",
       "      <td>43.0</td>\n",
       "    </tr>\n",
       "    <tr>\n",
       "      <th>max</th>\n",
       "      <td>9.000000</td>\n",
       "      <td>9.000000</td>\n",
       "      <td>9.000000</td>\n",
       "      <td>43.0</td>\n",
       "    </tr>\n",
       "  </tbody>\n",
       "</table>\n",
       "</div>"
      ],
      "text/plain": [
       "               V14          V15          V16  REGION\n",
       "count  5410.000000  5410.000000  5410.000000  5410.0\n",
       "mean      1.851386     1.891682     1.529575    43.0\n",
       "std       0.370006     0.327041     0.509435     0.0\n",
       "min       1.000000     1.000000     1.000000    43.0\n",
       "25%       2.000000     2.000000     1.000000    43.0\n",
       "50%       2.000000     2.000000     2.000000    43.0\n",
       "75%       2.000000     2.000000     2.000000    43.0\n",
       "max       9.000000     9.000000     9.000000    43.0"
      ]
     },
     "metadata": {},
     "output_type": "display_data"
    }
   ],
   "source": [
    "hogares_fil.describe()"
   ]
  },
  {
   "cell_type": "markdown",
   "id": "9c6e7ebc",
   "metadata": {},
   "source": [
    "Hay errores de ingreso de datos al tener maximos en \"9\" cuando permite 1 o 2, en cuanto a comportamientos de consumo-prestamos."
   ]
  },
  {
   "cell_type": "code",
   "execution_count": null,
   "id": "7e44a8cc",
   "metadata": {},
   "outputs": [
    {
     "data": {
      "text/plain": [
       "2    4598\n",
       "1     811\n",
       "9       1\n",
       "Name: V14, dtype: int64"
      ]
     },
     "metadata": {},
     "output_type": "display_data"
    }
   ],
   "source": [
    "hogares_fil['V14'].value_counts()"
   ]
  },
  {
   "cell_type": "markdown",
   "id": "4d90040a",
   "metadata": {},
   "source": [
    "Vemos una Fila con el valor 9 en la columna de prestamos a personas, por lo que se revisara cada estas variables"
   ]
  },
  {
   "cell_type": "markdown",
   "id": "d4531122",
   "metadata": {},
   "source": [
    "### Personas y Hogares región Pampeana"
   ]
  },
  {
   "cell_type": "code",
   "execution_count": null,
   "id": "e1a7aad2",
   "metadata": {},
   "outputs": [],
   "source": [
    "df_final = pd.merge(personas_fil, hogares_fil, on=['CODUSU'], how='inner')"
   ]
  },
  {
   "cell_type": "code",
   "execution_count": null,
   "id": "a05450f9",
   "metadata": {},
   "outputs": [
    {
     "data": {
      "text/plain": [
       "CH04         0\n",
       "CH06         0\n",
       "P47T        15\n",
       "NIVEL_ED     0\n",
       "REGION_x     0\n",
       "CODUSU       0\n",
       "V14          0\n",
       "V15          0\n",
       "V16          0\n",
       "REGION_y     0\n",
       "dtype: int64"
      ]
     },
     "metadata": {},
     "output_type": "display_data"
    }
   ],
   "source": [
    "df_final.isnull().sum()"
   ]
  },
  {
   "cell_type": "code",
   "execution_count": null,
   "id": "e5a2baa7",
   "metadata": {},
   "outputs": [
    {
     "data": {
      "text/html": [
       "<div>\n",
       "<style scoped>\n",
       "    .dataframe tbody tr th:only-of-type {\n",
       "        vertical-align: middle;\n",
       "    }\n",
       "\n",
       "    .dataframe tbody tr th {\n",
       "        vertical-align: top;\n",
       "    }\n",
       "\n",
       "    .dataframe thead th {\n",
       "        text-align: right;\n",
       "    }\n",
       "</style>\n",
       "<table border=\"1\" class=\"dataframe\">\n",
       "  <thead>\n",
       "    <tr style=\"text-align: right;\">\n",
       "      <th></th>\n",
       "      <th>CH04</th>\n",
       "      <th>CH06</th>\n",
       "      <th>P47T</th>\n",
       "      <th>NIVEL_ED</th>\n",
       "      <th>REGION_x</th>\n",
       "      <th>CODUSU</th>\n",
       "      <th>V14</th>\n",
       "      <th>V15</th>\n",
       "      <th>V16</th>\n",
       "      <th>REGION_y</th>\n",
       "    </tr>\n",
       "  </thead>\n",
       "  <tbody>\n",
       "    <tr>\n",
       "      <th>0</th>\n",
       "      <td>2</td>\n",
       "      <td>33</td>\n",
       "      <td>-9.0</td>\n",
       "      <td>6</td>\n",
       "      <td>43</td>\n",
       "      <td>TQRMNOPTVHLOKRCDEFJAH00803557</td>\n",
       "      <td>2</td>\n",
       "      <td>2</td>\n",
       "      <td>1</td>\n",
       "      <td>43</td>\n",
       "    </tr>\n",
       "    <tr>\n",
       "      <th>1</th>\n",
       "      <td>1</td>\n",
       "      <td>33</td>\n",
       "      <td>-9.0</td>\n",
       "      <td>6</td>\n",
       "      <td>43</td>\n",
       "      <td>TQRMNOPTVHLOKRCDEFJAH00803557</td>\n",
       "      <td>2</td>\n",
       "      <td>2</td>\n",
       "      <td>1</td>\n",
       "      <td>43</td>\n",
       "    </tr>\n",
       "    <tr>\n",
       "      <th>2</th>\n",
       "      <td>1</td>\n",
       "      <td>81</td>\n",
       "      <td>1750000.0</td>\n",
       "      <td>6</td>\n",
       "      <td>43</td>\n",
       "      <td>TQRMNOQPRHKLKNCDEFJAH00868631</td>\n",
       "      <td>2</td>\n",
       "      <td>2</td>\n",
       "      <td>2</td>\n",
       "      <td>43</td>\n",
       "    </tr>\n",
       "    <tr>\n",
       "      <th>3</th>\n",
       "      <td>2</td>\n",
       "      <td>78</td>\n",
       "      <td>400000.0</td>\n",
       "      <td>6</td>\n",
       "      <td>43</td>\n",
       "      <td>TQRMNOQPRHKLKNCDEFJAH00868631</td>\n",
       "      <td>2</td>\n",
       "      <td>2</td>\n",
       "      <td>2</td>\n",
       "      <td>43</td>\n",
       "    </tr>\n",
       "    <tr>\n",
       "      <th>4</th>\n",
       "      <td>1</td>\n",
       "      <td>65</td>\n",
       "      <td>1200000.0</td>\n",
       "      <td>4</td>\n",
       "      <td>43</td>\n",
       "      <td>TQRMNORVXHKLKNCDEFJAH00868632</td>\n",
       "      <td>2</td>\n",
       "      <td>1</td>\n",
       "      <td>1</td>\n",
       "      <td>43</td>\n",
       "    </tr>\n",
       "    <tr>\n",
       "      <th>5</th>\n",
       "      <td>2</td>\n",
       "      <td>66</td>\n",
       "      <td>435600.0</td>\n",
       "      <td>4</td>\n",
       "      <td>43</td>\n",
       "      <td>TQRMNORVXHKLKNCDEFJAH00868632</td>\n",
       "      <td>2</td>\n",
       "      <td>1</td>\n",
       "      <td>1</td>\n",
       "      <td>43</td>\n",
       "    </tr>\n",
       "    <tr>\n",
       "      <th>6</th>\n",
       "      <td>1</td>\n",
       "      <td>30</td>\n",
       "      <td>1125000.0</td>\n",
       "      <td>5</td>\n",
       "      <td>43</td>\n",
       "      <td>TQRMNORVXHKLKNCDEFJAH00868632</td>\n",
       "      <td>2</td>\n",
       "      <td>1</td>\n",
       "      <td>1</td>\n",
       "      <td>43</td>\n",
       "    </tr>\n",
       "    <tr>\n",
       "      <th>7</th>\n",
       "      <td>1</td>\n",
       "      <td>63</td>\n",
       "      <td>-9.0</td>\n",
       "      <td>3</td>\n",
       "      <td>43</td>\n",
       "      <td>TQRMNQYTSHMOKQCDEFJAH00851671</td>\n",
       "      <td>2</td>\n",
       "      <td>2</td>\n",
       "      <td>2</td>\n",
       "      <td>43</td>\n",
       "    </tr>\n",
       "    <tr>\n",
       "      <th>8</th>\n",
       "      <td>2</td>\n",
       "      <td>60</td>\n",
       "      <td>0.0</td>\n",
       "      <td>3</td>\n",
       "      <td>43</td>\n",
       "      <td>TQRMNQYTSHMOKQCDEFJAH00851671</td>\n",
       "      <td>2</td>\n",
       "      <td>2</td>\n",
       "      <td>2</td>\n",
       "      <td>43</td>\n",
       "    </tr>\n",
       "    <tr>\n",
       "      <th>9</th>\n",
       "      <td>2</td>\n",
       "      <td>22</td>\n",
       "      <td>0.0</td>\n",
       "      <td>4</td>\n",
       "      <td>43</td>\n",
       "      <td>TQRMNQYTSHMOKQCDEFJAH00851671</td>\n",
       "      <td>2</td>\n",
       "      <td>2</td>\n",
       "      <td>2</td>\n",
       "      <td>43</td>\n",
       "    </tr>\n",
       "    <tr>\n",
       "      <th>10</th>\n",
       "      <td>1</td>\n",
       "      <td>75</td>\n",
       "      <td>350000.0</td>\n",
       "      <td>3</td>\n",
       "      <td>43</td>\n",
       "      <td>TQRMNORQRHLMLLCDEGKDB00805055</td>\n",
       "      <td>2</td>\n",
       "      <td>2</td>\n",
       "      <td>2</td>\n",
       "      <td>43</td>\n",
       "    </tr>\n",
       "    <tr>\n",
       "      <th>11</th>\n",
       "      <td>2</td>\n",
       "      <td>49</td>\n",
       "      <td>-9.0</td>\n",
       "      <td>5</td>\n",
       "      <td>43</td>\n",
       "      <td>TQRMNORQRHLMLLCDEGKDB00805055</td>\n",
       "      <td>2</td>\n",
       "      <td>2</td>\n",
       "      <td>2</td>\n",
       "      <td>43</td>\n",
       "    </tr>\n",
       "    <tr>\n",
       "      <th>12</th>\n",
       "      <td>1</td>\n",
       "      <td>28</td>\n",
       "      <td>500000.0</td>\n",
       "      <td>6</td>\n",
       "      <td>43</td>\n",
       "      <td>TQRMNOQVTHMLLNCDEGKDB00810177</td>\n",
       "      <td>2</td>\n",
       "      <td>2</td>\n",
       "      <td>1</td>\n",
       "      <td>43</td>\n",
       "    </tr>\n",
       "    <tr>\n",
       "      <th>13</th>\n",
       "      <td>2</td>\n",
       "      <td>32</td>\n",
       "      <td>320000.0</td>\n",
       "      <td>5</td>\n",
       "      <td>43</td>\n",
       "      <td>TQRMNOQVTHMLLNCDEGKDB00810177</td>\n",
       "      <td>2</td>\n",
       "      <td>2</td>\n",
       "      <td>1</td>\n",
       "      <td>43</td>\n",
       "    </tr>\n",
       "    <tr>\n",
       "      <th>14</th>\n",
       "      <td>1</td>\n",
       "      <td>38</td>\n",
       "      <td>1300000.0</td>\n",
       "      <td>4</td>\n",
       "      <td>43</td>\n",
       "      <td>TQRMNOPRYHKMLMCDEGKDB00868633</td>\n",
       "      <td>2</td>\n",
       "      <td>1</td>\n",
       "      <td>1</td>\n",
       "      <td>43</td>\n",
       "    </tr>\n",
       "  </tbody>\n",
       "</table>\n",
       "</div>"
      ],
      "text/plain": [
       "    CH04  CH06       P47T  NIVEL_ED  REGION_x                         CODUSU  \\\n",
       "0      2    33       -9.0         6        43  TQRMNOPTVHLOKRCDEFJAH00803557   \n",
       "1      1    33       -9.0         6        43  TQRMNOPTVHLOKRCDEFJAH00803557   \n",
       "2      1    81  1750000.0         6        43  TQRMNOQPRHKLKNCDEFJAH00868631   \n",
       "3      2    78   400000.0         6        43  TQRMNOQPRHKLKNCDEFJAH00868631   \n",
       "4      1    65  1200000.0         4        43  TQRMNORVXHKLKNCDEFJAH00868632   \n",
       "5      2    66   435600.0         4        43  TQRMNORVXHKLKNCDEFJAH00868632   \n",
       "6      1    30  1125000.0         5        43  TQRMNORVXHKLKNCDEFJAH00868632   \n",
       "7      1    63       -9.0         3        43  TQRMNQYTSHMOKQCDEFJAH00851671   \n",
       "8      2    60        0.0         3        43  TQRMNQYTSHMOKQCDEFJAH00851671   \n",
       "9      2    22        0.0         4        43  TQRMNQYTSHMOKQCDEFJAH00851671   \n",
       "10     1    75   350000.0         3        43  TQRMNORQRHLMLLCDEGKDB00805055   \n",
       "11     2    49       -9.0         5        43  TQRMNORQRHLMLLCDEGKDB00805055   \n",
       "12     1    28   500000.0         6        43  TQRMNOQVTHMLLNCDEGKDB00810177   \n",
       "13     2    32   320000.0         5        43  TQRMNOQVTHMLLNCDEGKDB00810177   \n",
       "14     1    38  1300000.0         4        43  TQRMNOPRYHKMLMCDEGKDB00868633   \n",
       "\n",
       "    V14  V15  V16  REGION_y  \n",
       "0     2    2    1        43  \n",
       "1     2    2    1        43  \n",
       "2     2    2    2        43  \n",
       "3     2    2    2        43  \n",
       "4     2    1    1        43  \n",
       "5     2    1    1        43  \n",
       "6     2    1    1        43  \n",
       "7     2    2    2        43  \n",
       "8     2    2    2        43  \n",
       "9     2    2    2        43  \n",
       "10    2    2    2        43  \n",
       "11    2    2    2        43  \n",
       "12    2    2    1        43  \n",
       "13    2    2    1        43  \n",
       "14    2    1    1        43  "
      ]
     },
     "metadata": {},
     "output_type": "display_data"
    }
   ],
   "source": [
    "df_final.head(15)"
   ]
  },
  {
   "cell_type": "markdown",
   "id": "0c679ab2",
   "metadata": {},
   "source": [
    "En este caso vamos a tener que agrupar las columnas de personas para resumirlas y trabajarlas junto con los datos de hogares."
   ]
  },
  {
   "cell_type": "markdown",
   "id": "35f8708a",
   "metadata": {},
   "source": [
    "### Tablas de Referencia"
   ]
  },
  {
   "cell_type": "markdown",
   "id": "29f9837f",
   "metadata": {},
   "source": [
    "#### ESTADO - Condición de Actividad\n",
    "Tipo de variable: Nominal"
   ]
  },
  {
   "cell_type": "code",
   "execution_count": 23,
   "id": "2d9eaf3d",
   "metadata": {},
   "outputs": [],
   "source": [
    "estado = pd.DataFrame([(0, \"Encuesta no realizada\"), (1, \"Ocupado\"), (2, \"Desocupado\"), (3, \"Inactivo\"), (4, \"Menor de 10 años\")], columns=[\"ESTADO\", \"ESTADO_NOMBRE\"])"
   ]
  },
  {
   "cell_type": "markdown",
   "id": "2e195781",
   "metadata": {},
   "source": [
    "##### Datos faltantes\n",
    "No hay registros con valores indefinidos."
   ]
  },
  {
   "cell_type": "code",
   "execution_count": 14,
   "id": "fcaacd47",
   "metadata": {},
   "outputs": [
    {
     "data": {
      "text/plain": [
       "0"
      ]
     },
     "execution_count": 14,
     "metadata": {},
     "output_type": "execute_result"
    }
   ],
   "source": [
    "sum(personas_fil[\"ESTADO\"].isna())"
   ]
  },
  {
   "cell_type": "markdown",
   "id": "01d57fe8",
   "metadata": {},
   "source": [
    "##### Análisis de Frecuencias"
   ]
  },
  {
   "cell_type": "code",
   "execution_count": 22,
   "id": "d7e81a7c",
   "metadata": {},
   "outputs": [
    {
     "data": {
      "text/plain": [
       "ESTADO_NOMBRE\n",
       "Ocupado                  6389\n",
       "Inactivo                 5794\n",
       "Menor de 10 años         1620\n",
       "Desocupado                497\n",
       "Encuesta no realizada      15\n",
       "Name: count, dtype: int64"
      ]
     },
     "execution_count": 22,
     "metadata": {},
     "output_type": "execute_result"
    }
   ],
   "source": [
    "personas_fil.merge(estado, how=\"inner\", on=\"ESTADO\")[\"ESTADO_NOMBRE\"].value_counts()"
   ]
  },
  {
   "cell_type": "code",
   "execution_count": 18,
   "id": "9a060012",
   "metadata": {},
   "outputs": [
    {
     "data": {
      "text/plain": [
       "ESTADO_NOMBRE\n",
       "Ocupado                  0.446315\n",
       "Inactivo                 0.404750\n",
       "Menor de 10 años         0.113168\n",
       "Desocupado               0.034719\n",
       "Encuesta no realizada    0.001048\n",
       "Name: proportion, dtype: float64"
      ]
     },
     "execution_count": 18,
     "metadata": {},
     "output_type": "execute_result"
    }
   ],
   "source": [
    "personas_fil.merge(estado, how=\"inner\", on=\"ESTADO\")[\"ESTADO_NOMBRE\"].value_counts(normalize=True)"
   ]
  },
  {
   "cell_type": "code",
   "execution_count": 21,
   "id": "a525e28b",
   "metadata": {},
   "outputs": [
    {
     "data": {
      "text/plain": [
       "([<matplotlib.patches.Wedge at 0x746cf353d090>,\n",
       "  <matplotlib.patches.Wedge at 0x746cf353cfa0>,\n",
       "  <matplotlib.patches.Wedge at 0x746cf353df00>,\n",
       "  <matplotlib.patches.Wedge at 0x746cf353e6b0>,\n",
       "  <matplotlib.patches.Wedge at 0x746cf353ee60>],\n",
       " [Text(0.2400365887314052, 1.4097100539012235, 'Ocupado'),\n",
       "  Text(-0.8500255506619434, -1.1499376344923495, 'Inactivo'),\n",
       "  Text(1.1959403305519825, -0.783981329981279, 'Menor de 10 años'),\n",
       "  Text(1.4204464824824705, -0.16502057569641798, 'Desocupado'),\n",
       "  Text(1.429992251792115, -0.00470742121724979, 'Encuesta no realizada')],\n",
       " [Text(0.17457206453193105, 1.0252436755645262, '44.63%'),\n",
       "  Text(-0.6182004004814133, -0.8363182796307995, '40.48%'),\n",
       "  Text(0.8697747858559872, -0.5701682399863847, '11.32%'),\n",
       "  Text(1.0330519872599784, -0.12001496414284943, '3.47%'),\n",
       "  Text(1.03999436493972, -0.003423579067090756, '0.10%')])"
      ]
     },
     "execution_count": 21,
     "metadata": {},
     "output_type": "execute_result"
    },
    {
     "data": {
      "image/png": "[encoded data removed]",
      "text/plain": [
       "<Figure size 640x480 with 1 Axes>"
      ]
     },
     "metadata": {},
     "output_type": "display_data"
    }
   ],
   "source": [
    "frecuencias = personas_fil.merge(estado, how=\"inner\", on=\"ESTADO\")[\"ESTADO_NOMBRE\"].value_counts()\n",
    "plt.pie(frecuencias, labels=frecuencias.index, autopct=\"%.2f%%\", pctdistance=0.8, labeldistance=1.1, radius=1.3)\n"
   ]
  },
  {
   "cell_type": "markdown",
   "id": "df316772",
   "metadata": {},
   "source": [
    "\n",
    "#### NIVEL_ED - Nivel Educativo\n",
    "\n",
    "Tipo de Variable: Ordinal\n"
   ]
  },
  {
   "cell_type": "code",
   "execution_count": 24,
   "id": "ca6f8163",
   "metadata": {},
   "outputs": [],
   "source": [
    "nivel_educativo = pd.DataFrame([\n",
    "    (1, \"Primario incompleto (incluye educación especial)\"),\n",
    "    (2, \"Primario completo\"),\n",
    "    (3, \"Secundario incompleto\"),\n",
    "    (4, \"Secundario completo\"),\n",
    "    (5, \"Superior universitario incompleto\"),\n",
    "    (6, \"Superior universitario completo\"),\n",
    "    (7, \"Sin instrucción\"),\n",
    "    (9, \"Ns/Nr\"),\n",
    "    ], columns=[\"NIVEL_ED\", \"NIVEL_ED_NOMBRE\"])\n"
   ]
  },
  {
   "cell_type": "markdown",
   "id": "d774cadf",
   "metadata": {},
   "source": [
    "\n",
    "#### Datos faltantes\n",
    "\n",
    "No hay registros con valores indefinidos.\n"
   ]
  },
  {
   "cell_type": "code",
   "execution_count": 25,
   "id": "53ad2c9a",
   "metadata": {},
   "outputs": [
    {
     "data": {
      "text/plain": [
       "0"
      ]
     },
     "execution_count": 25,
     "metadata": {},
     "output_type": "execute_result"
    }
   ],
   "source": [
    "sum(personas_fil[\"NIVEL_ED\"].isna())"
   ]
  },
  {
   "cell_type": "markdown",
   "id": "c101aa13",
   "metadata": {},
   "source": [
    "#### Análisis de Frecuencias"
   ]
  },
  {
   "cell_type": "code",
   "execution_count": null,
   "id": "2b7a0948",
   "metadata": {},
   "outputs": [
    {
     "data": {
      "text/plain": [
       "NIVEL_ED  NIVEL_ED_NOMBRE                                 \n",
       "4         Secundario completo                                 2965\n",
       "3         Secundario incompleto                               2887\n",
       "6         Superior universitario completo                     2156\n",
       "1         Primario incompleto (incluye educación especial)    2016\n",
       "5         Superior universitario incompleto                   1743\n",
       "2         Primario completo                                   1672\n",
       "7         Sin instrucción                                      876\n",
       "Name: count, dtype: int64"
      ]
     },
     "execution_count": 26,
     "metadata": {},
     "output_type": "execute_result"
    }
   ],
   "source": [
    "personas_fil.merge(nivel_educativo, how=\"inner\", on=\"NIVEL_ED\")[[\"NIVEL_ED\",\"NIVEL_ED_NOMBRE\"]].value_counts()"
   ]
  },
  {
   "cell_type": "code",
   "execution_count": 27,
   "id": "30b458a4",
   "metadata": {},
   "outputs": [
    {
     "data": {
      "text/plain": [
       "NIVEL_ED_NOMBRE\n",
       "Secundario completo                                 0.207125\n",
       "Secundario incompleto                               0.201677\n",
       "Superior universitario completo                     0.150611\n",
       "Primario incompleto (incluye educación especial)    0.140831\n",
       "Superior universitario incompleto                   0.121760\n",
       "Primario completo                                   0.116801\n",
       "Sin instrucción                                     0.061195\n",
       "Name: proportion, dtype: float64"
      ]
     },
     "execution_count": 27,
     "metadata": {},
     "output_type": "execute_result"
    }
   ],
   "source": [
    "personas_fil.merge(nivel_educativo, how=\"inner\", on=\"NIVEL_ED\")[\"NIVEL_ED_NOMBRE\"].value_counts(normalize=True)"
   ]
  },
  {
   "cell_type": "code",
   "execution_count": 28,
   "id": "e41c637f",
   "metadata": {},
   "outputs": [
    {
     "data": {
      "text/plain": [
       "([0, 1, 2, 3, 4, 5, 6],\n",
       " [Text(0, 0, 'Primario incompleto (incluye educación especial)'),\n",
       "  Text(1, 0, 'Primario completo'),\n",
       "  Text(2, 0, 'Secundario incompleto'),\n",
       "  Text(3, 0, 'Secundario completo'),\n",
       "  Text(4, 0, 'Superior universitario incompleto'),\n",
       "  Text(5, 0, 'Superior universitario completo'),\n",
       "  Text(6, 0, 'Sin instrucción')])"
      ]
     },
     "execution_count": 28,
     "metadata": {},
     "output_type": "execute_result"
    },
    {
     "data": {
      "image/png": "[encoded data removed]",
      "text/plain": [
       "<Figure size 640x480 with 1 Axes>"
      ]
     },
     "metadata": {},
     "output_type": "display_data"
    }
   ],
   "source": [
    "frecuencias = personas_fil.merge(nivel_educativo, how=\"inner\", on=\"NIVEL_ED\")[[\"NIVEL_ED\",\"NIVEL_ED_NOMBRE\"]].value_counts().reset_index(name='NIVEL_ED_COUNT').sort_values(\"NIVEL_ED\")\n",
    "plt.bar(frecuencias[\"NIVEL_ED_NOMBRE\"], frecuencias[\"NIVEL_ED_COUNT\"])\n",
    "# frecuencias.reset_index(name='NIVEL_ED_COUNT').sort_values(\"NIVEL_ED\")\n",
    "# plt.bar(frecuencias.index, frecuencias)\n",
    "plt.xticks(rotation=90)"
   ]
  }
 ],
 "metadata": {
  "kernelspec": {
   "display_name": ".venv",
   "language": "python",
   "name": "python3"
  },
  "language_info": {
   "codemirror_mode": {
    "name": "ipython",
    "version": 3
   },
   "file_extension": ".py",
   "mimetype": "text/x-python",
   "name": "python",
   "nbconvert_exporter": "python",
   "pygments_lexer": "ipython3",
   "version": "3.10.12"
  }
 },
 "nbformat": 4,
 "nbformat_minor": 5
}
