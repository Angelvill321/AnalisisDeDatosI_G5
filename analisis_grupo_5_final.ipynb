{
 "cells": [
  {
   "cell_type": "markdown",
   "id": "6cb97dba",
   "metadata": {
    "notebookRunGroups": {
     "groupValue": "1"
    }
   },
   "source": [
    "# Unidad 1. Análisis Exploratorio\n",
    "\n",
    "### Problemática:\n",
    "\n",
    "**¿Qué factores personales y comportamentales se relacionan con los ingresos individuales en la región Pampeana?**\n",
    "Este análisis busca explorar variables como el sexo, la edad y el nivel educativo, así como ciertas prácticas financieras del hogar (pedir préstamos, comprar en cuotas o al fiado), se asocian con el nivel de ingreso declarado por las personas.\n",
    "Se trabaja sobre la region Pampeana, ya que es una region de intereses, dado que algunos participantes del grupo viven en la region y sirve para poder conocer ciertas caracteristicas de su zona.\n",
    "\n",
    "### Variables:\n",
    "Las variables a trabajar son:\n",
    "\n",
    "| Nombre Tabla  | Descripción                |\n",
    "|---------------|----------------------------|\n",
    "| P47T          | Ingreso total ind. (mes)   |\n",
    "| NIVEL_ED      | Nivel educativo alcanzado  |\n",
    "| CH04          | Sexo                       |\n",
    "| CH05          | Fecha de nacimiento        |\n",
    "| CH06          | Edad en años cumplidos     |\n",
    "| V14           | Piden préstamos a personas |\n",
    "| V15           | Piden préstamos a bancos   |\n",
    "| V16           | Compran en cuotas o fiado  |\n",
    "| ESTADO        | Condición de actividad     |\n",
    "\n",
    "### Población total y muestra:\n",
    "Este trabajo se basa en los datos provistos por la Encuesta Permanente de Hogares (EPH) correspondientes al tercer trimestre de 2024. Para este análisis se utilizaron tanto la base de datos de personas (individual) como la base de hogares, que fueron solapadas mediante el identificador común presente en ambas tablas (número de hogar y componente).\n",
    "La población total a la que pertenecen estos datos es la población residente en la República Argentina, de acuerdo a la cobertura de la EPH. Esta población incluye tanto a personas económicamente activas como inactivas, y contempla diversos niveles educativos, edades y situaciones familiares.\n",
    "\n",
    "Para el análisis se realizó un recorte geográfico, tomando únicamente los hogares y personas correspondientes a la región Pampeana, que abarca aglomerados urbanos en las provincias de Buenos Aires, Córdoba, Santa Fe, Entre Ríos y La Pampa. Elegimos esta región porque representa una parte muy importante de la población del país y tiene mucha variedad en cuanto a situaciones sociales y económicas. Esto nos permite analizar distintos casos dentro de una misma zona.\n",
    "\n",
    "La muestra analizada se compone de personas con ingresos individuales declarados, que además cuentan con información sobre sexo, edad, nivel educativo, y variables asociadas al comportamiento económico del hogar, como la compra en cuotas, al fiado, o el acceso a préstamos. Este enfoque permitió estudiar relaciones entre los ingresos individuales y diversas características sociodemográficas y de consumo dentro de la región Pampeana.\n",
    "\n",
    "### Clasificar las variables elegidas.\n",
    "|Columna  | Variable                  | Tipo de variable       | Fuente (tabla)    |\n",
    "|---------|---------------------------|------------------------|-------------------|\n",
    "|P47T     | Ingreso individual        | Cuantitativa continua  | Base individual   |\n",
    "|CH06     | Edad                      | Cuantitativa continua  | Base individual   |\n",
    "|CH05     | Fecha de nacimiento       | Cuantitativa continua  | Base individual   |\n",
    "|CH04     | Sexo                      | Cualitativa            | Base individual   |\n",
    "|NIVEL_ED | Nivel educativo           | Cualitativa ordinal    | Base individual   |\n",
    "|ESTADO   | Estado actividad          | Cualitativa            | Base individual   |\n",
    "|V16      | Compra en cuotas o fiado  | Cualitativa            | Base de hogares   |\n",
    "|V15      | Préstamo banco            | Cualitativa            | Base de hogares   |\n",
    "|V14      | Préstamo personas         | Cualitativa            | Base de hogares   |\n",
    "\n",
    "### Diagrama de Tablas vs Variables Seleccionadas\n",
    "![Distribución de variables en Hogares y Personas](der.png)\n",
    "\n"
   ]
  },
  {
   "cell_type": "markdown",
   "id": "50fc64ec",
   "metadata": {},
   "source": [
    "### Carga de datos de las encuestas"
   ]
  },
  {
   "cell_type": "code",
   "execution_count": 115,
   "id": "dc96acf9",
   "metadata": {},
   "outputs": [],
   "source": [
    "import pandas as pd\n",
    "\n",
    "hogares = pd.read_excel(\"usu_hogar_T324.xlsx\")\n",
    "personas = pd.read_excel(\"usu_individual_T324.xlsx\")"
   ]
  },
  {
   "cell_type": "markdown",
   "id": "e9b12084",
   "metadata": {},
   "source": [
    "### Renombramiento de columnas con nombres mas intuitivos."
   ]
  },
  {
   "cell_type": "code",
   "execution_count": 116,
   "id": "bbadb127",
   "metadata": {},
   "outputs": [],
   "source": [
    "# Renombrar columnas de personas\n",
    "renombrar_personas = {\n",
    "    \"CH04\": \"sexo\",\n",
    "    \"CH05\": \"fecha_nacimiento\",\n",
    "    \"CH06\": \"edad\",\n",
    "    \"P47T\": \"ingreso\",\n",
    "    \"NIVEL_ED\": \"nivel_educativo\",\n",
    "    \"ESTADO\": \"estado_actividad\",\n",
    "    \"CODUSU\": \"id_vivienda\",\n",
    "    \"NRO_HOGAR\": \"id_hogar\",\n",
    "    \"REGION\": \"region\"\n",
    "}\n",
    "personas.rename(columns=renombrar_personas, inplace=True)\n",
    "\n",
    "# Renombrar columnas de hogares\n",
    "renombrar_hogares = {\n",
    "    \"V14\": \"prestamo_personas\",\n",
    "    \"V15\": \"prestamo_banco\",\n",
    "    \"V16\": \"compra_cuotas\",\n",
    "    \"CODUSU\": \"id_vivienda\",\n",
    "    \"NRO_HOGAR\": \"id_hogar\",\n",
    "    \"REGION\": \"region\"\n",
    "}\n",
    "hogares.rename(columns=renombrar_hogares, inplace=True)"
   ]
  },
  {
   "cell_type": "markdown",
   "id": "547c1c1f",
   "metadata": {},
   "source": [
    "##### Configuración de dependencias"
   ]
  },
  {
   "cell_type": "code",
   "execution_count": 117,
   "id": "4bd04e7d",
   "metadata": {},
   "outputs": [],
   "source": [
    "import matplotlib.pyplot as plt\n",
    "import numpy as np\n",
    "import seaborn as sns\n",
    "%matplotlib inline  "
   ]
  },
  {
   "cell_type": "markdown",
   "id": "9ef3ed28",
   "metadata": {},
   "source": [
    "Como se va a trabajar sobre la región Pampeana (Número 43) se filtra todas las filas que cumplan esa valor."
   ]
  },
  {
   "cell_type": "code",
   "execution_count": 118,
   "id": "7476ce88",
   "metadata": {},
   "outputs": [],
   "source": [
    "personas_fil_pam = personas[personas['region'] == 43]"
   ]
  },
  {
   "cell_type": "code",
   "execution_count": 119,
   "id": "4ce2cb6a",
   "metadata": {},
   "outputs": [
    {
     "name": "stdout",
     "output_type": "stream",
     "text": [
      "Longitud Tabla Personas: 47564\n",
      "Longitud Tabla Personas Filtrada: 14315\n"
     ]
    }
   ],
   "source": [
    "print(\"Longitud Tabla Personas:\", len(personas))\n",
    "print(\"Longitud Tabla Personas Filtrada:\", len(personas_fil_pam))\n"
   ]
  },
  {
   "cell_type": "markdown",
   "id": "ed60bd26",
   "metadata": {},
   "source": [
    "Se redujo el total de la tabla personas un 30%.\n",
    "Ahora se va a filtrar las columnas (variables) a trabajar:"
   ]
  },
  {
   "cell_type": "code",
   "execution_count": 120,
   "id": "dc57708d",
   "metadata": {},
   "outputs": [
    {
     "data": {
      "text/html": [
       "<div>\n",
       "<style scoped>\n",
       "    .dataframe tbody tr th:only-of-type {\n",
       "        vertical-align: middle;\n",
       "    }\n",
       "\n",
       "    .dataframe tbody tr th {\n",
       "        vertical-align: top;\n",
       "    }\n",
       "\n",
       "    .dataframe thead th {\n",
       "        text-align: right;\n",
       "    }\n",
       "</style>\n",
       "<table border=\"1\" class=\"dataframe\">\n",
       "  <thead>\n",
       "    <tr style=\"text-align: right;\">\n",
       "      <th></th>\n",
       "      <th>id_vivienda</th>\n",
       "      <th>id_hogar</th>\n",
       "      <th>sexo</th>\n",
       "      <th>edad</th>\n",
       "      <th>ingreso</th>\n",
       "      <th>nivel_educativo</th>\n",
       "      <th>estado_actividad</th>\n",
       "      <th>region</th>\n",
       "    </tr>\n",
       "  </thead>\n",
       "  <tbody>\n",
       "    <tr>\n",
       "      <th>0</th>\n",
       "      <td>TQRMNOPTVHLOKRCDEFJAH00803557</td>\n",
       "      <td>1</td>\n",
       "      <td>2</td>\n",
       "      <td>33</td>\n",
       "      <td>-9.0</td>\n",
       "      <td>6</td>\n",
       "      <td>1</td>\n",
       "      <td>43</td>\n",
       "    </tr>\n",
       "    <tr>\n",
       "      <th>1</th>\n",
       "      <td>TQRMNOPTVHLOKRCDEFJAH00803557</td>\n",
       "      <td>1</td>\n",
       "      <td>1</td>\n",
       "      <td>33</td>\n",
       "      <td>-9.0</td>\n",
       "      <td>6</td>\n",
       "      <td>1</td>\n",
       "      <td>43</td>\n",
       "    </tr>\n",
       "    <tr>\n",
       "      <th>2</th>\n",
       "      <td>TQRMNOQPRHKLKNCDEFJAH00868631</td>\n",
       "      <td>1</td>\n",
       "      <td>1</td>\n",
       "      <td>81</td>\n",
       "      <td>1750000.0</td>\n",
       "      <td>6</td>\n",
       "      <td>1</td>\n",
       "      <td>43</td>\n",
       "    </tr>\n",
       "    <tr>\n",
       "      <th>3</th>\n",
       "      <td>TQRMNOQPRHKLKNCDEFJAH00868631</td>\n",
       "      <td>1</td>\n",
       "      <td>2</td>\n",
       "      <td>78</td>\n",
       "      <td>400000.0</td>\n",
       "      <td>6</td>\n",
       "      <td>3</td>\n",
       "      <td>43</td>\n",
       "    </tr>\n",
       "    <tr>\n",
       "      <th>4</th>\n",
       "      <td>TQRMNORVXHKLKNCDEFJAH00868632</td>\n",
       "      <td>1</td>\n",
       "      <td>1</td>\n",
       "      <td>65</td>\n",
       "      <td>1200000.0</td>\n",
       "      <td>4</td>\n",
       "      <td>1</td>\n",
       "      <td>43</td>\n",
       "    </tr>\n",
       "  </tbody>\n",
       "</table>\n",
       "</div>"
      ],
      "text/plain": [
       "                     id_vivienda  id_hogar  sexo  edad    ingreso  \\\n",
       "0  TQRMNOPTVHLOKRCDEFJAH00803557         1     2    33       -9.0   \n",
       "1  TQRMNOPTVHLOKRCDEFJAH00803557         1     1    33       -9.0   \n",
       "2  TQRMNOQPRHKLKNCDEFJAH00868631         1     1    81  1750000.0   \n",
       "3  TQRMNOQPRHKLKNCDEFJAH00868631         1     2    78   400000.0   \n",
       "4  TQRMNORVXHKLKNCDEFJAH00868632         1     1    65  1200000.0   \n",
       "\n",
       "   nivel_educativo  estado_actividad  region  \n",
       "0                6                 1      43  \n",
       "1                6                 1      43  \n",
       "2                6                 1      43  \n",
       "3                6                 3      43  \n",
       "4                4                 1      43  "
      ]
     },
     "execution_count": 120,
     "metadata": {},
     "output_type": "execute_result"
    }
   ],
   "source": [
    "personas_fil = personas_fil_pam[['id_vivienda', 'id_hogar', 'sexo', 'edad', 'ingreso', 'nivel_educativo', 'estado_actividad', 'region']]\n",
    "personas_fil.head()"
   ]
  },
  {
   "cell_type": "code",
   "execution_count": 121,
   "id": "a3342f78",
   "metadata": {},
   "outputs": [
    {
     "data": {
      "text/plain": [
       "id_vivienda          0\n",
       "id_hogar             0\n",
       "sexo                 0\n",
       "edad                 0\n",
       "ingreso             15\n",
       "nivel_educativo      0\n",
       "estado_actividad     0\n",
       "region               0\n",
       "dtype: int64"
      ]
     },
     "execution_count": 121,
     "metadata": {},
     "output_type": "execute_result"
    }
   ],
   "source": [
    "personas_fil.isnull().sum()"
   ]
  },
  {
   "cell_type": "markdown",
   "id": "0e83cdc9",
   "metadata": {},
   "source": [
    "Encontramos que en la columna de **Ingreso** hay 15 filas nulas. Sobre la variable de ingresos. Analizando filtramos las filas con valores nulos."
   ]
  },
  {
   "cell_type": "code",
   "execution_count": 122,
   "id": "774af0c7",
   "metadata": {},
   "outputs": [
    {
     "data": {
      "text/html": [
       "<div>\n",
       "<style scoped>\n",
       "    .dataframe tbody tr th:only-of-type {\n",
       "        vertical-align: middle;\n",
       "    }\n",
       "\n",
       "    .dataframe tbody tr th {\n",
       "        vertical-align: top;\n",
       "    }\n",
       "\n",
       "    .dataframe thead th {\n",
       "        text-align: right;\n",
       "    }\n",
       "</style>\n",
       "<table border=\"1\" class=\"dataframe\">\n",
       "  <thead>\n",
       "    <tr style=\"text-align: right;\">\n",
       "      <th></th>\n",
       "      <th>id_vivienda</th>\n",
       "      <th>id_hogar</th>\n",
       "      <th>sexo</th>\n",
       "      <th>edad</th>\n",
       "      <th>ingreso</th>\n",
       "      <th>nivel_educativo</th>\n",
       "      <th>estado_actividad</th>\n",
       "      <th>region</th>\n",
       "    </tr>\n",
       "  </thead>\n",
       "  <tbody>\n",
       "    <tr>\n",
       "      <th>731</th>\n",
       "      <td>TQRMNOPYWHKMKMCDEFMDB00868439</td>\n",
       "      <td>1</td>\n",
       "      <td>2</td>\n",
       "      <td>56</td>\n",
       "      <td>NaN</td>\n",
       "      <td>4</td>\n",
       "      <td>0</td>\n",
       "      <td>43</td>\n",
       "    </tr>\n",
       "    <tr>\n",
       "      <th>4159</th>\n",
       "      <td>TQRMNOQRWHLNLPCDEIKAH00807963</td>\n",
       "      <td>1</td>\n",
       "      <td>1</td>\n",
       "      <td>53</td>\n",
       "      <td>NaN</td>\n",
       "      <td>2</td>\n",
       "      <td>0</td>\n",
       "      <td>43</td>\n",
       "    </tr>\n",
       "    <tr>\n",
       "      <th>5439</th>\n",
       "      <td>TQRMNOPRTHJOLSCDEFKID00862865</td>\n",
       "      <td>1</td>\n",
       "      <td>1</td>\n",
       "      <td>16</td>\n",
       "      <td>NaN</td>\n",
       "      <td>3</td>\n",
       "      <td>0</td>\n",
       "      <td>43</td>\n",
       "    </tr>\n",
       "    <tr>\n",
       "      <th>17606</th>\n",
       "      <td>TQRMNORXRHMNKMCDEFIAH00870738</td>\n",
       "      <td>1</td>\n",
       "      <td>1</td>\n",
       "      <td>56</td>\n",
       "      <td>NaN</td>\n",
       "      <td>4</td>\n",
       "      <td>0</td>\n",
       "      <td>43</td>\n",
       "    </tr>\n",
       "    <tr>\n",
       "      <th>19213</th>\n",
       "      <td>TQRMNOPXUHLKKRCDEFMDB00804085</td>\n",
       "      <td>1</td>\n",
       "      <td>1</td>\n",
       "      <td>37</td>\n",
       "      <td>NaN</td>\n",
       "      <td>4</td>\n",
       "      <td>0</td>\n",
       "      <td>43</td>\n",
       "    </tr>\n",
       "    <tr>\n",
       "      <th>19214</th>\n",
       "      <td>TQRMNOPXUHLKKRCDEFMDB00804085</td>\n",
       "      <td>1</td>\n",
       "      <td>2</td>\n",
       "      <td>39</td>\n",
       "      <td>NaN</td>\n",
       "      <td>6</td>\n",
       "      <td>0</td>\n",
       "      <td>43</td>\n",
       "    </tr>\n",
       "    <tr>\n",
       "      <th>21233</th>\n",
       "      <td>TQRMNOQVVHLMKTCDEGKDB00805043</td>\n",
       "      <td>2</td>\n",
       "      <td>1</td>\n",
       "      <td>41</td>\n",
       "      <td>NaN</td>\n",
       "      <td>4</td>\n",
       "      <td>0</td>\n",
       "      <td>43</td>\n",
       "    </tr>\n",
       "    <tr>\n",
       "      <th>25056</th>\n",
       "      <td>TQRMNOSSUHJKKTCDEFKID00870296</td>\n",
       "      <td>1</td>\n",
       "      <td>1</td>\n",
       "      <td>41</td>\n",
       "      <td>NaN</td>\n",
       "      <td>4</td>\n",
       "      <td>0</td>\n",
       "      <td>43</td>\n",
       "    </tr>\n",
       "    <tr>\n",
       "      <th>25057</th>\n",
       "      <td>TQRMNOSSUHJKKTCDEFKID00870296</td>\n",
       "      <td>1</td>\n",
       "      <td>2</td>\n",
       "      <td>35</td>\n",
       "      <td>NaN</td>\n",
       "      <td>6</td>\n",
       "      <td>0</td>\n",
       "      <td>43</td>\n",
       "    </tr>\n",
       "    <tr>\n",
       "      <th>39376</th>\n",
       "      <td>TQRMNOQPVHKNLQCDEFMDB00871976</td>\n",
       "      <td>1</td>\n",
       "      <td>1</td>\n",
       "      <td>45</td>\n",
       "      <td>NaN</td>\n",
       "      <td>4</td>\n",
       "      <td>0</td>\n",
       "      <td>43</td>\n",
       "    </tr>\n",
       "    <tr>\n",
       "      <th>39377</th>\n",
       "      <td>TQRMNOQPVHKNLQCDEFMDB00871976</td>\n",
       "      <td>1</td>\n",
       "      <td>1</td>\n",
       "      <td>54</td>\n",
       "      <td>NaN</td>\n",
       "      <td>3</td>\n",
       "      <td>0</td>\n",
       "      <td>43</td>\n",
       "    </tr>\n",
       "    <tr>\n",
       "      <th>41842</th>\n",
       "      <td>TQRMNOPXXHJMKMCDEFIAH00866329</td>\n",
       "      <td>1</td>\n",
       "      <td>1</td>\n",
       "      <td>28</td>\n",
       "      <td>NaN</td>\n",
       "      <td>5</td>\n",
       "      <td>0</td>\n",
       "      <td>43</td>\n",
       "    </tr>\n",
       "    <tr>\n",
       "      <th>41844</th>\n",
       "      <td>TQRMNOPXXHJMKMCDEFIAH00866329</td>\n",
       "      <td>1</td>\n",
       "      <td>1</td>\n",
       "      <td>51</td>\n",
       "      <td>NaN</td>\n",
       "      <td>4</td>\n",
       "      <td>0</td>\n",
       "      <td>43</td>\n",
       "    </tr>\n",
       "    <tr>\n",
       "      <th>43813</th>\n",
       "      <td>TQRMNOPPTHJOLOCDEFKID00864753</td>\n",
       "      <td>1</td>\n",
       "      <td>1</td>\n",
       "      <td>47</td>\n",
       "      <td>NaN</td>\n",
       "      <td>4</td>\n",
       "      <td>0</td>\n",
       "      <td>43</td>\n",
       "    </tr>\n",
       "    <tr>\n",
       "      <th>45040</th>\n",
       "      <td>TQRMNOQRXHLMKPCDEIGED00865851</td>\n",
       "      <td>1</td>\n",
       "      <td>1</td>\n",
       "      <td>67</td>\n",
       "      <td>NaN</td>\n",
       "      <td>4</td>\n",
       "      <td>0</td>\n",
       "      <td>43</td>\n",
       "    </tr>\n",
       "  </tbody>\n",
       "</table>\n",
       "</div>"
      ],
      "text/plain": [
       "                         id_vivienda  id_hogar  sexo  edad  ingreso  \\\n",
       "731    TQRMNOPYWHKMKMCDEFMDB00868439         1     2    56      NaN   \n",
       "4159   TQRMNOQRWHLNLPCDEIKAH00807963         1     1    53      NaN   \n",
       "5439   TQRMNOPRTHJOLSCDEFKID00862865         1     1    16      NaN   \n",
       "17606  TQRMNORXRHMNKMCDEFIAH00870738         1     1    56      NaN   \n",
       "19213  TQRMNOPXUHLKKRCDEFMDB00804085         1     1    37      NaN   \n",
       "19214  TQRMNOPXUHLKKRCDEFMDB00804085         1     2    39      NaN   \n",
       "21233  TQRMNOQVVHLMKTCDEGKDB00805043         2     1    41      NaN   \n",
       "25056  TQRMNOSSUHJKKTCDEFKID00870296         1     1    41      NaN   \n",
       "25057  TQRMNOSSUHJKKTCDEFKID00870296         1     2    35      NaN   \n",
       "39376  TQRMNOQPVHKNLQCDEFMDB00871976         1     1    45      NaN   \n",
       "39377  TQRMNOQPVHKNLQCDEFMDB00871976         1     1    54      NaN   \n",
       "41842  TQRMNOPXXHJMKMCDEFIAH00866329         1     1    28      NaN   \n",
       "41844  TQRMNOPXXHJMKMCDEFIAH00866329         1     1    51      NaN   \n",
       "43813  TQRMNOPPTHJOLOCDEFKID00864753         1     1    47      NaN   \n",
       "45040  TQRMNOQRXHLMKPCDEIGED00865851         1     1    67      NaN   \n",
       "\n",
       "       nivel_educativo  estado_actividad  region  \n",
       "731                  4                 0      43  \n",
       "4159                 2                 0      43  \n",
       "5439                 3                 0      43  \n",
       "17606                4                 0      43  \n",
       "19213                4                 0      43  \n",
       "19214                6                 0      43  \n",
       "21233                4                 0      43  \n",
       "25056                4                 0      43  \n",
       "25057                6                 0      43  \n",
       "39376                4                 0      43  \n",
       "39377                3                 0      43  \n",
       "41842                5                 0      43  \n",
       "41844                4                 0      43  \n",
       "43813                4                 0      43  \n",
       "45040                4                 0      43  "
      ]
     },
     "execution_count": 122,
     "metadata": {},
     "output_type": "execute_result"
    }
   ],
   "source": [
    "personasnulos = personas_fil[personas_fil.isnull().any(axis=1)]\n",
    "personasnulos"
   ]
  },
  {
   "cell_type": "markdown",
   "id": "bb61d280",
   "metadata": {},
   "source": [
    "Podemos observar que corresponde a que la encuesta NO HA SIDO RESPONDIDA (Codigo de Estado \"0\"). Por lo que proponemos dado que casi todos los datos (14/15) son mayores de edad, promediar el valor de ingreso mensual para completar los campos nulos a fin de poder utilizar los datos sin que afecte las medias muestrales."
   ]
  },
  {
   "cell_type": "code",
   "execution_count": 123,
   "id": "273a08fb",
   "metadata": {},
   "outputs": [],
   "source": [
    "promedio_ingresos = personas_fil['ingreso'].mean()\n",
    "personas_fil.loc[:, 'ingreso'] = personas_fil['ingreso'].fillna(promedio_ingresos)"
   ]
  },
  {
   "cell_type": "markdown",
   "id": "a338d2d8",
   "metadata": {},
   "source": [
    "Hacemos un resumen rápido estádistico."
   ]
  },
  {
   "cell_type": "code",
   "execution_count": 124,
   "id": "b61b5988",
   "metadata": {},
   "outputs": [
    {
     "data": {
      "text/html": [
       "<div>\n",
       "<style scoped>\n",
       "    .dataframe tbody tr th:only-of-type {\n",
       "        vertical-align: middle;\n",
       "    }\n",
       "\n",
       "    .dataframe tbody tr th {\n",
       "        vertical-align: top;\n",
       "    }\n",
       "\n",
       "    .dataframe thead th {\n",
       "        text-align: right;\n",
       "    }\n",
       "</style>\n",
       "<table border=\"1\" class=\"dataframe\">\n",
       "  <thead>\n",
       "    <tr style=\"text-align: right;\">\n",
       "      <th></th>\n",
       "      <th>id_hogar</th>\n",
       "      <th>sexo</th>\n",
       "      <th>edad</th>\n",
       "      <th>ingreso</th>\n",
       "      <th>nivel_educativo</th>\n",
       "      <th>estado_actividad</th>\n",
       "      <th>region</th>\n",
       "    </tr>\n",
       "  </thead>\n",
       "  <tbody>\n",
       "    <tr>\n",
       "      <th>count</th>\n",
       "      <td>14315.000000</td>\n",
       "      <td>14315.000000</td>\n",
       "      <td>14315.000000</td>\n",
       "      <td>1.431500e+04</td>\n",
       "      <td>14315.000000</td>\n",
       "      <td>14315.000000</td>\n",
       "      <td>14315.0</td>\n",
       "    </tr>\n",
       "    <tr>\n",
       "      <th>mean</th>\n",
       "      <td>1.028222</td>\n",
       "      <td>1.519246</td>\n",
       "      <td>37.251764</td>\n",
       "      <td>2.953922e+05</td>\n",
       "      <td>3.748795</td>\n",
       "      <td>2.182676</td>\n",
       "      <td>43.0</td>\n",
       "    </tr>\n",
       "    <tr>\n",
       "      <th>std</th>\n",
       "      <td>0.175046</td>\n",
       "      <td>0.499647</td>\n",
       "      <td>22.394482</td>\n",
       "      <td>4.932133e+05</td>\n",
       "      <td>1.774382</td>\n",
       "      <td>1.129003</td>\n",
       "      <td>0.0</td>\n",
       "    </tr>\n",
       "    <tr>\n",
       "      <th>min</th>\n",
       "      <td>1.000000</td>\n",
       "      <td>1.000000</td>\n",
       "      <td>-1.000000</td>\n",
       "      <td>-9.000000e+00</td>\n",
       "      <td>1.000000</td>\n",
       "      <td>0.000000</td>\n",
       "      <td>43.0</td>\n",
       "    </tr>\n",
       "    <tr>\n",
       "      <th>25%</th>\n",
       "      <td>1.000000</td>\n",
       "      <td>1.000000</td>\n",
       "      <td>18.000000</td>\n",
       "      <td>0.000000e+00</td>\n",
       "      <td>2.000000</td>\n",
       "      <td>1.000000</td>\n",
       "      <td>43.0</td>\n",
       "    </tr>\n",
       "    <tr>\n",
       "      <th>50%</th>\n",
       "      <td>1.000000</td>\n",
       "      <td>2.000000</td>\n",
       "      <td>35.000000</td>\n",
       "      <td>0.000000e+00</td>\n",
       "      <td>4.000000</td>\n",
       "      <td>3.000000</td>\n",
       "      <td>43.0</td>\n",
       "    </tr>\n",
       "    <tr>\n",
       "      <th>75%</th>\n",
       "      <td>1.000000</td>\n",
       "      <td>2.000000</td>\n",
       "      <td>55.000000</td>\n",
       "      <td>4.300000e+05</td>\n",
       "      <td>5.000000</td>\n",
       "      <td>3.000000</td>\n",
       "      <td>43.0</td>\n",
       "    </tr>\n",
       "    <tr>\n",
       "      <th>max</th>\n",
       "      <td>4.000000</td>\n",
       "      <td>2.000000</td>\n",
       "      <td>102.000000</td>\n",
       "      <td>1.237000e+07</td>\n",
       "      <td>7.000000</td>\n",
       "      <td>4.000000</td>\n",
       "      <td>43.0</td>\n",
       "    </tr>\n",
       "  </tbody>\n",
       "</table>\n",
       "</div>"
      ],
      "text/plain": [
       "           id_hogar          sexo          edad       ingreso  \\\n",
       "count  14315.000000  14315.000000  14315.000000  1.431500e+04   \n",
       "mean       1.028222      1.519246     37.251764  2.953922e+05   \n",
       "std        0.175046      0.499647     22.394482  4.932133e+05   \n",
       "min        1.000000      1.000000     -1.000000 -9.000000e+00   \n",
       "25%        1.000000      1.000000     18.000000  0.000000e+00   \n",
       "50%        1.000000      2.000000     35.000000  0.000000e+00   \n",
       "75%        1.000000      2.000000     55.000000  4.300000e+05   \n",
       "max        4.000000      2.000000    102.000000  1.237000e+07   \n",
       "\n",
       "       nivel_educativo  estado_actividad   region  \n",
       "count     14315.000000      14315.000000  14315.0  \n",
       "mean          3.748795          2.182676     43.0  \n",
       "std           1.774382          1.129003      0.0  \n",
       "min           1.000000          0.000000     43.0  \n",
       "25%           2.000000          1.000000     43.0  \n",
       "50%           4.000000          3.000000     43.0  \n",
       "75%           5.000000          3.000000     43.0  \n",
       "max           7.000000          4.000000     43.0  "
      ]
     },
     "execution_count": 124,
     "metadata": {},
     "output_type": "execute_result"
    }
   ],
   "source": [
    "personas_fil.describe()"
   ]
  },
  {
   "cell_type": "markdown",
   "id": "66a298af",
   "metadata": {},
   "source": [
    "Hay un minimo de edad de -1 que no es lógico, y de ingresos -9. Y máximos en ingresos mensual marca como maximo $12.370.000 (puede ser correcto).\n",
    "Viendo el comentario:\n",
    "\n",
    "### Comentario General\n",
    "![Observaciones Comentario](ComentarioGeneral.jpg)"
   ]
  },
  {
   "cell_type": "markdown",
   "id": "fe6f1ac0",
   "metadata": {},
   "source": [
    "Si bien no está explicado, el valor -1 de edad corresponde a edades menores a un año. Analizamos los valores de esas fechas:"
   ]
  },
  {
   "cell_type": "code",
   "execution_count": 126,
   "id": "c4342f6d",
   "metadata": {},
   "outputs": [],
   "source": [
    "personas_fil_pam = personas_fil_pam.copy()\n",
    "personas_fil_pam.loc[:, 'fecha_nacimiento'] = pd.to_datetime(personas_fil_pam['fecha_nacimiento'], errors='coerce')\n",
    "personas_fil_pam_ordenada = personas_fil_pam.sort_values(by='fecha_nacimiento')"
   ]
  },
  {
   "cell_type": "code",
   "execution_count": 127,
   "id": "a0d843c2",
   "metadata": {},
   "outputs": [
    {
     "data": {
      "text/html": [
       "<div>\n",
       "<style scoped>\n",
       "    .dataframe tbody tr th:only-of-type {\n",
       "        vertical-align: middle;\n",
       "    }\n",
       "\n",
       "    .dataframe tbody tr th {\n",
       "        vertical-align: top;\n",
       "    }\n",
       "\n",
       "    .dataframe thead th {\n",
       "        text-align: right;\n",
       "    }\n",
       "</style>\n",
       "<table border=\"1\" class=\"dataframe\">\n",
       "  <thead>\n",
       "    <tr style=\"text-align: right;\">\n",
       "      <th></th>\n",
       "      <th>fecha_nacimiento</th>\n",
       "      <th>edad</th>\n",
       "      <th>ingreso</th>\n",
       "    </tr>\n",
       "  </thead>\n",
       "  <tbody>\n",
       "    <tr>\n",
       "      <th>21036</th>\n",
       "      <td>1900-01-01 00:00:00</td>\n",
       "      <td>-1</td>\n",
       "      <td>0.0</td>\n",
       "    </tr>\n",
       "    <tr>\n",
       "      <th>8355</th>\n",
       "      <td>1900-01-01 00:00:00</td>\n",
       "      <td>-1</td>\n",
       "      <td>0.0</td>\n",
       "    </tr>\n",
       "    <tr>\n",
       "      <th>19653</th>\n",
       "      <td>1900-01-01 00:00:00</td>\n",
       "      <td>-1</td>\n",
       "      <td>0.0</td>\n",
       "    </tr>\n",
       "    <tr>\n",
       "      <th>8582</th>\n",
       "      <td>1900-01-01 00:00:00</td>\n",
       "      <td>-1</td>\n",
       "      <td>0.0</td>\n",
       "    </tr>\n",
       "    <tr>\n",
       "      <th>42914</th>\n",
       "      <td>1900-01-01 00:00:00</td>\n",
       "      <td>-1</td>\n",
       "      <td>0.0</td>\n",
       "    </tr>\n",
       "    <tr>\n",
       "      <th>...</th>\n",
       "      <td>...</td>\n",
       "      <td>...</td>\n",
       "      <td>...</td>\n",
       "    </tr>\n",
       "    <tr>\n",
       "      <th>26152</th>\n",
       "      <td>2024-08-05 00:00:00</td>\n",
       "      <td>-1</td>\n",
       "      <td>0.0</td>\n",
       "    </tr>\n",
       "    <tr>\n",
       "      <th>21912</th>\n",
       "      <td>2024-08-08 00:00:00</td>\n",
       "      <td>-1</td>\n",
       "      <td>0.0</td>\n",
       "    </tr>\n",
       "    <tr>\n",
       "      <th>19566</th>\n",
       "      <td>2024-08-29 00:00:00</td>\n",
       "      <td>-1</td>\n",
       "      <td>0.0</td>\n",
       "    </tr>\n",
       "    <tr>\n",
       "      <th>1174</th>\n",
       "      <td>2024-09-08 00:00:00</td>\n",
       "      <td>-1</td>\n",
       "      <td>0.0</td>\n",
       "    </tr>\n",
       "    <tr>\n",
       "      <th>7824</th>\n",
       "      <td>NaT</td>\n",
       "      <td>-1</td>\n",
       "      <td>0.0</td>\n",
       "    </tr>\n",
       "  </tbody>\n",
       "</table>\n",
       "<p>101 rows × 3 columns</p>\n",
       "</div>"
      ],
      "text/plain": [
       "          fecha_nacimiento  edad  ingreso\n",
       "21036  1900-01-01 00:00:00    -1      0.0\n",
       "8355   1900-01-01 00:00:00    -1      0.0\n",
       "19653  1900-01-01 00:00:00    -1      0.0\n",
       "8582   1900-01-01 00:00:00    -1      0.0\n",
       "42914  1900-01-01 00:00:00    -1      0.0\n",
       "...                    ...   ...      ...\n",
       "26152  2024-08-05 00:00:00    -1      0.0\n",
       "21912  2024-08-08 00:00:00    -1      0.0\n",
       "19566  2024-08-29 00:00:00    -1      0.0\n",
       "1174   2024-09-08 00:00:00    -1      0.0\n",
       "7824                   NaT    -1      0.0\n",
       "\n",
       "[101 rows x 3 columns]"
      ]
     },
     "execution_count": 127,
     "metadata": {},
     "output_type": "execute_result"
    }
   ],
   "source": [
    "filas_edad = personas_fil_pam_ordenada[personas_fil_pam_ordenada['edad'] == -1]\n",
    "filas_edad = filas_edad[['fecha_nacimiento', 'edad', 'ingreso']]\n",
    "filas_edad"
   ]
  },
  {
   "cell_type": "markdown",
   "id": "a7219ade",
   "metadata": {},
   "source": [
    "Son 101 personas con edad = -1.\n",
    "\n",
    "Todas tienen ingreso = 0, lo cual es razonable si hablamos de menores de edad (bebés).\n",
    "\n",
    "Muchas tienen fecha de nacimiento = 1900-01-01, que es un valor erróneo, lo cual puede significar que el dato no fue bien ingresado o quedó vacío.\n",
    "\n",
    "Algunas tienen fechas válidas pero recientes (2024), lo cual podría representar bebés reales.\n",
    "\n",
    "También hay al menos un caso con NaT (fecha no informada).\n",
    "\n",
    "## Conclusión\n",
    "\n",
    "Estos datos no aporta al análisis porque:\n",
    "\n",
    "- Son personas sin ingresos.\n",
    "\n",
    "- Son bebes o errores de carga.\n",
    "\n",
    "- No son representativos de la población económicamente activa.\n",
    "\n",
    "\n",
    "**Por lo tanto los excluimos del análisis para evitar distorsiones**\n"
   ]
  },
  {
   "cell_type": "code",
   "execution_count": 128,
   "id": "7722725b",
   "metadata": {},
   "outputs": [
    {
     "data": {
      "text/plain": [
       "fecha_nacimiento  edad  ingreso\n",
       "1900-01-01        -1    0.0        21\n",
       "2024-02-04        -1    0.0         3\n",
       "2024-02-25        -1    0.0         2\n",
       "2024-05-30        -1    0.0         2\n",
       "2023-10-20        -1    0.0         2\n",
       "                                   ..\n",
       "2023-12-23        -1    0.0         1\n",
       "2023-12-22        -1    0.0         1\n",
       "2023-12-19        -1    0.0         1\n",
       "2023-12-14        -1    0.0         1\n",
       "2024-09-08        -1    0.0         1\n",
       "Name: count, Length: 75, dtype: int64"
      ]
     },
     "execution_count": 128,
     "metadata": {},
     "output_type": "execute_result"
    }
   ],
   "source": [
    "filas_edad.value_counts()"
   ]
  },
  {
   "cell_type": "code",
   "execution_count": null,
   "id": "ee35f8c8",
   "metadata": {},
   "outputs": [
    {
     "name": "stdout",
     "output_type": "stream",
     "text": [
      "Cantidad de filas con '1900-01-01': 0\n"
     ]
    }
   ],
   "source": [
    "filas_1900 = filas_edad[filas_edad['CH05'] == '1900-01-01']\n",
    "cantidad_filas_1900 = len(filas_1900)\n",
    "print(f\"Cantidad de filas con '1900-01-01': {cantidad_filas_1900}\")"
   ]
  },
  {
   "cell_type": "markdown",
   "id": "18a65f8d",
   "metadata": {},
   "source": [
    "- 21 casos tiene fecha de nacimiento 199-01-01 que suponemos que son errores de carga\n",
    "\n",
    "- El resto tienen fecha de nacimiento reciente, osea son bebes o niños menores a 1 año, que no serían relevantes para el análisis de ingresos."
   ]
  },
  {
   "cell_type": "code",
   "execution_count": null,
   "id": "bceb12e6",
   "metadata": {},
   "outputs": [
    {
     "name": "stdout",
     "output_type": "stream",
     "text": [
      "Cantidad de filas con ingresos igual a cero: 4761\n"
     ]
    }
   ],
   "source": [
    "personas_sin_ingresos = personas_fil[personas_fil['ingreso'] == 0]\n",
    "print('Cantidad de filas con ingresos igual a cero:', len(personas_sin_ingresos))"
   ]
  },
  {
   "cell_type": "code",
   "execution_count": null,
   "id": "d9780ee4",
   "metadata": {},
   "outputs": [
    {
     "data": {
      "text/html": [
       "<div>\n",
       "<style scoped>\n",
       "    .dataframe tbody tr th:only-of-type {\n",
       "        vertical-align: middle;\n",
       "    }\n",
       "\n",
       "    .dataframe tbody tr th {\n",
       "        vertical-align: top;\n",
       "    }\n",
       "\n",
       "    .dataframe thead th {\n",
       "        text-align: right;\n",
       "    }\n",
       "</style>\n",
       "<table border=\"1\" class=\"dataframe\">\n",
       "  <thead>\n",
       "    <tr style=\"text-align: right;\">\n",
       "      <th></th>\n",
       "      <th>id_vivienda</th>\n",
       "      <th>id_hogar</th>\n",
       "      <th>sexo</th>\n",
       "      <th>edad</th>\n",
       "      <th>ingreso</th>\n",
       "      <th>nivel_educativo</th>\n",
       "      <th>estado_actividad</th>\n",
       "      <th>region</th>\n",
       "    </tr>\n",
       "  </thead>\n",
       "  <tbody>\n",
       "    <tr>\n",
       "      <th>21331</th>\n",
       "      <td>TQRMNOQUUHJMMNCDEFKID00864104</td>\n",
       "      <td>1</td>\n",
       "      <td>2</td>\n",
       "      <td>14</td>\n",
       "      <td>0.0</td>\n",
       "      <td>3</td>\n",
       "      <td>3</td>\n",
       "      <td>43</td>\n",
       "    </tr>\n",
       "    <tr>\n",
       "      <th>41451</th>\n",
       "      <td>TQRMNORWTHKNKQCDEGKDB00871723</td>\n",
       "      <td>1</td>\n",
       "      <td>1</td>\n",
       "      <td>10</td>\n",
       "      <td>0.0</td>\n",
       "      <td>1</td>\n",
       "      <td>3</td>\n",
       "      <td>43</td>\n",
       "    </tr>\n",
       "    <tr>\n",
       "      <th>1665</th>\n",
       "      <td>TQUMNOQPUHKOKNCDEGJBF00868614</td>\n",
       "      <td>1</td>\n",
       "      <td>1</td>\n",
       "      <td>5</td>\n",
       "      <td>0.0</td>\n",
       "      <td>7</td>\n",
       "      <td>4</td>\n",
       "      <td>43</td>\n",
       "    </tr>\n",
       "    <tr>\n",
       "      <th>5675</th>\n",
       "      <td>TQRMNOQSRHLOKMCDEFLID00803819</td>\n",
       "      <td>2</td>\n",
       "      <td>2</td>\n",
       "      <td>12</td>\n",
       "      <td>0.0</td>\n",
       "      <td>1</td>\n",
       "      <td>3</td>\n",
       "      <td>43</td>\n",
       "    </tr>\n",
       "    <tr>\n",
       "      <th>27311</th>\n",
       "      <td>TQRMNORYVHMOLNCDEFJAH00808723</td>\n",
       "      <td>1</td>\n",
       "      <td>1</td>\n",
       "      <td>9</td>\n",
       "      <td>0.0</td>\n",
       "      <td>1</td>\n",
       "      <td>4</td>\n",
       "      <td>43</td>\n",
       "    </tr>\n",
       "    <tr>\n",
       "      <th>26226</th>\n",
       "      <td>TQRMNOSWVHKOLUCDEFIAH00869833</td>\n",
       "      <td>1</td>\n",
       "      <td>2</td>\n",
       "      <td>5</td>\n",
       "      <td>0.0</td>\n",
       "      <td>7</td>\n",
       "      <td>4</td>\n",
       "      <td>43</td>\n",
       "    </tr>\n",
       "    <tr>\n",
       "      <th>40046</th>\n",
       "      <td>TQRMNOSUTHJKKMCDEFJAH00865205</td>\n",
       "      <td>1</td>\n",
       "      <td>2</td>\n",
       "      <td>27</td>\n",
       "      <td>0.0</td>\n",
       "      <td>6</td>\n",
       "      <td>2</td>\n",
       "      <td>43</td>\n",
       "    </tr>\n",
       "    <tr>\n",
       "      <th>36424</th>\n",
       "      <td>TQTMNORTPHLOKPCDEFMDB00803966</td>\n",
       "      <td>1</td>\n",
       "      <td>1</td>\n",
       "      <td>5</td>\n",
       "      <td>0.0</td>\n",
       "      <td>7</td>\n",
       "      <td>4</td>\n",
       "      <td>43</td>\n",
       "    </tr>\n",
       "    <tr>\n",
       "      <th>8966</th>\n",
       "      <td>TQRMNORVVHMOLSCDEFJAH00866947</td>\n",
       "      <td>1</td>\n",
       "      <td>1</td>\n",
       "      <td>17</td>\n",
       "      <td>0.0</td>\n",
       "      <td>3</td>\n",
       "      <td>3</td>\n",
       "      <td>43</td>\n",
       "    </tr>\n",
       "    <tr>\n",
       "      <th>7935</th>\n",
       "      <td>TQRMNOTUWHKMLQCDEFIAH00868000</td>\n",
       "      <td>1</td>\n",
       "      <td>2</td>\n",
       "      <td>43</td>\n",
       "      <td>0.0</td>\n",
       "      <td>6</td>\n",
       "      <td>3</td>\n",
       "      <td>43</td>\n",
       "    </tr>\n",
       "    <tr>\n",
       "      <th>35148</th>\n",
       "      <td>TQRMNORWTHLOLLCDEIOAH00808283</td>\n",
       "      <td>1</td>\n",
       "      <td>2</td>\n",
       "      <td>13</td>\n",
       "      <td>0.0</td>\n",
       "      <td>3</td>\n",
       "      <td>3</td>\n",
       "      <td>43</td>\n",
       "    </tr>\n",
       "    <tr>\n",
       "      <th>31910</th>\n",
       "      <td>TQRMNOPYTHJNLRCDEFJAH00863070</td>\n",
       "      <td>1</td>\n",
       "      <td>2</td>\n",
       "      <td>7</td>\n",
       "      <td>0.0</td>\n",
       "      <td>1</td>\n",
       "      <td>4</td>\n",
       "      <td>43</td>\n",
       "    </tr>\n",
       "    <tr>\n",
       "      <th>34157</th>\n",
       "      <td>TQRMNOQTVHMOLPCDEFKID00808852</td>\n",
       "      <td>1</td>\n",
       "      <td>1</td>\n",
       "      <td>16</td>\n",
       "      <td>0.0</td>\n",
       "      <td>3</td>\n",
       "      <td>3</td>\n",
       "      <td>43</td>\n",
       "    </tr>\n",
       "    <tr>\n",
       "      <th>25826</th>\n",
       "      <td>TQRMNOQSTHKMLOCDEFJAH00869577</td>\n",
       "      <td>1</td>\n",
       "      <td>1</td>\n",
       "      <td>11</td>\n",
       "      <td>0.0</td>\n",
       "      <td>1</td>\n",
       "      <td>3</td>\n",
       "      <td>43</td>\n",
       "    </tr>\n",
       "    <tr>\n",
       "      <th>13460</th>\n",
       "      <td>TQRMNOQPTHLLKRCDEGKDB00805019</td>\n",
       "      <td>1</td>\n",
       "      <td>2</td>\n",
       "      <td>2</td>\n",
       "      <td>0.0</td>\n",
       "      <td>7</td>\n",
       "      <td>4</td>\n",
       "      <td>43</td>\n",
       "    </tr>\n",
       "  </tbody>\n",
       "</table>\n",
       "</div>"
      ],
      "text/plain": [
       "                         id_vivienda  id_hogar  sexo  edad  ingreso  \\\n",
       "21331  TQRMNOQUUHJMMNCDEFKID00864104         1     2    14      0.0   \n",
       "41451  TQRMNORWTHKNKQCDEGKDB00871723         1     1    10      0.0   \n",
       "1665   TQUMNOQPUHKOKNCDEGJBF00868614         1     1     5      0.0   \n",
       "5675   TQRMNOQSRHLOKMCDEFLID00803819         2     2    12      0.0   \n",
       "27311  TQRMNORYVHMOLNCDEFJAH00808723         1     1     9      0.0   \n",
       "26226  TQRMNOSWVHKOLUCDEFIAH00869833         1     2     5      0.0   \n",
       "40046  TQRMNOSUTHJKKMCDEFJAH00865205         1     2    27      0.0   \n",
       "36424  TQTMNORTPHLOKPCDEFMDB00803966         1     1     5      0.0   \n",
       "8966   TQRMNORVVHMOLSCDEFJAH00866947         1     1    17      0.0   \n",
       "7935   TQRMNOTUWHKMLQCDEFIAH00868000         1     2    43      0.0   \n",
       "35148  TQRMNORWTHLOLLCDEIOAH00808283         1     2    13      0.0   \n",
       "31910  TQRMNOPYTHJNLRCDEFJAH00863070         1     2     7      0.0   \n",
       "34157  TQRMNOQTVHMOLPCDEFKID00808852         1     1    16      0.0   \n",
       "25826  TQRMNOQSTHKMLOCDEFJAH00869577         1     1    11      0.0   \n",
       "13460  TQRMNOQPTHLLKRCDEGKDB00805019         1     2     2      0.0   \n",
       "\n",
       "       nivel_educativo  estado_actividad  region  \n",
       "21331                3                 3      43  \n",
       "41451                1                 3      43  \n",
       "1665                 7                 4      43  \n",
       "5675                 1                 3      43  \n",
       "27311                1                 4      43  \n",
       "26226                7                 4      43  \n",
       "40046                6                 2      43  \n",
       "36424                7                 4      43  \n",
       "8966                 3                 3      43  \n",
       "7935                 6                 3      43  \n",
       "35148                3                 3      43  \n",
       "31910                1                 4      43  \n",
       "34157                3                 3      43  \n",
       "25826                1                 3      43  \n",
       "13460                7                 4      43  "
      ]
     },
     "execution_count": 74,
     "metadata": {},
     "output_type": "execute_result"
    }
   ],
   "source": [
    "personas_sin_ingresos.sample(15)"
   ]
  },
  {
   "cell_type": "markdown",
   "id": "6783f5cf",
   "metadata": {},
   "source": [
    "Analizamos los datos -9 como no respondidos:"
   ]
  },
  {
   "cell_type": "code",
   "execution_count": null,
   "id": "abadeda2",
   "metadata": {},
   "outputs": [
    {
     "name": "stdout",
     "output_type": "stream",
     "text": [
      "cantidad de filas con ingresos -9: 2411\n"
     ]
    }
   ],
   "source": [
    "filas_cod9 = personas_fil[personas_fil['ingreso'] == -9]\n",
    "print('cantidad de filas con ingresos -9:', len(filas_cod9))"
   ]
  },
  {
   "cell_type": "markdown",
   "id": "4b86b32d",
   "metadata": {},
   "source": [
    "**** COMPLETAMOS LOS -9 CON EL PROMEDIO COMO LOS DATOS NULOS? NOS QUEDA MAS DEL 50% DE LOS VALORES CON $0 (HAY QUE MODIFICAR EL PROMEDIO COMPLETADO EN LAS 15 FILAS)\n",
    "\n",
    "## Análisis exploratorio de tabla Hogares"
   ]
  },
  {
   "cell_type": "code",
   "execution_count": null,
   "id": "45d16ea1",
   "metadata": {},
   "outputs": [
    {
     "name": "stdout",
     "output_type": "stream",
     "text": [
      "Longitud Tabla Hogares: 16650\n",
      "Longitud Tabla Hogares Filtrada: 5410\n"
     ]
    }
   ],
   "source": [
    "hogares_fil_pam = hogares[hogares['region'] == 43]\n",
    "print(\"Longitud Tabla Hogares:\", len(hogares))\n",
    "print(\"Longitud Tabla Hogares Filtrada:\", len(hogares_fil_pam))"
   ]
  },
  {
   "cell_type": "markdown",
   "id": "e8b86a4e",
   "metadata": {},
   "source": [
    "Se redujo el total de la tabla personas un 32%. Se tabaja sobre las variables de interés. Como las planillas se conectan con la columna \"CODUSU\" que es el Código para distinguir viviendas, permite aparearlas con Hogares y Personas."
   ]
  },
  {
   "cell_type": "code",
   "execution_count": null,
   "id": "e17fdcbf",
   "metadata": {},
   "outputs": [],
   "source": [
    "hogares_fil = hogares_fil_pam[['id_vivienda', 'id_hogar', 'region', 'prestamo_personas', 'prestamo_banco', 'compra_cuotas']]\n"
   ]
  },
  {
   "cell_type": "code",
   "execution_count": null,
   "id": "c3179bfd",
   "metadata": {},
   "outputs": [
    {
     "data": {
      "text/html": [
       "<div>\n",
       "<style scoped>\n",
       "    .dataframe tbody tr th:only-of-type {\n",
       "        vertical-align: middle;\n",
       "    }\n",
       "\n",
       "    .dataframe tbody tr th {\n",
       "        vertical-align: top;\n",
       "    }\n",
       "\n",
       "    .dataframe thead th {\n",
       "        text-align: right;\n",
       "    }\n",
       "</style>\n",
       "<table border=\"1\" class=\"dataframe\">\n",
       "  <thead>\n",
       "    <tr style=\"text-align: right;\">\n",
       "      <th></th>\n",
       "      <th>id_vivienda</th>\n",
       "      <th>id_hogar</th>\n",
       "      <th>region</th>\n",
       "      <th>prestamo_personas</th>\n",
       "      <th>prestamo_banco</th>\n",
       "      <th>compra_cuotas</th>\n",
       "    </tr>\n",
       "  </thead>\n",
       "  <tbody>\n",
       "    <tr>\n",
       "      <th>0</th>\n",
       "      <td>TQRMNOQVSHMMLOCDEFJAH00808791</td>\n",
       "      <td>1</td>\n",
       "      <td>43</td>\n",
       "      <td>2</td>\n",
       "      <td>2</td>\n",
       "      <td>1</td>\n",
       "    </tr>\n",
       "    <tr>\n",
       "      <th>1</th>\n",
       "      <td>TQRMNOPTQHKLLSCDEFJAH00866946</td>\n",
       "      <td>1</td>\n",
       "      <td>43</td>\n",
       "      <td>2</td>\n",
       "      <td>2</td>\n",
       "      <td>1</td>\n",
       "    </tr>\n",
       "    <tr>\n",
       "      <th>2</th>\n",
       "      <td>TQRMNORVTHMOLSCDEFJAH00808761</td>\n",
       "      <td>1</td>\n",
       "      <td>43</td>\n",
       "      <td>2</td>\n",
       "      <td>2</td>\n",
       "      <td>2</td>\n",
       "    </tr>\n",
       "    <tr>\n",
       "      <th>3</th>\n",
       "      <td>TQRMNORVVHMOLSCDEFJAH00866947</td>\n",
       "      <td>1</td>\n",
       "      <td>43</td>\n",
       "      <td>2</td>\n",
       "      <td>2</td>\n",
       "      <td>2</td>\n",
       "    </tr>\n",
       "    <tr>\n",
       "      <th>4</th>\n",
       "      <td>TQRMNOTPTHLNLRCDEFJAH00803474</td>\n",
       "      <td>1</td>\n",
       "      <td>43</td>\n",
       "      <td>2</td>\n",
       "      <td>2</td>\n",
       "      <td>2</td>\n",
       "    </tr>\n",
       "  </tbody>\n",
       "</table>\n",
       "</div>"
      ],
      "text/plain": [
       "                     id_vivienda  id_hogar  region  prestamo_personas  \\\n",
       "0  TQRMNOQVSHMMLOCDEFJAH00808791         1      43                  2   \n",
       "1  TQRMNOPTQHKLLSCDEFJAH00866946         1      43                  2   \n",
       "2  TQRMNORVTHMOLSCDEFJAH00808761         1      43                  2   \n",
       "3  TQRMNORVVHMOLSCDEFJAH00866947         1      43                  2   \n",
       "4  TQRMNOTPTHLNLRCDEFJAH00803474         1      43                  2   \n",
       "\n",
       "   prestamo_banco  compra_cuotas  \n",
       "0               2              1  \n",
       "1               2              1  \n",
       "2               2              2  \n",
       "3               2              2  \n",
       "4               2              2  "
      ]
     },
     "execution_count": 78,
     "metadata": {},
     "output_type": "execute_result"
    }
   ],
   "source": [
    "hogares_fil.head()"
   ]
  },
  {
   "cell_type": "code",
   "execution_count": null,
   "id": "6e0a19be",
   "metadata": {},
   "outputs": [
    {
     "data": {
      "text/plain": [
       "id_vivienda          0\n",
       "id_hogar             0\n",
       "region               0\n",
       "prestamo_personas    0\n",
       "prestamo_banco       0\n",
       "compra_cuotas        0\n",
       "dtype: int64"
      ]
     },
     "execution_count": 79,
     "metadata": {},
     "output_type": "execute_result"
    }
   ],
   "source": [
    "hogares_fil.isnull().sum()\n"
   ]
  },
  {
   "cell_type": "markdown",
   "id": "69d63e86",
   "metadata": {},
   "source": [
    "No hay filas nulas."
   ]
  },
  {
   "cell_type": "markdown",
   "id": "6ac65f51",
   "metadata": {},
   "source": [
    "Hacemos un resumen rápido estádistico."
   ]
  },
  {
   "cell_type": "code",
   "execution_count": null,
   "id": "6963df35",
   "metadata": {},
   "outputs": [
    {
     "data": {
      "text/html": [
       "<div>\n",
       "<style scoped>\n",
       "    .dataframe tbody tr th:only-of-type {\n",
       "        vertical-align: middle;\n",
       "    }\n",
       "\n",
       "    .dataframe tbody tr th {\n",
       "        vertical-align: top;\n",
       "    }\n",
       "\n",
       "    .dataframe thead th {\n",
       "        text-align: right;\n",
       "    }\n",
       "</style>\n",
       "<table border=\"1\" class=\"dataframe\">\n",
       "  <thead>\n",
       "    <tr style=\"text-align: right;\">\n",
       "      <th></th>\n",
       "      <th>id_hogar</th>\n",
       "      <th>region</th>\n",
       "      <th>prestamo_personas</th>\n",
       "      <th>prestamo_banco</th>\n",
       "      <th>compra_cuotas</th>\n",
       "    </tr>\n",
       "  </thead>\n",
       "  <tbody>\n",
       "    <tr>\n",
       "      <th>count</th>\n",
       "      <td>5410.000000</td>\n",
       "      <td>5410.0</td>\n",
       "      <td>5410.000000</td>\n",
       "      <td>5410.000000</td>\n",
       "      <td>5410.000000</td>\n",
       "    </tr>\n",
       "    <tr>\n",
       "      <th>mean</th>\n",
       "      <td>1.034566</td>\n",
       "      <td>43.0</td>\n",
       "      <td>1.851386</td>\n",
       "      <td>1.891682</td>\n",
       "      <td>1.529575</td>\n",
       "    </tr>\n",
       "    <tr>\n",
       "      <th>std</th>\n",
       "      <td>0.192548</td>\n",
       "      <td>0.0</td>\n",
       "      <td>0.370006</td>\n",
       "      <td>0.327041</td>\n",
       "      <td>0.509435</td>\n",
       "    </tr>\n",
       "    <tr>\n",
       "      <th>min</th>\n",
       "      <td>1.000000</td>\n",
       "      <td>43.0</td>\n",
       "      <td>1.000000</td>\n",
       "      <td>1.000000</td>\n",
       "      <td>1.000000</td>\n",
       "    </tr>\n",
       "    <tr>\n",
       "      <th>25%</th>\n",
       "      <td>1.000000</td>\n",
       "      <td>43.0</td>\n",
       "      <td>2.000000</td>\n",
       "      <td>2.000000</td>\n",
       "      <td>1.000000</td>\n",
       "    </tr>\n",
       "    <tr>\n",
       "      <th>50%</th>\n",
       "      <td>1.000000</td>\n",
       "      <td>43.0</td>\n",
       "      <td>2.000000</td>\n",
       "      <td>2.000000</td>\n",
       "      <td>2.000000</td>\n",
       "    </tr>\n",
       "    <tr>\n",
       "      <th>75%</th>\n",
       "      <td>1.000000</td>\n",
       "      <td>43.0</td>\n",
       "      <td>2.000000</td>\n",
       "      <td>2.000000</td>\n",
       "      <td>2.000000</td>\n",
       "    </tr>\n",
       "    <tr>\n",
       "      <th>max</th>\n",
       "      <td>4.000000</td>\n",
       "      <td>43.0</td>\n",
       "      <td>9.000000</td>\n",
       "      <td>9.000000</td>\n",
       "      <td>9.000000</td>\n",
       "    </tr>\n",
       "  </tbody>\n",
       "</table>\n",
       "</div>"
      ],
      "text/plain": [
       "          id_hogar  region  prestamo_personas  prestamo_banco  compra_cuotas\n",
       "count  5410.000000  5410.0        5410.000000     5410.000000    5410.000000\n",
       "mean      1.034566    43.0           1.851386        1.891682       1.529575\n",
       "std       0.192548     0.0           0.370006        0.327041       0.509435\n",
       "min       1.000000    43.0           1.000000        1.000000       1.000000\n",
       "25%       1.000000    43.0           2.000000        2.000000       1.000000\n",
       "50%       1.000000    43.0           2.000000        2.000000       2.000000\n",
       "75%       1.000000    43.0           2.000000        2.000000       2.000000\n",
       "max       4.000000    43.0           9.000000        9.000000       9.000000"
      ]
     },
     "execution_count": 80,
     "metadata": {},
     "output_type": "execute_result"
    }
   ],
   "source": [
    "hogares_fil.describe()"
   ]
  },
  {
   "cell_type": "markdown",
   "id": "9c6e7ebc",
   "metadata": {},
   "source": [
    "Hay errores de ingreso de datos al tener maximos en \"9\" cuando permite 1 o 2, en cuanto a comportamientos de consumo-prestamos."
   ]
  },
  {
   "cell_type": "code",
   "execution_count": null,
   "id": "7e44a8cc",
   "metadata": {},
   "outputs": [
    {
     "data": {
      "text/plain": [
       "prestamo_banco\n",
       "2    4816\n",
       "1     593\n",
       "9       1\n",
       "Name: count, dtype: int64"
      ]
     },
     "execution_count": 81,
     "metadata": {},
     "output_type": "execute_result"
    }
   ],
   "source": [
    "hogares_fil['prestamo_banco'].value_counts()"
   ]
  },
  {
   "cell_type": "code",
   "execution_count": null,
   "id": "610f126f",
   "metadata": {},
   "outputs": [
    {
     "data": {
      "text/plain": [
       "prestamo_personas\n",
       "2    4598\n",
       "1     811\n",
       "9       1\n",
       "Name: count, dtype: int64"
      ]
     },
     "execution_count": 82,
     "metadata": {},
     "output_type": "execute_result"
    }
   ],
   "source": [
    "hogares_fil['prestamo_personas'].value_counts()"
   ]
  },
  {
   "cell_type": "code",
   "execution_count": null,
   "id": "e2cf35d2",
   "metadata": {},
   "outputs": [
    {
     "data": {
      "text/plain": [
       "compra_cuotas\n",
       "2    2857\n",
       "1    2552\n",
       "9       1\n",
       "Name: count, dtype: int64"
      ]
     },
     "execution_count": 83,
     "metadata": {},
     "output_type": "execute_result"
    }
   ],
   "source": [
    "hogares_fil['compra_cuotas'].value_counts()"
   ]
  },
  {
   "cell_type": "markdown",
   "id": "4d90040a",
   "metadata": {},
   "source": [
    "Vemos una Fila con el valor 9 en la columna de prestamos a personas, por lo que se revisara cada estas variables. Significa que no ha respondido."
   ]
  },
  {
   "cell_type": "markdown",
   "id": "8ac497a4",
   "metadata": {},
   "source": [
    "Como es un único datos en cada columna, eliminamos las filas con valor 9 (son 3 en total)"
   ]
  },
  {
   "cell_type": "code",
   "execution_count": null,
   "id": "c2363861",
   "metadata": {},
   "outputs": [],
   "source": [
    "hogares_fil = hogares_fil[hogares_fil['prestamo_banco'] != 9]"
   ]
  },
  {
   "cell_type": "code",
   "execution_count": null,
   "id": "2d969bab",
   "metadata": {},
   "outputs": [],
   "source": [
    "hogares_fil = hogares_fil[hogares_fil['prestamo_personas'] != 9]"
   ]
  },
  {
   "cell_type": "code",
   "execution_count": null,
   "id": "b59a97ff",
   "metadata": {},
   "outputs": [],
   "source": [
    "hogares_fil = hogares_fil[hogares_fil['compra_cuotas'] != 9]"
   ]
  },
  {
   "cell_type": "code",
   "execution_count": null,
   "id": "cae50f39",
   "metadata": {},
   "outputs": [
    {
     "data": {
      "text/html": [
       "<div>\n",
       "<style scoped>\n",
       "    .dataframe tbody tr th:only-of-type {\n",
       "        vertical-align: middle;\n",
       "    }\n",
       "\n",
       "    .dataframe tbody tr th {\n",
       "        vertical-align: top;\n",
       "    }\n",
       "\n",
       "    .dataframe thead th {\n",
       "        text-align: right;\n",
       "    }\n",
       "</style>\n",
       "<table border=\"1\" class=\"dataframe\">\n",
       "  <thead>\n",
       "    <tr style=\"text-align: right;\">\n",
       "      <th></th>\n",
       "      <th>id_hogar</th>\n",
       "      <th>region</th>\n",
       "      <th>prestamo_personas</th>\n",
       "      <th>prestamo_banco</th>\n",
       "      <th>compra_cuotas</th>\n",
       "    </tr>\n",
       "  </thead>\n",
       "  <tbody>\n",
       "    <tr>\n",
       "      <th>count</th>\n",
       "      <td>5409.000000</td>\n",
       "      <td>5409.0</td>\n",
       "      <td>5409.000000</td>\n",
       "      <td>5409.000000</td>\n",
       "      <td>5409.000000</td>\n",
       "    </tr>\n",
       "    <tr>\n",
       "      <th>mean</th>\n",
       "      <td>1.034572</td>\n",
       "      <td>43.0</td>\n",
       "      <td>1.850065</td>\n",
       "      <td>1.890368</td>\n",
       "      <td>1.528194</td>\n",
       "    </tr>\n",
       "    <tr>\n",
       "      <th>std</th>\n",
       "      <td>0.192565</td>\n",
       "      <td>0.0</td>\n",
       "      <td>0.357041</td>\n",
       "      <td>0.312460</td>\n",
       "      <td>0.499251</td>\n",
       "    </tr>\n",
       "    <tr>\n",
       "      <th>min</th>\n",
       "      <td>1.000000</td>\n",
       "      <td>43.0</td>\n",
       "      <td>1.000000</td>\n",
       "      <td>1.000000</td>\n",
       "      <td>1.000000</td>\n",
       "    </tr>\n",
       "    <tr>\n",
       "      <th>25%</th>\n",
       "      <td>1.000000</td>\n",
       "      <td>43.0</td>\n",
       "      <td>2.000000</td>\n",
       "      <td>2.000000</td>\n",
       "      <td>1.000000</td>\n",
       "    </tr>\n",
       "    <tr>\n",
       "      <th>50%</th>\n",
       "      <td>1.000000</td>\n",
       "      <td>43.0</td>\n",
       "      <td>2.000000</td>\n",
       "      <td>2.000000</td>\n",
       "      <td>2.000000</td>\n",
       "    </tr>\n",
       "    <tr>\n",
       "      <th>75%</th>\n",
       "      <td>1.000000</td>\n",
       "      <td>43.0</td>\n",
       "      <td>2.000000</td>\n",
       "      <td>2.000000</td>\n",
       "      <td>2.000000</td>\n",
       "    </tr>\n",
       "    <tr>\n",
       "      <th>max</th>\n",
       "      <td>4.000000</td>\n",
       "      <td>43.0</td>\n",
       "      <td>2.000000</td>\n",
       "      <td>2.000000</td>\n",
       "      <td>2.000000</td>\n",
       "    </tr>\n",
       "  </tbody>\n",
       "</table>\n",
       "</div>"
      ],
      "text/plain": [
       "          id_hogar  region  prestamo_personas  prestamo_banco  compra_cuotas\n",
       "count  5409.000000  5409.0        5409.000000     5409.000000    5409.000000\n",
       "mean      1.034572    43.0           1.850065        1.890368       1.528194\n",
       "std       0.192565     0.0           0.357041        0.312460       0.499251\n",
       "min       1.000000    43.0           1.000000        1.000000       1.000000\n",
       "25%       1.000000    43.0           2.000000        2.000000       1.000000\n",
       "50%       1.000000    43.0           2.000000        2.000000       2.000000\n",
       "75%       1.000000    43.0           2.000000        2.000000       2.000000\n",
       "max       4.000000    43.0           2.000000        2.000000       2.000000"
      ]
     },
     "execution_count": 87,
     "metadata": {},
     "output_type": "execute_result"
    }
   ],
   "source": [
    "hogares_fil.describe()"
   ]
  },
  {
   "cell_type": "markdown",
   "id": "d4531122",
   "metadata": {},
   "source": [
    "### Personas y Hogares región Pampeana\n",
    "\n",
    "Unimos ambas tablas a través de las variables id_vivienda y id_hogar\n",
    "\n",
    "El tipo de unión es \"inner\", es decir, solo se conservan las filas que existen en ambas tablas con esos IDs coincidentes."
   ]
  },
  {
   "cell_type": "code",
   "execution_count": null,
   "id": "e1a7aad2",
   "metadata": {},
   "outputs": [
    {
     "data": {
      "text/plain": [
       "14313"
      ]
     },
     "execution_count": 88,
     "metadata": {},
     "output_type": "execute_result"
    }
   ],
   "source": [
    "df_final = pd.merge(personas_fil, hogares_fil, on=['id_vivienda', 'id_hogar', 'region'], how='inner')\n",
    "len(df_final)\n"
   ]
  },
  {
   "cell_type": "code",
   "execution_count": null,
   "id": "e5a2baa7",
   "metadata": {},
   "outputs": [
    {
     "data": {
      "text/html": [
       "<div>\n",
       "<style scoped>\n",
       "    .dataframe tbody tr th:only-of-type {\n",
       "        vertical-align: middle;\n",
       "    }\n",
       "\n",
       "    .dataframe tbody tr th {\n",
       "        vertical-align: top;\n",
       "    }\n",
       "\n",
       "    .dataframe thead th {\n",
       "        text-align: right;\n",
       "    }\n",
       "</style>\n",
       "<table border=\"1\" class=\"dataframe\">\n",
       "  <thead>\n",
       "    <tr style=\"text-align: right;\">\n",
       "      <th></th>\n",
       "      <th>id_vivienda</th>\n",
       "      <th>id_hogar</th>\n",
       "      <th>sexo</th>\n",
       "      <th>edad</th>\n",
       "      <th>ingreso</th>\n",
       "      <th>nivel_educativo</th>\n",
       "      <th>estado_actividad</th>\n",
       "      <th>region</th>\n",
       "      <th>prestamo_personas</th>\n",
       "      <th>prestamo_banco</th>\n",
       "      <th>compra_cuotas</th>\n",
       "    </tr>\n",
       "  </thead>\n",
       "  <tbody>\n",
       "    <tr>\n",
       "      <th>0</th>\n",
       "      <td>TQRMNOPTVHLOKRCDEFJAH00803557</td>\n",
       "      <td>1</td>\n",
       "      <td>2</td>\n",
       "      <td>33</td>\n",
       "      <td>-9.0</td>\n",
       "      <td>6</td>\n",
       "      <td>1</td>\n",
       "      <td>43</td>\n",
       "      <td>2</td>\n",
       "      <td>2</td>\n",
       "      <td>1</td>\n",
       "    </tr>\n",
       "    <tr>\n",
       "      <th>1</th>\n",
       "      <td>TQRMNOPTVHLOKRCDEFJAH00803557</td>\n",
       "      <td>1</td>\n",
       "      <td>1</td>\n",
       "      <td>33</td>\n",
       "      <td>-9.0</td>\n",
       "      <td>6</td>\n",
       "      <td>1</td>\n",
       "      <td>43</td>\n",
       "      <td>2</td>\n",
       "      <td>2</td>\n",
       "      <td>1</td>\n",
       "    </tr>\n",
       "    <tr>\n",
       "      <th>2</th>\n",
       "      <td>TQRMNOQPRHKLKNCDEFJAH00868631</td>\n",
       "      <td>1</td>\n",
       "      <td>1</td>\n",
       "      <td>81</td>\n",
       "      <td>1750000.0</td>\n",
       "      <td>6</td>\n",
       "      <td>1</td>\n",
       "      <td>43</td>\n",
       "      <td>2</td>\n",
       "      <td>2</td>\n",
       "      <td>2</td>\n",
       "    </tr>\n",
       "    <tr>\n",
       "      <th>3</th>\n",
       "      <td>TQRMNOQPRHKLKNCDEFJAH00868631</td>\n",
       "      <td>1</td>\n",
       "      <td>2</td>\n",
       "      <td>78</td>\n",
       "      <td>400000.0</td>\n",
       "      <td>6</td>\n",
       "      <td>3</td>\n",
       "      <td>43</td>\n",
       "      <td>2</td>\n",
       "      <td>2</td>\n",
       "      <td>2</td>\n",
       "    </tr>\n",
       "    <tr>\n",
       "      <th>4</th>\n",
       "      <td>TQRMNORVXHKLKNCDEFJAH00868632</td>\n",
       "      <td>1</td>\n",
       "      <td>1</td>\n",
       "      <td>65</td>\n",
       "      <td>1200000.0</td>\n",
       "      <td>4</td>\n",
       "      <td>1</td>\n",
       "      <td>43</td>\n",
       "      <td>2</td>\n",
       "      <td>1</td>\n",
       "      <td>1</td>\n",
       "    </tr>\n",
       "    <tr>\n",
       "      <th>5</th>\n",
       "      <td>TQRMNORVXHKLKNCDEFJAH00868632</td>\n",
       "      <td>1</td>\n",
       "      <td>2</td>\n",
       "      <td>66</td>\n",
       "      <td>435600.0</td>\n",
       "      <td>4</td>\n",
       "      <td>1</td>\n",
       "      <td>43</td>\n",
       "      <td>2</td>\n",
       "      <td>1</td>\n",
       "      <td>1</td>\n",
       "    </tr>\n",
       "    <tr>\n",
       "      <th>6</th>\n",
       "      <td>TQRMNORVXHKLKNCDEFJAH00868632</td>\n",
       "      <td>1</td>\n",
       "      <td>1</td>\n",
       "      <td>30</td>\n",
       "      <td>1125000.0</td>\n",
       "      <td>5</td>\n",
       "      <td>1</td>\n",
       "      <td>43</td>\n",
       "      <td>2</td>\n",
       "      <td>1</td>\n",
       "      <td>1</td>\n",
       "    </tr>\n",
       "    <tr>\n",
       "      <th>7</th>\n",
       "      <td>TQRMNQYTSHMOKQCDEFJAH00851671</td>\n",
       "      <td>1</td>\n",
       "      <td>1</td>\n",
       "      <td>63</td>\n",
       "      <td>-9.0</td>\n",
       "      <td>3</td>\n",
       "      <td>1</td>\n",
       "      <td>43</td>\n",
       "      <td>2</td>\n",
       "      <td>2</td>\n",
       "      <td>2</td>\n",
       "    </tr>\n",
       "    <tr>\n",
       "      <th>8</th>\n",
       "      <td>TQRMNQYTSHMOKQCDEFJAH00851671</td>\n",
       "      <td>1</td>\n",
       "      <td>2</td>\n",
       "      <td>60</td>\n",
       "      <td>0.0</td>\n",
       "      <td>3</td>\n",
       "      <td>3</td>\n",
       "      <td>43</td>\n",
       "      <td>2</td>\n",
       "      <td>2</td>\n",
       "      <td>2</td>\n",
       "    </tr>\n",
       "    <tr>\n",
       "      <th>9</th>\n",
       "      <td>TQRMNQYTSHMOKQCDEFJAH00851671</td>\n",
       "      <td>1</td>\n",
       "      <td>2</td>\n",
       "      <td>22</td>\n",
       "      <td>0.0</td>\n",
       "      <td>4</td>\n",
       "      <td>2</td>\n",
       "      <td>43</td>\n",
       "      <td>2</td>\n",
       "      <td>2</td>\n",
       "      <td>2</td>\n",
       "    </tr>\n",
       "    <tr>\n",
       "      <th>10</th>\n",
       "      <td>TQRMNORQRHLMLLCDEGKDB00805055</td>\n",
       "      <td>1</td>\n",
       "      <td>1</td>\n",
       "      <td>75</td>\n",
       "      <td>350000.0</td>\n",
       "      <td>3</td>\n",
       "      <td>3</td>\n",
       "      <td>43</td>\n",
       "      <td>2</td>\n",
       "      <td>2</td>\n",
       "      <td>2</td>\n",
       "    </tr>\n",
       "    <tr>\n",
       "      <th>11</th>\n",
       "      <td>TQRMNORQRHLMLLCDEGKDB00805055</td>\n",
       "      <td>1</td>\n",
       "      <td>2</td>\n",
       "      <td>49</td>\n",
       "      <td>-9.0</td>\n",
       "      <td>5</td>\n",
       "      <td>1</td>\n",
       "      <td>43</td>\n",
       "      <td>2</td>\n",
       "      <td>2</td>\n",
       "      <td>2</td>\n",
       "    </tr>\n",
       "    <tr>\n",
       "      <th>12</th>\n",
       "      <td>TQRMNOQVTHMLLNCDEGKDB00810177</td>\n",
       "      <td>1</td>\n",
       "      <td>1</td>\n",
       "      <td>28</td>\n",
       "      <td>500000.0</td>\n",
       "      <td>6</td>\n",
       "      <td>1</td>\n",
       "      <td>43</td>\n",
       "      <td>2</td>\n",
       "      <td>2</td>\n",
       "      <td>1</td>\n",
       "    </tr>\n",
       "    <tr>\n",
       "      <th>13</th>\n",
       "      <td>TQRMNOQVTHMLLNCDEGKDB00810177</td>\n",
       "      <td>1</td>\n",
       "      <td>2</td>\n",
       "      <td>32</td>\n",
       "      <td>320000.0</td>\n",
       "      <td>5</td>\n",
       "      <td>1</td>\n",
       "      <td>43</td>\n",
       "      <td>2</td>\n",
       "      <td>2</td>\n",
       "      <td>1</td>\n",
       "    </tr>\n",
       "    <tr>\n",
       "      <th>14</th>\n",
       "      <td>TQRMNOPRYHKMLMCDEGKDB00868633</td>\n",
       "      <td>1</td>\n",
       "      <td>1</td>\n",
       "      <td>38</td>\n",
       "      <td>1300000.0</td>\n",
       "      <td>4</td>\n",
       "      <td>1</td>\n",
       "      <td>43</td>\n",
       "      <td>2</td>\n",
       "      <td>1</td>\n",
       "      <td>1</td>\n",
       "    </tr>\n",
       "  </tbody>\n",
       "</table>\n",
       "</div>"
      ],
      "text/plain": [
       "                      id_vivienda  id_hogar  sexo  edad    ingreso  \\\n",
       "0   TQRMNOPTVHLOKRCDEFJAH00803557         1     2    33       -9.0   \n",
       "1   TQRMNOPTVHLOKRCDEFJAH00803557         1     1    33       -9.0   \n",
       "2   TQRMNOQPRHKLKNCDEFJAH00868631         1     1    81  1750000.0   \n",
       "3   TQRMNOQPRHKLKNCDEFJAH00868631         1     2    78   400000.0   \n",
       "4   TQRMNORVXHKLKNCDEFJAH00868632         1     1    65  1200000.0   \n",
       "5   TQRMNORVXHKLKNCDEFJAH00868632         1     2    66   435600.0   \n",
       "6   TQRMNORVXHKLKNCDEFJAH00868632         1     1    30  1125000.0   \n",
       "7   TQRMNQYTSHMOKQCDEFJAH00851671         1     1    63       -9.0   \n",
       "8   TQRMNQYTSHMOKQCDEFJAH00851671         1     2    60        0.0   \n",
       "9   TQRMNQYTSHMOKQCDEFJAH00851671         1     2    22        0.0   \n",
       "10  TQRMNORQRHLMLLCDEGKDB00805055         1     1    75   350000.0   \n",
       "11  TQRMNORQRHLMLLCDEGKDB00805055         1     2    49       -9.0   \n",
       "12  TQRMNOQVTHMLLNCDEGKDB00810177         1     1    28   500000.0   \n",
       "13  TQRMNOQVTHMLLNCDEGKDB00810177         1     2    32   320000.0   \n",
       "14  TQRMNOPRYHKMLMCDEGKDB00868633         1     1    38  1300000.0   \n",
       "\n",
       "    nivel_educativo  estado_actividad  region  prestamo_personas  \\\n",
       "0                 6                 1      43                  2   \n",
       "1                 6                 1      43                  2   \n",
       "2                 6                 1      43                  2   \n",
       "3                 6                 3      43                  2   \n",
       "4                 4                 1      43                  2   \n",
       "5                 4                 1      43                  2   \n",
       "6                 5                 1      43                  2   \n",
       "7                 3                 1      43                  2   \n",
       "8                 3                 3      43                  2   \n",
       "9                 4                 2      43                  2   \n",
       "10                3                 3      43                  2   \n",
       "11                5                 1      43                  2   \n",
       "12                6                 1      43                  2   \n",
       "13                5                 1      43                  2   \n",
       "14                4                 1      43                  2   \n",
       "\n",
       "    prestamo_banco  compra_cuotas  \n",
       "0                2              1  \n",
       "1                2              1  \n",
       "2                2              2  \n",
       "3                2              2  \n",
       "4                1              1  \n",
       "5                1              1  \n",
       "6                1              1  \n",
       "7                2              2  \n",
       "8                2              2  \n",
       "9                2              2  \n",
       "10               2              2  \n",
       "11               2              2  \n",
       "12               2              1  \n",
       "13               2              1  \n",
       "14               1              1  "
      ]
     },
     "execution_count": 89,
     "metadata": {},
     "output_type": "execute_result"
    }
   ],
   "source": [
    "df_final.head(15)\n"
   ]
  },
  {
   "cell_type": "markdown",
   "id": "0c679ab2",
   "metadata": {},
   "source": [
    "Los datos de préstamo están en la tabla de hogares porque representan prácticas declaradas por el hogar, no por cada persona.\n",
    "\n",
    "Por eso, al unir las bases, todas las personas del hogar aparecen con ese mismo dato. Es importante tenerlo en cuenta para no suponer que cada integrante pidió un préstamo, sino que es una característica del entorno económico del hogar.\n"
   ]
  },
  {
   "cell_type": "markdown",
   "id": "35ef2aae",
   "metadata": {},
   "source": [
    "---\n",
    "# Unidad 2 - Estadística descriptiva\n",
    "\n",
    "## Gráficos - Región Pampeana"
   ]
  },
  {
   "cell_type": "markdown",
   "id": "29f9837f",
   "metadata": {},
   "source": [
    "### ESTADO - Condición de Actividad\n",
    "Tipo de variable: Nominal\n",
    "\n",
    "Creamos un diccionario para traducir códigos de estado de actividad:"
   ]
  },
  {
   "cell_type": "code",
   "execution_count": null,
   "id": "2d9eaf3d",
   "metadata": {},
   "outputs": [],
   "source": [
    "estado = pd.DataFrame([\n",
    "    (0, \"Encuesta no realizada\"),\n",
    "    (1, \"Ocupado\"),\n",
    "    (2, \"Desocupado\"),\n",
    "    (3, \"Inactivo\"),\n",
    "    (4, \"Menor de 10 años\")\n",
    "], columns=[\"estado_actividad\", \"estado_nombre\"])"
   ]
  },
  {
   "cell_type": "markdown",
   "id": "2e195781",
   "metadata": {},
   "source": [
    "##### Datos faltantes\n",
    "\n",
    "Revisamos si hay valores faltantes en `estado_actividad`"
   ]
  },
  {
   "cell_type": "code",
   "execution_count": null,
   "id": "fcaacd47",
   "metadata": {},
   "outputs": [
    {
     "data": {
      "text/plain": [
       "0"
      ]
     },
     "execution_count": 91,
     "metadata": {},
     "output_type": "execute_result"
    }
   ],
   "source": [
    "personas_fil[\"estado_actividad\"].isna().sum()"
   ]
  },
  {
   "cell_type": "markdown",
   "id": "01d57fe8",
   "metadata": {},
   "source": [
    "### Análisis de Frecuencias\n",
    "\n",
    "#### Frecuencia absoluta de cada categoría"
   ]
  },
  {
   "cell_type": "code",
   "execution_count": null,
   "id": "d7e81a7c",
   "metadata": {},
   "outputs": [
    {
     "data": {
      "text/plain": [
       "estado_nombre\n",
       "Ocupado                  6389\n",
       "Inactivo                 5794\n",
       "Menor de 10 años         1620\n",
       "Desocupado                497\n",
       "Encuesta no realizada      15\n",
       "Name: count, dtype: int64"
      ]
     },
     "execution_count": 92,
     "metadata": {},
     "output_type": "execute_result"
    }
   ],
   "source": [
    "personas_fil.merge(estado, how=\"inner\", on=\"estado_actividad\")[\"estado_nombre\"].value_counts()"
   ]
  },
  {
   "cell_type": "markdown",
   "id": "ddbce543",
   "metadata": {},
   "source": [
    "#### Muestra la frecuencia relativa de cada categoría"
   ]
  },
  {
   "cell_type": "code",
   "execution_count": null,
   "id": "9a060012",
   "metadata": {},
   "outputs": [
    {
     "data": {
      "text/plain": [
       "estado_nombre\n",
       "Ocupado                  0.446315\n",
       "Inactivo                 0.404750\n",
       "Menor de 10 años         0.113168\n",
       "Desocupado               0.034719\n",
       "Encuesta no realizada    0.001048\n",
       "Name: proportion, dtype: float64"
      ]
     },
     "execution_count": 93,
     "metadata": {},
     "output_type": "execute_result"
    }
   ],
   "source": [
    "personas_fil.merge(estado, how=\"inner\", on=\"estado_actividad\")[\"estado_nombre\"].value_counts(normalize=True)"
   ]
  },
  {
   "cell_type": "markdown",
   "id": "7cf55ed2",
   "metadata": {},
   "source": [
    "#### Gráfico de torta"
   ]
  },
  {
   "cell_type": "code",
   "execution_count": null,
   "id": "a525e28b",
   "metadata": {},
   "outputs": [
    {
     "data": {
      "image/png": "[encoded data removed]",
      "text/plain": [
       "<Figure size 640x480 with 1 Axes>"
      ]
     },
     "metadata": {},
     "output_type": "display_data"
    }
   ],
   "source": [
    "frecuencias = personas_fil.merge(estado, how=\"inner\", on=\"estado_actividad\")[\"estado_nombre\"].value_counts()\n",
    "plt.pie(frecuencias, labels=frecuencias.index, autopct=\"%.2f%%\", pctdistance=0.8, labeldistance=1.1, radius=1.3)\n",
    "plt.show()"
   ]
  },
  {
   "cell_type": "markdown",
   "id": "23e96108",
   "metadata": {},
   "source": [
    "### Conclusiones de estado de actividad\n",
    "\n",
    "- Solo el 44.63% de las personas están ocupadas, es decir, tienen trabajo. Esto significa que menos de la mitad de la muestra está en condiciones de generar ingresos regularmente.\n",
    "\n",
    "- El 40.48% está inactivo, lo que incluye estudiantes, jubilados, etc. Estas personas en general no tienen ingresos laborales.\n",
    "\n",
    "- El 11.32% son menores de 10 años, por lo tanto no trabajan ni tienen ingresos.\n",
    "\n",
    "- Apenas un 3.47% está desocupado, es decir, busca trabajo pero no lo tiene.\n",
    "\n",
    "Esto nos muestra que más de la mitad de la población no está trabajando. Por eso, cuando analicemos ingresos, vamos a encontrar muchas personas con ingreso cero o muy bajo. Es importante tener esto en cuenta para interpretar correctamente los resultados.\n"
   ]
  },
  {
   "cell_type": "markdown",
   "id": "df316772",
   "metadata": {},
   "source": [
    "\n",
    "### NIVEL_ED - Nivel Educativo\n",
    "\n",
    "Tipo de Variable: Ordinal\n",
    "\n",
    "Creación del diccionario de niveles educativos\n"
   ]
  },
  {
   "cell_type": "code",
   "execution_count": null,
   "id": "ca6f8163",
   "metadata": {},
   "outputs": [],
   "source": [
    "nivel_educativo = pd.DataFrame([\n",
    "    (1, \"Primario incompleto (incluye educación especial)\"),\n",
    "    (2, \"Primario completo\"),\n",
    "    (3, \"Secundario incompleto\"),\n",
    "    (4, \"Secundario completo\"),\n",
    "    (5, \"Superior universitario incompleto\"),\n",
    "    (6, \"Superior universitario completo\"),\n",
    "    (7, \"Sin instrucción\"),\n",
    "    (9, \"Ns/Nr\"),\n",
    "    ], columns=[\"nivel_educativo\", \"nivel_educativo_nombre\"])\n"
   ]
  },
  {
   "cell_type": "markdown",
   "id": "d774cadf",
   "metadata": {},
   "source": [
    "\n",
    "#### Datos faltantes\n",
    "\n",
    "No hay registros con valores indefinidos.\n"
   ]
  },
  {
   "cell_type": "code",
   "execution_count": null,
   "id": "53ad2c9a",
   "metadata": {},
   "outputs": [
    {
     "data": {
      "text/plain": [
       "0"
      ]
     },
     "execution_count": 96,
     "metadata": {},
     "output_type": "execute_result"
    }
   ],
   "source": [
    "personas_fil[\"nivel_educativo\"].isna().sum()"
   ]
  },
  {
   "cell_type": "markdown",
   "id": "c101aa13",
   "metadata": {},
   "source": [
    "#### Análisis de Frecuencias\n",
    "\n",
    "Frencuencias absolutas por nivel educativo"
   ]
  },
  {
   "cell_type": "code",
   "execution_count": null,
   "id": "2b7a0948",
   "metadata": {},
   "outputs": [
    {
     "data": {
      "text/plain": [
       "nivel_educativo  nivel_educativo_nombre                          \n",
       "4                Secundario completo                                 2965\n",
       "3                Secundario incompleto                               2887\n",
       "6                Superior universitario completo                     2156\n",
       "1                Primario incompleto (incluye educación especial)    2016\n",
       "5                Superior universitario incompleto                   1743\n",
       "2                Primario completo                                   1672\n",
       "7                Sin instrucción                                      876\n",
       "Name: count, dtype: int64"
      ]
     },
     "execution_count": 97,
     "metadata": {},
     "output_type": "execute_result"
    }
   ],
   "source": [
    "personas_fil.merge(nivel_educativo, how=\"inner\", on=\"nivel_educativo\")[[\"nivel_educativo\",\"nivel_educativo_nombre\"]].value_counts()"
   ]
  },
  {
   "cell_type": "markdown",
   "id": "8505e326",
   "metadata": {},
   "source": [
    "Frecuencias relativas por nivel educativo."
   ]
  },
  {
   "cell_type": "code",
   "execution_count": null,
   "id": "30b458a4",
   "metadata": {},
   "outputs": [
    {
     "data": {
      "text/plain": [
       "nivel_educativo_nombre\n",
       "Secundario completo                                 0.207125\n",
       "Secundario incompleto                               0.201677\n",
       "Superior universitario completo                     0.150611\n",
       "Primario incompleto (incluye educación especial)    0.140831\n",
       "Superior universitario incompleto                   0.121760\n",
       "Primario completo                                   0.116801\n",
       "Sin instrucción                                     0.061195\n",
       "Name: proportion, dtype: float64"
      ]
     },
     "execution_count": 98,
     "metadata": {},
     "output_type": "execute_result"
    }
   ],
   "source": [
    "personas_fil.merge(nivel_educativo, how=\"inner\", on=\"nivel_educativo\")[\"nivel_educativo_nombre\"].value_counts(normalize=True)"
   ]
  },
  {
   "cell_type": "code",
   "execution_count": null,
   "id": "e41c637f",
   "metadata": {},
   "outputs": [
    {
     "data": {
      "image/png": "[encoded data removed]",
      "text/plain": [
       "<Figure size 1000x600 with 1 Axes>"
      ]
     },
     "metadata": {},
     "output_type": "display_data"
    }
   ],
   "source": [
    "frecuencias = personas_fil.merge(nivel_educativo, how=\"inner\", on=\"nivel_educativo\") \\\n",
    "    [[\"nivel_educativo\", \"nivel_educativo_nombre\"]].value_counts() \\\n",
    "    .reset_index(name='nivel_educativo_count') \\\n",
    "    .sort_values(\"nivel_educativo\")\n",
    "\n",
    "plt.figure(figsize=(10, 6))\n",
    "plt.bar(frecuencias[\"nivel_educativo_nombre\"], frecuencias[\"nivel_educativo_count\"])\n",
    "plt.xticks(rotation=45)\n",
    "plt.title(\"Distribución por Nivel Educativo\")\n",
    "plt.ylabel(\"Cantidad de personas\")\n",
    "plt.tight_layout()\n",
    "plt.show()\n"
   ]
  },
  {
   "cell_type": "markdown",
   "id": "e78e73c6",
   "metadata": {},
   "source": [
    "### Conclusiones sobre el Nivel Educativo\n",
    "\n",
    "- La mayoría de las personas en la muestra tienen nivel secundario completo o incompleto, lo que representa el grupo más numeroso.\n",
    "\n",
    "- Le siguen los niveles superior universitario completo e incompleto, lo que indica una presencia importante de personas con educación terciaria o universitaria.\n",
    "\n",
    "- Los niveles primario completo e incompleto también están presentes, pero en menor medida.\n",
    "\n",
    "- Un pequeño porcentaje de la población declara no tener instrucción.\n",
    "\n",
    "Esta distribución es importante porque el nivel educativo es una variable que puede influir en el ingreso de las personas. Más adelante vamos a analizar si a mayor educación también hay mayores ingresos.\n"
   ]
  },
  {
   "cell_type": "markdown",
   "id": "b654836b",
   "metadata": {},
   "source": [
    "\n",
    "#### Variable Edad\n",
    "Tipo de variable: Continua\n",
    "\n",
    "Medidas estadísticas básicas de la variable edad: mínimo, máximo, media, cuartiles, etc.  \n",
    "\n",
    "Sirve para entender la distribución antes de graficar."
   ]
  },
  {
   "cell_type": "code",
   "execution_count": null,
   "id": "9f2f852c",
   "metadata": {},
   "outputs": [
    {
     "data": {
      "text/plain": [
       "count    14315.000000\n",
       "mean        37.251764\n",
       "std         22.394482\n",
       "min         -1.000000\n",
       "25%         18.000000\n",
       "50%         35.000000\n",
       "75%         55.000000\n",
       "max        102.000000\n",
       "Name: edad, dtype: float64"
      ]
     },
     "execution_count": 100,
     "metadata": {},
     "output_type": "execute_result"
    }
   ],
   "source": [
    "personas_fil[\"edad\"].describe()"
   ]
  },
  {
   "cell_type": "code",
   "execution_count": null,
   "id": "22ea3a31",
   "metadata": {},
   "outputs": [
    {
     "data": {
      "image/png": "[encoded data removed]",
      "text/plain": [
       "<Figure size 640x480 with 1 Axes>"
      ]
     },
     "metadata": {},
     "output_type": "display_data"
    }
   ],
   "source": [
    "bin_edges = np.histogram_bin_edges(personas_fil[\"edad\"], bins='scott')\n",
    "plt.hist(personas_fil[\"edad\"], edgecolor='black', bins=bin_edges)\n",
    "plt.xlabel('Edad')\n",
    "plt.ylabel('Fecuencia')\n",
    "plt.title(\"Distribución de edades\")\n",
    "plt.show()"
   ]
  },
  {
   "cell_type": "markdown",
   "id": "bfd47f4f",
   "metadata": {},
   "source": [
    "### Conclusión sobre la distribución de edades\n",
    "\n",
    "La distribución de edades en la muestra es amplia y abarca desde recién nacidos hasta adultos mayores. La mayoría de las personas se concentran entre los 10 y 40 años, con un pico de frecuencia cercano a los 15 años, lo que indica una fuerte presencia de adolescentes o jóvenes en la región Pampeana.\n",
    "\n",
    "A medida que aumenta la edad, la frecuencia disminuye progresivamente. Esto es importante porque la edad puede influir tanto en la probabilidad de tener ingresos como en el monto percibido, por lo que será una variable a tener en cuenta en análisis posteriores.\n"
   ]
  },
  {
   "cell_type": "markdown",
   "id": "19f0f910",
   "metadata": {},
   "source": [
    "#### Variable: Sexo\n",
    "Varieble cualititativa"
   ]
  },
  {
   "cell_type": "code",
   "execution_count": null,
   "id": "d6dabe83",
   "metadata": {},
   "outputs": [
    {
     "name": "stderr",
     "output_type": "stream",
     "text": [
      "/tmp/ipykernel_31491/2496684717.py:2: FutureWarning: \n",
      "\n",
      "Passing `palette` without assigning `hue` is deprecated and will be removed in v0.14.0. Assign the `x` variable to `hue` and set `legend=False` for the same effect.\n",
      "\n",
      "  ax = sns.countplot(x='sexo', data=personas_fil, palette='Set2')\n"
     ]
    },
    {
     "data": {
      "image/png": "[encoded data removed]",
      "text/plain": [
       "<Figure size 640x480 with 1 Axes>"
      ]
     },
     "metadata": {},
     "output_type": "display_data"
    }
   ],
   "source": [
    "\n",
    "personas_fil['sexo'] = personas_fil['sexo'].map({1: 'Hombre', 2: 'Mujer'})\n",
    "ax = sns.countplot(x='sexo', data=personas_fil, palette='Set2')\n",
    "for p in ax.patches:\n",
    "    height = p.get_height()\n",
    "    ax.text(\n",
    "        p.get_x() + p.get_width() / 2, \n",
    "        height * 0.5,\n",
    "        str(height),  \n",
    "        ha='center', va='center', \n",
    "        color='black', fontsize=12\n",
    "    )\n",
    "\n",
    "plt.title('Distribución de sexo')\n",
    "plt.xlabel('Sexo')\n",
    "plt.ylabel('Frecuencia')\n",
    "plt.tight_layout()\n",
    "plt.show()"
   ]
  },
  {
   "cell_type": "markdown",
   "id": "b3fcba64",
   "metadata": {},
   "source": [
    "### Conclusión sobre la variable Sexo\n",
    "\n",
    "El gráfico muestra que la población está compuesta por hombres y mujeres en proporciones bastante similares, con una ligera mayoría de mujeres.\n",
    "\n",
    "Esto es importante porque hay una cantidad suficiente de personas de ambos sexos, lo que nos va a permitir más adelante comparar los ingresos entre hombres y mujeres de forma equilibrada."
   ]
  },
  {
   "cell_type": "markdown",
   "id": "3fa32fc7",
   "metadata": {},
   "source": [
    "## Ingreso \n",
    "Cuantitativa Continua\n",
    "\n",
    "### Problemas comunes de la Variable Ingresos\n",
    "\n",
    "a) Asimetría de la variable con presencia de valores extremos:\n",
    "\n",
    "- Las variables de ingresos son en todos los países variables asimétricas hacia la derecha, caracterizadas por presentar muchos valores concentrados en la cola izquierda (valores bajos) de la distribución y pocos valores extremos\n",
    "a la derecha. La mayoría de las personas gana ingresos bajos o medios, y hay pocos casos con ingresos muy altos que “empujan” el promedio hacia arriba.\n",
    "\n",
    "\n",
    "Este tipo de distribución genera dos consecuencias importantes:\n",
    "\n",
    "- El promedio se ve influenciado por esos valores altos.\n",
    "- La **mediana** suele ser una medida más representativa para describir el ingreso típico de la población.\n",
    "\n",
    "\n",
    "b) Dificultad de determinar el carácter de los valores extremos y su tratamiento:\n",
    "\n",
    "\n",
    "Las variables de ingreso son utilizadas para construir diferente indicadores: medias o medianas de ingreso, medidas de desigualdad, e.g coeficiente de Gini, ratios, estimaciones de pobreza, etc.. Para cada uno de estos indicadores, hay varias formas de tratar los valores extremos:\n",
    "\n",
    "\n",
    "- Asignarles **ponderación** menor para reducir su influencia, suponiendo que son valores totalmente atípicos,\n",
    "que no 'representan' a otros individuos.\n",
    "\n",
    "- **Modificar** el valor de la variable ('trimming'), asignándole el primer valor inferior\n",
    "considerado no 'extremo'.\n",
    "\n",
    "- **Eliminarlo** del análisis, etc.\" [1]\n",
    "\n",
    "#### Tratamiento de la no Respuesta en la Encuesta Permanente Hogares\n",
    "\n",
    "\"El método de imputación de ingresos utilizado es el de hot-deck aleatorio que sintéticamente, consiste en seleccionar un ‘donante’ para cada valor faltante dentro de cierta sub-población definida por ciertas variables auxiliares, correlacionadas o asociadas con la variable cuya no respuesta se corrige. Ello significa que cada valor faltante es ‘imputado’ por un valor ‘válido’ que pertenece al mismo grupo de clasificación. La imputación se realiza sustituyendo el valor faltante por un valor válido en cada una de las\n",
    "variables.\"\n",
    "\n",
    "##### Referencias\n",
    "1. https://www.santafe.gob.ar/index.php/web/content/download/80496/388462/file/eph_metodologia_15.pdf\n",
    "2. https://www.indec.gob.ar/ftp/cuadros/menusuperior/eph/eph_innovaciones_12_09.pdf\n",
    "\n",
    "#### Análisis de la Muestra\n"
   ]
  },
  {
   "cell_type": "code",
   "execution_count": null,
   "id": "e107bcaf",
   "metadata": {},
   "outputs": [
    {
     "data": {
      "image/png": "[encoded data removed]",
      "text/plain": [
       "<Figure size 640x480 with 1 Axes>"
      ]
     },
     "metadata": {},
     "output_type": "display_data"
    }
   ],
   "source": [
    "import seaborn as sns\n",
    "import matplotlib.pyplot as plt\n",
    "\n",
    "sns.boxplot(x=personas_fil['ingreso'])\n",
    "plt.title('Distribución de ingresos')\n",
    "plt.xlabel('Ingreso')\n",
    "plt.show()\n"
   ]
  },
  {
   "cell_type": "markdown",
   "id": "c1a9fecc",
   "metadata": {},
   "source": [
    "Para comenzar el análisis, se filtraron los valores no válidos de la variable ingreso: se eliminaron los `-9` (que indican \"no respuesta\") y los valores nulos. Esto redujo la muestra a 11.904 personas.\n",
    "\n",
    "El gráfico tipo **boxplot** muestra que la distribución es **altamente asimétrica hacia la derecha**, con muchos valores bajos y una gran cantidad de valores atípicos elevados.\n",
    "\n",
    "Esto también se ve reflejado en el **coeficiente de dispersión**, que supera el 100%. Esto significa que la **variación del ingreso en relación al promedio es muy alta**, lo que confirma que hay una gran desigualdad entre los valores más bajos y los más altos de la muestra.\n",
    "\n",
    "Además, se identificó que los casos con ingreso nulo correspondían, en su mayoría, a entrevistas que **no fueron realizadas individualmente**, lo cual es coherente con el código `estado_actividad = 0` observado en otros análisis.\n",
    "\n",
    "Esta situación justifica el uso de medidas como **la mediana**, que no se ven tan afectadas por los ingresos extremos, para describir mejor el ingreso “típico” de la población."
   ]
  },
  {
   "cell_type": "code",
   "execution_count": 130,
   "id": "442bf2b6",
   "metadata": {},
   "outputs": [
    {
     "data": {
      "text/html": [
       "<div>\n",
       "<style scoped>\n",
       "    .dataframe tbody tr th:only-of-type {\n",
       "        vertical-align: middle;\n",
       "    }\n",
       "\n",
       "    .dataframe tbody tr th {\n",
       "        vertical-align: top;\n",
       "    }\n",
       "\n",
       "    .dataframe thead th {\n",
       "        text-align: right;\n",
       "    }\n",
       "</style>\n",
       "<table border=\"1\" class=\"dataframe\">\n",
       "  <thead>\n",
       "    <tr style=\"text-align: right;\">\n",
       "      <th></th>\n",
       "      <th>edad</th>\n",
       "      <th>ingreso</th>\n",
       "      <th>PONDII</th>\n",
       "      <th>fecha_nacimiento</th>\n",
       "      <th>DECINDR</th>\n",
       "      <th>RDECINDR</th>\n",
       "    </tr>\n",
       "  </thead>\n",
       "  <tbody>\n",
       "    <tr>\n",
       "      <th>731</th>\n",
       "      <td>56</td>\n",
       "      <td>NaN</td>\n",
       "      <td>149</td>\n",
       "      <td>1968-02-03 00:00:00</td>\n",
       "      <td>13</td>\n",
       "      <td>13</td>\n",
       "    </tr>\n",
       "    <tr>\n",
       "      <th>4159</th>\n",
       "      <td>53</td>\n",
       "      <td>NaN</td>\n",
       "      <td>454</td>\n",
       "      <td>1900-01-01 00:00:00</td>\n",
       "      <td>13</td>\n",
       "      <td>13</td>\n",
       "    </tr>\n",
       "    <tr>\n",
       "      <th>5439</th>\n",
       "      <td>16</td>\n",
       "      <td>NaN</td>\n",
       "      <td>604</td>\n",
       "      <td>2008-05-28 00:00:00</td>\n",
       "      <td>13</td>\n",
       "      <td>13</td>\n",
       "    </tr>\n",
       "    <tr>\n",
       "      <th>17606</th>\n",
       "      <td>56</td>\n",
       "      <td>NaN</td>\n",
       "      <td>708</td>\n",
       "      <td>1968-03-15 00:00:00</td>\n",
       "      <td>13</td>\n",
       "      <td>13</td>\n",
       "    </tr>\n",
       "    <tr>\n",
       "      <th>19213</th>\n",
       "      <td>37</td>\n",
       "      <td>NaN</td>\n",
       "      <td>214</td>\n",
       "      <td>1987-09-20 00:00:00</td>\n",
       "      <td>13</td>\n",
       "      <td>13</td>\n",
       "    </tr>\n",
       "    <tr>\n",
       "      <th>19214</th>\n",
       "      <td>39</td>\n",
       "      <td>NaN</td>\n",
       "      <td>214</td>\n",
       "      <td>1985-01-14 00:00:00</td>\n",
       "      <td>13</td>\n",
       "      <td>13</td>\n",
       "    </tr>\n",
       "    <tr>\n",
       "      <th>21233</th>\n",
       "      <td>41</td>\n",
       "      <td>NaN</td>\n",
       "      <td>84</td>\n",
       "      <td>1900-01-01 00:00:00</td>\n",
       "      <td>13</td>\n",
       "      <td>13</td>\n",
       "    </tr>\n",
       "    <tr>\n",
       "      <th>25056</th>\n",
       "      <td>41</td>\n",
       "      <td>NaN</td>\n",
       "      <td>1612</td>\n",
       "      <td>1981-10-25 00:00:00</td>\n",
       "      <td>13</td>\n",
       "      <td>13</td>\n",
       "    </tr>\n",
       "    <tr>\n",
       "      <th>25057</th>\n",
       "      <td>35</td>\n",
       "      <td>NaN</td>\n",
       "      <td>1612</td>\n",
       "      <td>1989-08-04 00:00:00</td>\n",
       "      <td>13</td>\n",
       "      <td>13</td>\n",
       "    </tr>\n",
       "    <tr>\n",
       "      <th>39376</th>\n",
       "      <td>45</td>\n",
       "      <td>NaN</td>\n",
       "      <td>163</td>\n",
       "      <td>1900-01-01 00:00:00</td>\n",
       "      <td>13</td>\n",
       "      <td>13</td>\n",
       "    </tr>\n",
       "    <tr>\n",
       "      <th>39377</th>\n",
       "      <td>54</td>\n",
       "      <td>NaN</td>\n",
       "      <td>163</td>\n",
       "      <td>1900-01-01 00:00:00</td>\n",
       "      <td>13</td>\n",
       "      <td>13</td>\n",
       "    </tr>\n",
       "    <tr>\n",
       "      <th>41842</th>\n",
       "      <td>28</td>\n",
       "      <td>NaN</td>\n",
       "      <td>593</td>\n",
       "      <td>1996-01-17 00:00:00</td>\n",
       "      <td>13</td>\n",
       "      <td>13</td>\n",
       "    </tr>\n",
       "    <tr>\n",
       "      <th>41844</th>\n",
       "      <td>51</td>\n",
       "      <td>NaN</td>\n",
       "      <td>593</td>\n",
       "      <td>1973-07-31 00:00:00</td>\n",
       "      <td>13</td>\n",
       "      <td>13</td>\n",
       "    </tr>\n",
       "    <tr>\n",
       "      <th>43813</th>\n",
       "      <td>47</td>\n",
       "      <td>NaN</td>\n",
       "      <td>772</td>\n",
       "      <td>1900-01-01 00:00:00</td>\n",
       "      <td>13</td>\n",
       "      <td>13</td>\n",
       "    </tr>\n",
       "    <tr>\n",
       "      <th>45040</th>\n",
       "      <td>67</td>\n",
       "      <td>NaN</td>\n",
       "      <td>85</td>\n",
       "      <td>1900-01-01 00:00:00</td>\n",
       "      <td>13</td>\n",
       "      <td>13</td>\n",
       "    </tr>\n",
       "  </tbody>\n",
       "</table>\n",
       "</div>"
      ],
      "text/plain": [
       "       edad  ingreso  PONDII     fecha_nacimiento  DECINDR  RDECINDR\n",
       "731      56      NaN     149  1968-02-03 00:00:00       13        13\n",
       "4159     53      NaN     454  1900-01-01 00:00:00       13        13\n",
       "5439     16      NaN     604  2008-05-28 00:00:00       13        13\n",
       "17606    56      NaN     708  1968-03-15 00:00:00       13        13\n",
       "19213    37      NaN     214  1987-09-20 00:00:00       13        13\n",
       "19214    39      NaN     214  1985-01-14 00:00:00       13        13\n",
       "21233    41      NaN      84  1900-01-01 00:00:00       13        13\n",
       "25056    41      NaN    1612  1981-10-25 00:00:00       13        13\n",
       "25057    35      NaN    1612  1989-08-04 00:00:00       13        13\n",
       "39376    45      NaN     163  1900-01-01 00:00:00       13        13\n",
       "39377    54      NaN     163  1900-01-01 00:00:00       13        13\n",
       "41842    28      NaN     593  1996-01-17 00:00:00       13        13\n",
       "41844    51      NaN     593  1973-07-31 00:00:00       13        13\n",
       "43813    47      NaN     772  1900-01-01 00:00:00       13        13\n",
       "45040    67      NaN      85  1900-01-01 00:00:00       13        13"
      ]
     },
     "execution_count": 130,
     "metadata": {},
     "output_type": "execute_result"
    }
   ],
   "source": [
    "personas_fil_pam[personas_fil_pam[\"ingreso\"].isnull()][[\"edad\", \"ingreso\", \"PONDII\", \"fecha_nacimiento\", \"DECINDR\", \"RDECINDR\"]]"
   ]
  },
  {
   "cell_type": "markdown",
   "id": "5c7b0d6e",
   "metadata": {},
   "source": [
    "Se eliminan las respuestas faltantes y se reemplazan los valores nulos por la media regional."
   ]
  },
  {
   "cell_type": "code",
   "execution_count": null,
   "id": "cc697ec7",
   "metadata": {},
   "outputs": [],
   "source": [
    "promedio_ingresos = personas_fil_pam['ingreso'].mean()\n",
    "personas_fil_pam.loc[:, 'ingreso'] = personas['ingreso'].fillna(promedio_ingresos)"
   ]
  },
  {
   "cell_type": "code",
   "execution_count": null,
   "id": "ba673137",
   "metadata": {},
   "outputs": [],
   "source": [
    "hogares_personas = pd.merge(personas_fil_pam, hogares_fil_pam, on=['id_vivienda', 'id_hogar', 'region'], how='inner')"
   ]
  },
  {
   "cell_type": "code",
   "execution_count": null,
   "id": "59db32bd",
   "metadata": {},
   "outputs": [
    {
     "name": "stdout",
     "output_type": "stream",
     "text": [
      "Coeficiente de dispersión: [1.46624717]\n",
      "Media: [355221.80353445]\n",
      "Mediana: [200000.]\n",
      "Personas con respuesta ingresos 11904\n"
     ]
    }
   ],
   "source": [
    "print(\"Coeficiente de dispersión:\", (hogares_personas[hogares_personas[\"ingreso\"] !=-9][[\"ingreso\"]].std()/hogares_personas[hogares_personas[\"ingreso\"] !=-9][[\"ingreso\"]].mean()).values)\n",
    "print(\"Media:\", hogares_personas[hogares_personas[\"ingreso\"] !=-9][[\"ingreso\"]].mean().values)\n",
    "print(\"Mediana:\", hogares_personas[hogares_personas[\"ingreso\"] !=-9][[\"ingreso\"]].median().values)\n",
    "print(\"Personas con respuesta ingresos\", len(hogares_personas[hogares_personas[\"ingreso\"] !=-9]))"
   ]
  },
  {
   "cell_type": "code",
   "execution_count": null,
   "id": "baf82f6b",
   "metadata": {},
   "outputs": [
    {
     "data": {
      "image/png": "[encoded data removed]",
      "text/plain": [
       "<Figure size 640x480 with 1 Axes>"
      ]
     },
     "metadata": {},
     "output_type": "display_data"
    }
   ],
   "source": [
    "respuestas = hogares_personas[hogares_personas[\"ingreso\"] !=-9][[\"ingreso\"]]/1000\n",
    "plt.hist(respuestas[\"ingreso\"], bins=40, edgecolor='black')\n",
    "plt.xlabel(\"Ingresos per cápita (en miles de pesos)\")\n",
    "plt.ylabel(\"Frecuencia\")\n",
    "plt.show()"
   ]
  },
  {
   "cell_type": "markdown",
   "id": "e1cb389b",
   "metadata": {},
   "source": [
    "### Conclusión del histograma\n",
    "\n",
    "- La mayoría de las personas tienen ingresos bajos.\n",
    "\n",
    "- La frecuencia cae rápidamente a medida que el ingreso aumenta.\n",
    "\n",
    "- Hay pocos casos con ingresos muy altos (algunos > $1.000.000), pero no se ven con tanto detalle porque están lejos del resto.\n",
    "\n",
    "- Es una distribución típica en este tipo de variables: asimétrica hacia la derecha.\n",
    "\n",
    "Comentarios de la profe:\n",
    "Agregar escalas, el eje vertical es frecuencia absoluta\n",
    "Hace un intervalo final que abarque a valores mayores a 2 millones.\n",
    "Hacer descripcion de quienes son lo que tienen ingresos\n",
    "Quitar a los menores del estudio\n",
    "Ver ingreso per capita del hogar, que es el ingreso total dividido la cant de integrantes\n"
   ]
  },
  {
   "cell_type": "code",
   "execution_count": null,
   "id": "3eb7b757",
   "metadata": {},
   "outputs": [
    {
     "data": {
      "image/png": "[encoded data removed]",
      "text/plain": [
       "<Figure size 640x480 with 1 Axes>"
      ]
     },
     "metadata": {},
     "output_type": "display_data"
    }
   ],
   "source": [
    "con_ponderador = hogares_personas[[\"ingreso\", \"PONDII\"]]\n",
    "con_ponderador.loc[con_ponderador[\"ingreso\"]>0, \"ingreso\"] = con_ponderador[\"ingreso\"]/1000\n",
    "plt.hist(con_ponderador[\"ingreso\"], bins=40, edgecolor='black', weights=con_ponderador[\"PONDII\"])\n",
    "plt.xlabel(\"Ingresos per cápita (en miles de pesos)\")\n",
    "plt.ylabel(\"Frecuencia\")\n",
    "plt.show()"
   ]
  },
  {
   "cell_type": "code",
   "execution_count": null,
   "id": "98458230",
   "metadata": {},
   "outputs": [],
   "source": [
    "aglomerados = pd.DataFrame([(2, \"Gran La Plata\"),\n",
    "               (3, \"Bahía Blanca - Cerri\"),\n",
    "               (4, \"Gran Rosario\"),\n",
    "               (5, \"Gran Santa Fé\"),\n",
    "               (6, \"Gran Paraná\"),\n",
    "               (7, \"Posadas\"),\n",
    "               (8, \"Gran Resistencia\"),\n",
    "               (9, \"Comodoro Rivadavia - Rada Tilly\"),\n",
    "               (10, \"Gran Mendoza\"),\n",
    "               (12, \"Corrientes\"),\n",
    "               (13, \"Gran Córdoba\"),\n",
    "               (14, \"Concordia\"),\n",
    "               (15, \"Formosa\"),\n",
    "               (17, \"Neuquén – Plottier\"),\n",
    "               (18, \"Santiago del Estero - La Banda\"),\n",
    "               (19, \"Jujuy - Palpalá\"),\n",
    "               (20, \"Río Gallegos\"),\n",
    "               (22, \"Gran Catamarca\"),\n",
    "               (23, \"Gran Salta\"),\n",
    "               (25, \"La Rioja\"),\n",
    "               (26, \"Gran San Luis\"),\n",
    "               (27, \"Gran San Juan\"),\n",
    "               (29, \"Gran Tucumán - Tafí Viejo\"),\n",
    "               (30, \"Santa Rosa – Toay\"),\n",
    "               (31, \"Ushuaia - Río Grande\"),\n",
    "               (32, \"Ciudad Autónoma de Buenos Aires\"),\n",
    "               (33, \"Partidos del GBA\"),\n",
    "               (34, \"Mar del Plata\"),\n",
    "               (36, \"Río Cuarto\"),\n",
    "               (38, \"San Nicolás – Villa Constitución\"),\n",
    "               (91, \"Rawson – Trelew\"),\n",
    "               (93, \"Viedma – Carmen de Patagones\")], columns=[\"AGLOMERADO\", \"AGLOMERADO_NOMBRE\"])"
   ]
  },
  {
   "cell_type": "markdown",
   "id": "349378e5",
   "metadata": {},
   "source": [
    "Se observan los aglomerados presentes en la muestra de la región pampeana."
   ]
  },
  {
   "cell_type": "code",
   "execution_count": null,
   "id": "5ef522d5",
   "metadata": {},
   "outputs": [
    {
     "data": {
      "text/html": [
       "<div>\n",
       "<style scoped>\n",
       "    .dataframe tbody tr th:only-of-type {\n",
       "        vertical-align: middle;\n",
       "    }\n",
       "\n",
       "    .dataframe tbody tr th {\n",
       "        vertical-align: top;\n",
       "    }\n",
       "\n",
       "    .dataframe thead th {\n",
       "        text-align: right;\n",
       "    }\n",
       "</style>\n",
       "<table border=\"1\" class=\"dataframe\">\n",
       "  <thead>\n",
       "    <tr style=\"text-align: right;\">\n",
       "      <th></th>\n",
       "      <th>AGLOMERADO_NOMBRE</th>\n",
       "      <th>CANTIDAD_AGLOMERADO</th>\n",
       "    </tr>\n",
       "  </thead>\n",
       "  <tbody>\n",
       "    <tr>\n",
       "      <th>0</th>\n",
       "      <td>Gran Córdoba</td>\n",
       "      <td>1888</td>\n",
       "    </tr>\n",
       "    <tr>\n",
       "      <th>1</th>\n",
       "      <td>Gran Rosario</td>\n",
       "      <td>1444</td>\n",
       "    </tr>\n",
       "    <tr>\n",
       "      <th>2</th>\n",
       "      <td>San Nicolás – Villa Constitución</td>\n",
       "      <td>1241</td>\n",
       "    </tr>\n",
       "    <tr>\n",
       "      <th>3</th>\n",
       "      <td>Gran Paraná</td>\n",
       "      <td>1188</td>\n",
       "    </tr>\n",
       "    <tr>\n",
       "      <th>4</th>\n",
       "      <td>Concordia</td>\n",
       "      <td>1049</td>\n",
       "    </tr>\n",
       "    <tr>\n",
       "      <th>5</th>\n",
       "      <td>Gran La Plata</td>\n",
       "      <td>1038</td>\n",
       "    </tr>\n",
       "    <tr>\n",
       "      <th>6</th>\n",
       "      <td>Gran Santa Fé</td>\n",
       "      <td>1026</td>\n",
       "    </tr>\n",
       "    <tr>\n",
       "      <th>7</th>\n",
       "      <td>Bahía Blanca - Cerri</td>\n",
       "      <td>803</td>\n",
       "    </tr>\n",
       "    <tr>\n",
       "      <th>8</th>\n",
       "      <td>Santa Rosa – Toay</td>\n",
       "      <td>803</td>\n",
       "    </tr>\n",
       "    <tr>\n",
       "      <th>9</th>\n",
       "      <td>Río Cuarto</td>\n",
       "      <td>724</td>\n",
       "    </tr>\n",
       "    <tr>\n",
       "      <th>10</th>\n",
       "      <td>Mar del Plata</td>\n",
       "      <td>700</td>\n",
       "    </tr>\n",
       "  </tbody>\n",
       "</table>\n",
       "</div>"
      ],
      "text/plain": [
       "                   AGLOMERADO_NOMBRE  CANTIDAD_AGLOMERADO\n",
       "0                       Gran Córdoba                 1888\n",
       "1                       Gran Rosario                 1444\n",
       "2   San Nicolás – Villa Constitución                 1241\n",
       "3                        Gran Paraná                 1188\n",
       "4                          Concordia                 1049\n",
       "5                      Gran La Plata                 1038\n",
       "6                      Gran Santa Fé                 1026\n",
       "7               Bahía Blanca - Cerri                  803\n",
       "8                  Santa Rosa – Toay                  803\n",
       "9                         Río Cuarto                  724\n",
       "10                     Mar del Plata                  700"
      ]
     },
     "execution_count": 111,
     "metadata": {},
     "output_type": "execute_result"
    }
   ],
   "source": [
    "hogares_personas[hogares_personas[\"ingreso\"]!=-9].merge(aglomerados, left_on=\"AGLOMERADO_x\", right_on=\"AGLOMERADO\")[\"AGLOMERADO_NOMBRE\"].value_counts().reset_index(name='CANTIDAD_AGLOMERADO')"
   ]
  },
  {
   "cell_type": "code",
   "execution_count": null,
   "id": "da79ddd6",
   "metadata": {},
   "outputs": [
    {
     "data": {
      "text/plain": [
       "[]"
      ]
     },
     "execution_count": 112,
     "metadata": {},
     "output_type": "execute_result"
    },
    {
     "data": {
      "image/png": "[encoded data removed]",
      "text/plain": [
       "<Figure size 640x480 with 1 Axes>"
      ]
     },
     "metadata": {},
     "output_type": "display_data"
    }
   ],
   "source": [
    "con_aglomerados = hogares_personas[hogares_personas[\"ingreso\"]!=-9].merge(aglomerados, left_on=\"AGLOMERADO_x\", right_on=\"AGLOMERADO\")\n",
    "con_aglomerados.loc[con_aglomerados[\"ingreso\"]>0, \"ingreso\"] = con_aglomerados[\"ingreso\"]/1000\n",
    "nombres = con_aglomerados[\"AGLOMERADO_NOMBRE\"].unique()\n",
    "# plotdata = [con_aglomerados[con_aglomerados[\"AGLOMERADO_NOMBRE\"]==nombre] for nombre in nombres if nombre ==\"Concordia\"]\n",
    "axes = con_aglomerados.boxplot(\"ingreso\", by=\"AGLOMERADO_NOMBRE\")\n",
    "fig = axes.get_figure()\n",
    "fig.suptitle('')\n",
    "\n",
    "plt.xticks(rotation=90)\n",
    "plt.title(\"Ingreso de la muestra por aglomerado\")\n",
    "plt.ylabel(\"Ingreso total individual en miles de pesos\")\n",
    "plt.xlabel(\"Aglomerado\")\n",
    "plt.plot()\n",
    "\n",
    "\n"
   ]
  },
  {
   "cell_type": "markdown",
   "id": "40955ac0",
   "metadata": {},
   "source": [
    "### Ingreso individual por aglomerado urbano\n",
    "\n",
    "Cada boxplot representa la variabilidad dentro de cada zona, incluyendo la mediana, los cuartiles y los valores atípicos.\n",
    "\n",
    "Se observa que **la mediana de ingresos es relativamente similar entre los distintos aglomerados**, lo cual indica que, en general, las condiciones económicas son similares en toda la región.\n",
    "\n",
    "Sin embargo, en todos los aglomerados hay una **gran dispersión** de ingresos y presencia de **valores extremos altos**, lo que es consistente con la asimetría observada previamente en la variable ingreso.\n",
    "\n",
    "Este análisis permite ver que **no hay un único aglomerado con ingresos claramente más altos o bajos**, aunque algunos como *Santa Rosa - Toay* y *Gran Rosario* presentan más casos con ingresos extremos elevados.\n",
    "\n",
    "\n"
   ]
  },
  {
   "cell_type": "markdown",
   "id": "71e61aed",
   "metadata": {},
   "source": [
    "### Análisis de Variables de Crédito"
   ]
  },
  {
   "cell_type": "code",
   "execution_count": null,
   "id": "46b2aab2",
   "metadata": {},
   "outputs": [
    {
     "data": {
      "image/png": "[encoded data removed]",
      "text/plain": [
       "<Figure size 640x480 with 1 Axes>"
      ]
     },
     "metadata": {},
     "output_type": "display_data"
    }
   ],
   "source": [
    "\n",
    "conteo_personales = hogares['prestamo_personas'].value_counts().sort_index()\n",
    "conteo_banco = hogares['prestamo_banco'].value_counts().sort_index()\n",
    "conteo_fiado = hogares['compra_cuotas'].value_counts().sort_index()\n",
    "\n",
    "conteo_personales = conteo_personales.reindex([1, 2], fill_value=0)\n",
    "conteo_banco = conteo_banco.reindex([1, 2], fill_value=0)\n",
    "conteo_fiado = conteo_fiado.reindex([1, 2], fill_value=0)\n",
    "\n",
    "categorias = ['Préstamos de conocidos', 'Préstamos banco', 'Fiado/Cuotas']\n",
    "si = [conteo_personales[1], conteo_banco[1], conteo_fiado[1]]\n",
    "no = [conteo_personales[2], conteo_banco[2], conteo_fiado[2]]\n",
    "\n",
    "x = np.arange(len(categorias))\n",
    "ancho = 0.35\n",
    "\n",
    "fig, ax = plt.subplots()\n",
    "barras_si = ax.bar(x - ancho/2, si, width=ancho, label='Sí', color='skyblue')\n",
    "barras_no = ax.bar(x + ancho/2, no, width=ancho, label='No', color='salmon')\n",
    "\n",
    "ax.set_ylabel('Cantidad de respuestas')\n",
    "ax.set_title('¿Usa pŕestamos de conocidos, bancarios, compra fiado o en cuotas?')\n",
    "ax.set_xticks(x)\n",
    "ax.set_xticklabels(categorias)\n",
    "ax.legend()\n",
    "\n",
    "for barra in barras_si + barras_no:\n",
    "    altura = barra.get_height()\n",
    "    ax.annotate(f'{altura}',\n",
    "                xy=(barra.get_x() + barra.get_width() / 2, altura),\n",
    "                xytext=(0, 3),\n",
    "                textcoords=\"offset points\",\n",
    "                ha='center', va='bottom')\n",
    "\n",
    "plt.tight_layout()"
   ]
  },
  {
   "cell_type": "markdown",
   "id": "e8392854",
   "metadata": {},
   "source": [
    "### Conclusiones del gráfico\n",
    "\n",
    "- **Préstamos de conocidos :** Solo el 13.7% de los hogares declaró usar este tipo de crédito informal.\n",
    "\n",
    "- **Préstamos bancarios:** Apenas el 11.3% de los hogares accede al crédito formal bancario. La gran mayoría no lo utiliza.\n",
    "\n",
    "- **Compras fiadas o en cuotas:** Esta práctica está más extendida: el 51% de los hogares respondió que sí lo hace..\n",
    "\n",
    "Esto indica que:\n",
    "\n",
    "- El acceso al crédito bancario es **muy bajo** en la muestra.\n",
    "\n",
    "- Los préstamos informales con personas también son poco frecuentes.\n",
    "\n",
    "- La forma más común de financiamiento es la compra **fiada o en cuotas**, que probablemente incluye tarjetas de crédito o creditos informales.\n",
    "\n",
    "La práctica más común es comprar fiado o en cuotas, lo que puede incluir desde pedir fiado en un comercio local hasta pagar en cuotas con tarjeta de crédito u otros mecanismos de financiación.\n",
    "\n",
    "Estas diferencias pueden estar relacionadas con el nivel de ingresos, el nivel educativo o la informalidad del trabajo, y podrían explorarse más adelante.\n",
    "\n",
    "Comentario de la profe:\n",
    "\n",
    "Cruzar con cuantos tienen ingresos y cuantos no.\n",
    "\n"
   ]
  }
 ],
 "metadata": {
  "kernelspec": {
   "display_name": "notebooks_kernel",
   "language": "python",
   "name": "notebooks_kernel"
  },
  "language_info": {
   "codemirror_mode": {
    "name": "ipython",
    "version": 3
   },
   "file_extension": ".py",
   "mimetype": "text/x-python",
   "name": "python",
   "nbconvert_exporter": "python",
   "pygments_lexer": "ipython3",
   "version": "3.9.2"
  }
 },
 "nbformat": 4,
 "nbformat_minor": 5
}
