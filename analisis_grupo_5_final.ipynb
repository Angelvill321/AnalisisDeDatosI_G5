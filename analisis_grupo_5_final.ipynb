{
 "cells": [
  {
   "cell_type": "markdown",
   "id": "6cb97dba",
   "metadata": {
    "notebookRunGroups": {
     "groupValue": "1"
    }
   },
   "source": [
    "### Problemática:\n",
    "\n",
    "**¿Qué factores personales y comportamentales se relacionan con los ingresos individuales en la región Pampeana?**\n",
    "Este análisis busca explorar variables como el sexo, la edad y el nivel educativo, así como ciertas prácticas financieras del hogar (pedir préstamos, comprar en cuotas o al fiado), se asocian con el nivel de ingreso declarado por las personas.\n",
    "Se trabaja sobre la region Pampeana, ya que es una region de intereses, dado que algunos participantes del grupo viven en la region y sirve para poder conocer ciertas caracteristicas de su zona.\n",
    "\n",
    "### Variables:\n",
    "Las variables a trabajar son:\n",
    "\n",
    "| Nombre Tabla  | Descripción                |\n",
    "|---------------|----------------------------|\n",
    "| P47T          | Ingreso total ind. (mes)   |\n",
    "| PONDII        | P47T ponderado no respuesta|\n",
    "| NIVEL_ED      | Nivel educativo alcanzado  |\n",
    "| CH04          | Sexo                       |\n",
    "| CH06          | Edad en años cumplidos     |\n",
    "| V14           | Piden préstamos a personas |\n",
    "| V15           | Piden préstamos a bancos   |\n",
    "| V16           | Compran en cuotas o fiado  |\n",
    "| ESTADO        | Condición de actividad     |\n",
    "\n",
    "### Población total y muestra:\n",
    "Este trabajo se basa en los datos provistos por la Encuesta Permanente de Hogares (EPH) correspondientes al tercer trimestre de 2024. Para este análisis se utilizaron tanto la base de datos de personas (individual) como la base de hogares, que fueron solapadas mediante el identificador común presente en ambas tablas (número de hogar y componente).\n",
    "La población total a la que pertenecen estos datos es la población residente en la República Argentina, de acuerdo a la cobertura de la EPH. Esta población incluye tanto a personas económicamente activas como inactivas, y contempla diversos niveles educativos, edades y situaciones familiares.\n",
    "\n",
    "Para el análisis se realizó un recorte geográfico, tomando únicamente los hogares y personas correspondientes a la región Pampeana, que abarca aglomerados urbanos en las provincias de Buenos Aires, Córdoba, Santa Fe, Entre Ríos y La Pampa. Elegimos esta región porque representa una parte muy importante de la población del país y tiene mucha variedad en cuanto a situaciones sociales y económicas. Esto nos permite analizar distintos casos dentro de una misma zona.\n",
    "\n",
    "La muestra analizada se compone de personas con ingresos individuales declarados, que además cuentan con información sobre sexo, edad, nivel educativo, y variables asociadas al comportamiento económico del hogar, como la compra en cuotas, al fiado, o el acceso a préstamos. Este enfoque permitió estudiar relaciones entre los ingresos individuales y diversas características sociodemográficas y de consumo dentro de la región Pampeana.\n",
    "\n",
    "### Clasificar las variables elegidas.\n",
    "|Columna  | Variable                  | Tipo de variable       | Fuente (tabla)    |\n",
    "|---------|---------------------------|------------------------|-------------------|\n",
    "|P47T     | Ingreso individual        | Cuantitativa continua  | Base individual   |\n",
    "|PONDII   | Ingreso ind. ponderado    | Cuantitativa continua  | Base individual   |\n",
    "|CH06     | Edad                      | Cuantitativa continua  | Base individual   |\n",
    "|CH04     | Sexo                      | Cualitativa            | Base individual   |\n",
    "|NIVEL_ED | Nivel educativo           | Cualitativa ordinal    | Base individual   |\n",
    "|ESTADO   | Estado actividad          | Cualitativa            | Base individual   |\n",
    "|V16      | Compra en cuotas o fiado  | Cualitativa            | Base de hogares   |\n",
    "|V15      | Préstamo banco            | Cualitativa            | Base de hogares   |\n",
    "|V14      | Préstamo personas         | Cualitativa            | Base de hogares   |\n",
    "\n",
    "### Diagrama de Tablas vs Variables Seleccionadas\n",
    "![Distribución de variables en Hogares y Personas](der.png)\n",
    "\n"
   ]
  },
  {
   "cell_type": "markdown",
   "id": "50fc64ec",
   "metadata": {},
   "source": [
    "### Carga de datos de las encuestas\n",
    "\n",
    "La clase EncuestaHogares realiza el cambio de las variables de la encuesta a nombres más intuitivos y mantiene sólo las columnas enumeradas previamente."
   ]
  },
  {
   "cell_type": "code",
   "execution_count": 103,
   "id": "dc96acf9",
   "metadata": {},
   "outputs": [],
   "source": [
    "from hogares import EncuestaHogares\n",
    "\n",
    "encuesta = EncuestaHogares(\"usu_hogar_T324.xlsx\", \"usu_individual_T324.xlsx\")\n",
    "hogares, personas = encuesta.memoria()"
   ]
  },
  {
   "cell_type": "markdown",
   "id": "547c1c1f",
   "metadata": {},
   "source": [
    "##### Configuración de dependencias"
   ]
  },
  {
   "cell_type": "code",
   "execution_count": 168,
   "id": "4bd04e7d",
   "metadata": {},
   "outputs": [],
   "source": [
    "import pandas as pd\n",
    "import matplotlib.pyplot as plt\n",
    "import numpy as np\n",
    "import seaborn as sns\n",
    "%matplotlib inline  "
   ]
  },
  {
   "cell_type": "markdown",
   "id": "9ef3ed28",
   "metadata": {},
   "source": [
    "Como se va a trabajar sobre la región Pampeana (Número 43) se filtra todas las filas que cumplan esa valor."
   ]
  },
  {
   "cell_type": "code",
   "execution_count": 51,
   "id": "7476ce88",
   "metadata": {},
   "outputs": [],
   "source": [
    "hogares_fil_pam, personas_fil_pam  = encuesta.filtrados_por_region(43, hogares, personas)"
   ]
  },
  {
   "cell_type": "code",
   "execution_count": 106,
   "id": "4ce2cb6a",
   "metadata": {},
   "outputs": [
    {
     "name": "stdout",
     "output_type": "stream",
     "text": [
      "Longitud Tabla Personas: 47564\n",
      "Longitud Tabla Personas Filtrada: 14315\n",
      "Reducción 0.7\n"
     ]
    }
   ],
   "source": [
    "print(\"Longitud Tabla Personas:\", len(personas))\n",
    "print(\"Longitud Tabla Personas Filtrada:\", len(personas_fil_pam))\n",
    "print(\"Reducción\", round((len(personas)-len(personas_fil_pam))/len(personas), 2))"
   ]
  },
  {
   "cell_type": "markdown",
   "id": "ed60bd26",
   "metadata": {},
   "source": [
    "Se redujo el total de la tabla personas a un 30%.\n",
    "Ahora se va a filtrar las columnas (variables) a trabajar:"
   ]
  },
  {
   "cell_type": "code",
   "execution_count": 107,
   "id": "dc57708d",
   "metadata": {},
   "outputs": [
    {
     "data": {
      "text/html": [
       "<div>\n",
       "<style scoped>\n",
       "    .dataframe tbody tr th:only-of-type {\n",
       "        vertical-align: middle;\n",
       "    }\n",
       "\n",
       "    .dataframe tbody tr th {\n",
       "        vertical-align: top;\n",
       "    }\n",
       "\n",
       "    .dataframe thead th {\n",
       "        text-align: right;\n",
       "    }\n",
       "</style>\n",
       "<table border=\"1\" class=\"dataframe\">\n",
       "  <thead>\n",
       "    <tr style=\"text-align: right;\">\n",
       "      <th></th>\n",
       "      <th>sexo</th>\n",
       "      <th>edad</th>\n",
       "      <th>ingreso</th>\n",
       "      <th>ingreso_ponderado</th>\n",
       "      <th>nivel_educativo</th>\n",
       "      <th>estado_actividad</th>\n",
       "      <th>id_vivienda</th>\n",
       "      <th>id_hogar</th>\n",
       "      <th>region</th>\n",
       "    </tr>\n",
       "  </thead>\n",
       "  <tbody>\n",
       "    <tr>\n",
       "      <th>0</th>\n",
       "      <td>2</td>\n",
       "      <td>33</td>\n",
       "      <td>-9.0</td>\n",
       "      <td>0</td>\n",
       "      <td>6</td>\n",
       "      <td>1</td>\n",
       "      <td>TQRMNOPTVHLOKRCDEFJAH00803557</td>\n",
       "      <td>1</td>\n",
       "      <td>43</td>\n",
       "    </tr>\n",
       "    <tr>\n",
       "      <th>1</th>\n",
       "      <td>1</td>\n",
       "      <td>33</td>\n",
       "      <td>-9.0</td>\n",
       "      <td>0</td>\n",
       "      <td>6</td>\n",
       "      <td>1</td>\n",
       "      <td>TQRMNOPTVHLOKRCDEFJAH00803557</td>\n",
       "      <td>1</td>\n",
       "      <td>43</td>\n",
       "    </tr>\n",
       "    <tr>\n",
       "      <th>2</th>\n",
       "      <td>1</td>\n",
       "      <td>81</td>\n",
       "      <td>1750000.0</td>\n",
       "      <td>401</td>\n",
       "      <td>6</td>\n",
       "      <td>1</td>\n",
       "      <td>TQRMNOQPRHKLKNCDEFJAH00868631</td>\n",
       "      <td>1</td>\n",
       "      <td>43</td>\n",
       "    </tr>\n",
       "    <tr>\n",
       "      <th>3</th>\n",
       "      <td>2</td>\n",
       "      <td>78</td>\n",
       "      <td>400000.0</td>\n",
       "      <td>354</td>\n",
       "      <td>6</td>\n",
       "      <td>3</td>\n",
       "      <td>TQRMNOQPRHKLKNCDEFJAH00868631</td>\n",
       "      <td>1</td>\n",
       "      <td>43</td>\n",
       "    </tr>\n",
       "    <tr>\n",
       "      <th>4</th>\n",
       "      <td>1</td>\n",
       "      <td>65</td>\n",
       "      <td>1200000.0</td>\n",
       "      <td>328</td>\n",
       "      <td>4</td>\n",
       "      <td>1</td>\n",
       "      <td>TQRMNORVXHKLKNCDEFJAH00868632</td>\n",
       "      <td>1</td>\n",
       "      <td>43</td>\n",
       "    </tr>\n",
       "  </tbody>\n",
       "</table>\n",
       "</div>"
      ],
      "text/plain": [
       "   sexo  edad    ingreso  ingreso_ponderado  nivel_educativo  \\\n",
       "0     2    33       -9.0                  0                6   \n",
       "1     1    33       -9.0                  0                6   \n",
       "2     1    81  1750000.0                401                6   \n",
       "3     2    78   400000.0                354                6   \n",
       "4     1    65  1200000.0                328                4   \n",
       "\n",
       "   estado_actividad                    id_vivienda  id_hogar  region  \n",
       "0                 1  TQRMNOPTVHLOKRCDEFJAH00803557         1      43  \n",
       "1                 1  TQRMNOPTVHLOKRCDEFJAH00803557         1      43  \n",
       "2                 1  TQRMNOQPRHKLKNCDEFJAH00868631         1      43  \n",
       "3                 3  TQRMNOQPRHKLKNCDEFJAH00868631         1      43  \n",
       "4                 1  TQRMNORVXHKLKNCDEFJAH00868632         1      43  "
      ]
     },
     "execution_count": 107,
     "metadata": {},
     "output_type": "execute_result"
    }
   ],
   "source": [
    "hogares_fil_pam, personas_fil_pam = encuesta.subconjunto_columnas(hogares_fil_pam, personas_fil_pam)\n",
    "personas_fil_pam.head()"
   ]
  },
  {
   "cell_type": "code",
   "execution_count": 108,
   "id": "a3342f78",
   "metadata": {},
   "outputs": [
    {
     "data": {
      "text/plain": [
       "sexo                  0\n",
       "edad                  0\n",
       "ingreso              15\n",
       "ingreso_ponderado     0\n",
       "nivel_educativo       0\n",
       "estado_actividad      0\n",
       "id_vivienda           0\n",
       "id_hogar              0\n",
       "region                0\n",
       "dtype: int64"
      ]
     },
     "execution_count": 108,
     "metadata": {},
     "output_type": "execute_result"
    }
   ],
   "source": [
    "personas_fil_pam.isnull().sum()"
   ]
  },
  {
   "cell_type": "markdown",
   "id": "0e83cdc9",
   "metadata": {},
   "source": [
    "Encontramos que en la columna de **Ingreso** hay 15 filas nulas. Sobre la variable de ingresos. Analizando filtramos las filas con valores nulos."
   ]
  },
  {
   "cell_type": "code",
   "execution_count": 109,
   "id": "774af0c7",
   "metadata": {},
   "outputs": [
    {
     "data": {
      "text/html": [
       "<div>\n",
       "<style scoped>\n",
       "    .dataframe tbody tr th:only-of-type {\n",
       "        vertical-align: middle;\n",
       "    }\n",
       "\n",
       "    .dataframe tbody tr th {\n",
       "        vertical-align: top;\n",
       "    }\n",
       "\n",
       "    .dataframe thead th {\n",
       "        text-align: right;\n",
       "    }\n",
       "</style>\n",
       "<table border=\"1\" class=\"dataframe\">\n",
       "  <thead>\n",
       "    <tr style=\"text-align: right;\">\n",
       "      <th></th>\n",
       "      <th>id_vivienda</th>\n",
       "      <th>id_hogar</th>\n",
       "      <th>sexo</th>\n",
       "      <th>edad</th>\n",
       "      <th>ingreso</th>\n",
       "      <th>nivel_educativo</th>\n",
       "      <th>estado_actividad</th>\n",
       "      <th>region</th>\n",
       "    </tr>\n",
       "  </thead>\n",
       "  <tbody>\n",
       "    <tr>\n",
       "      <th>731</th>\n",
       "      <td>TQRMNOPYWHKMKMCDEFMDB00868439</td>\n",
       "      <td>1</td>\n",
       "      <td>2</td>\n",
       "      <td>56</td>\n",
       "      <td>NaN</td>\n",
       "      <td>4</td>\n",
       "      <td>0</td>\n",
       "      <td>43</td>\n",
       "    </tr>\n",
       "    <tr>\n",
       "      <th>4159</th>\n",
       "      <td>TQRMNOQRWHLNLPCDEIKAH00807963</td>\n",
       "      <td>1</td>\n",
       "      <td>1</td>\n",
       "      <td>53</td>\n",
       "      <td>NaN</td>\n",
       "      <td>2</td>\n",
       "      <td>0</td>\n",
       "      <td>43</td>\n",
       "    </tr>\n",
       "    <tr>\n",
       "      <th>5439</th>\n",
       "      <td>TQRMNOPRTHJOLSCDEFKID00862865</td>\n",
       "      <td>1</td>\n",
       "      <td>1</td>\n",
       "      <td>16</td>\n",
       "      <td>NaN</td>\n",
       "      <td>3</td>\n",
       "      <td>0</td>\n",
       "      <td>43</td>\n",
       "    </tr>\n",
       "    <tr>\n",
       "      <th>17606</th>\n",
       "      <td>TQRMNORXRHMNKMCDEFIAH00870738</td>\n",
       "      <td>1</td>\n",
       "      <td>1</td>\n",
       "      <td>56</td>\n",
       "      <td>NaN</td>\n",
       "      <td>4</td>\n",
       "      <td>0</td>\n",
       "      <td>43</td>\n",
       "    </tr>\n",
       "    <tr>\n",
       "      <th>19213</th>\n",
       "      <td>TQRMNOPXUHLKKRCDEFMDB00804085</td>\n",
       "      <td>1</td>\n",
       "      <td>1</td>\n",
       "      <td>37</td>\n",
       "      <td>NaN</td>\n",
       "      <td>4</td>\n",
       "      <td>0</td>\n",
       "      <td>43</td>\n",
       "    </tr>\n",
       "    <tr>\n",
       "      <th>19214</th>\n",
       "      <td>TQRMNOPXUHLKKRCDEFMDB00804085</td>\n",
       "      <td>1</td>\n",
       "      <td>2</td>\n",
       "      <td>39</td>\n",
       "      <td>NaN</td>\n",
       "      <td>6</td>\n",
       "      <td>0</td>\n",
       "      <td>43</td>\n",
       "    </tr>\n",
       "    <tr>\n",
       "      <th>21233</th>\n",
       "      <td>TQRMNOQVVHLMKTCDEGKDB00805043</td>\n",
       "      <td>2</td>\n",
       "      <td>1</td>\n",
       "      <td>41</td>\n",
       "      <td>NaN</td>\n",
       "      <td>4</td>\n",
       "      <td>0</td>\n",
       "      <td>43</td>\n",
       "    </tr>\n",
       "    <tr>\n",
       "      <th>25056</th>\n",
       "      <td>TQRMNOSSUHJKKTCDEFKID00870296</td>\n",
       "      <td>1</td>\n",
       "      <td>1</td>\n",
       "      <td>41</td>\n",
       "      <td>NaN</td>\n",
       "      <td>4</td>\n",
       "      <td>0</td>\n",
       "      <td>43</td>\n",
       "    </tr>\n",
       "    <tr>\n",
       "      <th>25057</th>\n",
       "      <td>TQRMNOSSUHJKKTCDEFKID00870296</td>\n",
       "      <td>1</td>\n",
       "      <td>2</td>\n",
       "      <td>35</td>\n",
       "      <td>NaN</td>\n",
       "      <td>6</td>\n",
       "      <td>0</td>\n",
       "      <td>43</td>\n",
       "    </tr>\n",
       "    <tr>\n",
       "      <th>39376</th>\n",
       "      <td>TQRMNOQPVHKNLQCDEFMDB00871976</td>\n",
       "      <td>1</td>\n",
       "      <td>1</td>\n",
       "      <td>45</td>\n",
       "      <td>NaN</td>\n",
       "      <td>4</td>\n",
       "      <td>0</td>\n",
       "      <td>43</td>\n",
       "    </tr>\n",
       "    <tr>\n",
       "      <th>39377</th>\n",
       "      <td>TQRMNOQPVHKNLQCDEFMDB00871976</td>\n",
       "      <td>1</td>\n",
       "      <td>1</td>\n",
       "      <td>54</td>\n",
       "      <td>NaN</td>\n",
       "      <td>3</td>\n",
       "      <td>0</td>\n",
       "      <td>43</td>\n",
       "    </tr>\n",
       "    <tr>\n",
       "      <th>41842</th>\n",
       "      <td>TQRMNOPXXHJMKMCDEFIAH00866329</td>\n",
       "      <td>1</td>\n",
       "      <td>1</td>\n",
       "      <td>28</td>\n",
       "      <td>NaN</td>\n",
       "      <td>5</td>\n",
       "      <td>0</td>\n",
       "      <td>43</td>\n",
       "    </tr>\n",
       "    <tr>\n",
       "      <th>41844</th>\n",
       "      <td>TQRMNOPXXHJMKMCDEFIAH00866329</td>\n",
       "      <td>1</td>\n",
       "      <td>1</td>\n",
       "      <td>51</td>\n",
       "      <td>NaN</td>\n",
       "      <td>4</td>\n",
       "      <td>0</td>\n",
       "      <td>43</td>\n",
       "    </tr>\n",
       "    <tr>\n",
       "      <th>43813</th>\n",
       "      <td>TQRMNOPPTHJOLOCDEFKID00864753</td>\n",
       "      <td>1</td>\n",
       "      <td>1</td>\n",
       "      <td>47</td>\n",
       "      <td>NaN</td>\n",
       "      <td>4</td>\n",
       "      <td>0</td>\n",
       "      <td>43</td>\n",
       "    </tr>\n",
       "    <tr>\n",
       "      <th>45040</th>\n",
       "      <td>TQRMNOQRXHLMKPCDEIGED00865851</td>\n",
       "      <td>1</td>\n",
       "      <td>1</td>\n",
       "      <td>67</td>\n",
       "      <td>NaN</td>\n",
       "      <td>4</td>\n",
       "      <td>0</td>\n",
       "      <td>43</td>\n",
       "    </tr>\n",
       "  </tbody>\n",
       "</table>\n",
       "</div>"
      ],
      "text/plain": [
       "                         id_vivienda  id_hogar  sexo  edad  ingreso  \\\n",
       "731    TQRMNOPYWHKMKMCDEFMDB00868439         1     2    56      NaN   \n",
       "4159   TQRMNOQRWHLNLPCDEIKAH00807963         1     1    53      NaN   \n",
       "5439   TQRMNOPRTHJOLSCDEFKID00862865         1     1    16      NaN   \n",
       "17606  TQRMNORXRHMNKMCDEFIAH00870738         1     1    56      NaN   \n",
       "19213  TQRMNOPXUHLKKRCDEFMDB00804085         1     1    37      NaN   \n",
       "19214  TQRMNOPXUHLKKRCDEFMDB00804085         1     2    39      NaN   \n",
       "21233  TQRMNOQVVHLMKTCDEGKDB00805043         2     1    41      NaN   \n",
       "25056  TQRMNOSSUHJKKTCDEFKID00870296         1     1    41      NaN   \n",
       "25057  TQRMNOSSUHJKKTCDEFKID00870296         1     2    35      NaN   \n",
       "39376  TQRMNOQPVHKNLQCDEFMDB00871976         1     1    45      NaN   \n",
       "39377  TQRMNOQPVHKNLQCDEFMDB00871976         1     1    54      NaN   \n",
       "41842  TQRMNOPXXHJMKMCDEFIAH00866329         1     1    28      NaN   \n",
       "41844  TQRMNOPXXHJMKMCDEFIAH00866329         1     1    51      NaN   \n",
       "43813  TQRMNOPPTHJOLOCDEFKID00864753         1     1    47      NaN   \n",
       "45040  TQRMNOQRXHLMKPCDEIGED00865851         1     1    67      NaN   \n",
       "\n",
       "       nivel_educativo  estado_actividad  region  \n",
       "731                  4                 0      43  \n",
       "4159                 2                 0      43  \n",
       "5439                 3                 0      43  \n",
       "17606                4                 0      43  \n",
       "19213                4                 0      43  \n",
       "19214                6                 0      43  \n",
       "21233                4                 0      43  \n",
       "25056                4                 0      43  \n",
       "25057                6                 0      43  \n",
       "39376                4                 0      43  \n",
       "39377                3                 0      43  \n",
       "41842                5                 0      43  \n",
       "41844                4                 0      43  \n",
       "43813                4                 0      43  \n",
       "45040                4                 0      43  "
      ]
     },
     "execution_count": 109,
     "metadata": {},
     "output_type": "execute_result"
    }
   ],
   "source": [
    "personasnulos = personas_fil[personas_fil.isnull().any(axis=1)]\n",
    "personasnulos"
   ]
  },
  {
   "cell_type": "markdown",
   "id": "bb61d280",
   "metadata": {},
   "source": [
    "Podemos observar que corresponde a que la encuesta NO HA SIDO RESPONDIDA (Codigo de Estado \"0\"). Por lo que proponemos dado que casi todos los datos (14/15) son mayores de edad, promediar el valor de ingreso mensual para completar los campos nulos a fin de poder utilizar los datos sin que afecte las medias muestrales."
   ]
  },
  {
   "cell_type": "code",
   "execution_count": 110,
   "id": "273a08fb",
   "metadata": {},
   "outputs": [
    {
     "name": "stderr",
     "output_type": "stream",
     "text": [
      "C:\\Users\\angel\\AppData\\Local\\Temp\\ipykernel_6380\\4078023206.py:2: SettingWithCopyWarning: \n",
      "A value is trying to be set on a copy of a slice from a DataFrame.\n",
      "Try using .loc[row_indexer,col_indexer] = value instead\n",
      "\n",
      "See the caveats in the documentation: https://pandas.pydata.org/pandas-docs/stable/user_guide/indexing.html#returning-a-view-versus-a-copy\n",
      "  personas_fil.loc[:, 'ingreso'] = personas_fil['ingreso'].fillna(promedio_ingresos)\n"
     ]
    }
   ],
   "source": [
    "promedio_ingresos = personas_fil['ingreso'].mean()\n",
    "personas_fil.loc[:, 'ingreso'] = personas_fil['ingreso'].fillna(promedio_ingresos)"
   ]
  },
  {
   "cell_type": "markdown",
   "id": "a338d2d8",
   "metadata": {},
   "source": [
    "Hacemos un resumen rápido estádistico."
   ]
  },
  {
   "cell_type": "code",
<<<<<<< HEAD
   "execution_count": 11,
=======
   "execution_count": 111,
>>>>>>> origin/main
   "id": "b61b5988",
   "metadata": {},
   "outputs": [
    {
     "data": {
      "text/html": [
       "<div>\n",
       "<style scoped>\n",
       "    .dataframe tbody tr th:only-of-type {\n",
       "        vertical-align: middle;\n",
       "    }\n",
       "\n",
       "    .dataframe tbody tr th {\n",
       "        vertical-align: top;\n",
       "    }\n",
       "\n",
       "    .dataframe thead th {\n",
       "        text-align: right;\n",
       "    }\n",
       "</style>\n",
       "<table border=\"1\" class=\"dataframe\">\n",
       "  <thead>\n",
       "    <tr style=\"text-align: right;\">\n",
       "      <th></th>\n",
       "      <th>sexo</th>\n",
       "      <th>edad</th>\n",
       "      <th>ingreso</th>\n",
       "      <th>ingreso_ponderado</th>\n",
       "      <th>nivel_educativo</th>\n",
       "      <th>estado_actividad</th>\n",
       "      <th>id_hogar</th>\n",
       "      <th>region</th>\n",
       "    </tr>\n",
       "  </thead>\n",
       "  <tbody>\n",
       "    <tr>\n",
       "      <th>count</th>\n",
       "      <td>14315.000000</td>\n",
       "      <td>14315.000000</td>\n",
<<<<<<< HEAD
       "      <td>1.430000e+04</td>\n",
=======
       "      <td>14315.000000</td>\n",
       "      <td>1.431500e+04</td>\n",
>>>>>>> origin/main
       "      <td>14315.000000</td>\n",
       "      <td>14315.000000</td>\n",
       "      <td>14315.000000</td>\n",
       "      <td>14315.000000</td>\n",
       "      <td>14315.0</td>\n",
       "    </tr>\n",
       "    <tr>\n",
       "      <th>mean</th>\n",
       "      <td>1.519246</td>\n",
       "      <td>37.258819</td>\n",
       "      <td>2.953922e+05</td>\n",
       "      <td>446.871463</td>\n",
       "      <td>3.748795</td>\n",
       "      <td>2.182676</td>\n",
       "      <td>1.028222</td>\n",
       "      <td>43.0</td>\n",
       "    </tr>\n",
       "    <tr>\n",
       "      <th>std</th>\n",
       "      <td>0.499647</td>\n",
<<<<<<< HEAD
       "      <td>22.394482</td>\n",
       "      <td>4.934719e+05</td>\n",
       "      <td>427.386068</td>\n",
=======
       "      <td>22.382583</td>\n",
       "      <td>4.932133e+05</td>\n",
>>>>>>> origin/main
       "      <td>1.774382</td>\n",
       "      <td>1.129003</td>\n",
       "      <td>0.175046</td>\n",
       "      <td>0.0</td>\n",
       "    </tr>\n",
       "    <tr>\n",
       "      <th>min</th>\n",
       "      <td>1.000000</td>\n",
<<<<<<< HEAD
       "      <td>-1.000000</td>\n",
=======
       "      <td>1.000000</td>\n",
       "      <td>0.000000</td>\n",
>>>>>>> origin/main
       "      <td>-9.000000e+00</td>\n",
       "      <td>0.000000</td>\n",
       "      <td>1.000000</td>\n",
       "      <td>0.000000</td>\n",
       "      <td>1.000000</td>\n",
       "      <td>43.0</td>\n",
       "    </tr>\n",
       "    <tr>\n",
       "      <th>25%</th>\n",
       "      <td>1.000000</td>\n",
       "      <td>18.000000</td>\n",
       "      <td>0.000000e+00</td>\n",
       "      <td>129.000000</td>\n",
       "      <td>2.000000</td>\n",
       "      <td>1.000000</td>\n",
       "      <td>1.000000</td>\n",
       "      <td>43.0</td>\n",
       "    </tr>\n",
       "    <tr>\n",
       "      <th>50%</th>\n",
       "      <td>2.000000</td>\n",
       "      <td>35.000000</td>\n",
       "      <td>0.000000e+00</td>\n",
       "      <td>287.000000</td>\n",
       "      <td>4.000000</td>\n",
       "      <td>3.000000</td>\n",
       "      <td>1.000000</td>\n",
       "      <td>43.0</td>\n",
       "    </tr>\n",
       "    <tr>\n",
       "      <th>75%</th>\n",
       "      <td>2.000000</td>\n",
       "      <td>55.000000</td>\n",
       "      <td>4.300000e+05</td>\n",
       "      <td>727.000000</td>\n",
       "      <td>5.000000</td>\n",
       "      <td>3.000000</td>\n",
       "      <td>1.000000</td>\n",
       "      <td>43.0</td>\n",
       "    </tr>\n",
       "    <tr>\n",
       "      <th>max</th>\n",
       "      <td>2.000000</td>\n",
       "      <td>102.000000</td>\n",
       "      <td>1.237000e+07</td>\n",
       "      <td>5962.000000</td>\n",
       "      <td>7.000000</td>\n",
       "      <td>4.000000</td>\n",
       "      <td>4.000000</td>\n",
       "      <td>43.0</td>\n",
       "    </tr>\n",
       "  </tbody>\n",
       "</table>\n",
       "</div>"
      ],
      "text/plain": [
<<<<<<< HEAD
       "               sexo          edad       ingreso  ingreso_ponderado  \\\n",
       "count  14315.000000  14315.000000  1.430000e+04       14315.000000   \n",
       "mean       1.519246     37.251764  2.953922e+05         446.871463   \n",
       "std        0.499647     22.394482  4.934719e+05         427.386068   \n",
       "min        1.000000     -1.000000 -9.000000e+00           0.000000   \n",
       "25%        1.000000     18.000000  0.000000e+00         129.000000   \n",
       "50%        2.000000     35.000000  0.000000e+00         287.000000   \n",
       "75%        2.000000     55.000000  4.300000e+05         727.000000   \n",
       "max        2.000000    102.000000  1.237000e+07        5962.000000   \n",
=======
       "           id_hogar          sexo          edad       ingreso  \\\n",
       "count  14315.000000  14315.000000  14315.000000  1.431500e+04   \n",
       "mean       1.028222      1.519246     37.258819  2.953922e+05   \n",
       "std        0.175046      0.499647     22.382583  4.932133e+05   \n",
       "min        1.000000      1.000000      0.000000 -9.000000e+00   \n",
       "25%        1.000000      1.000000     18.000000  0.000000e+00   \n",
       "50%        1.000000      2.000000     35.000000  0.000000e+00   \n",
       "75%        1.000000      2.000000     55.000000  4.300000e+05   \n",
       "max        4.000000      2.000000    102.000000  1.237000e+07   \n",
>>>>>>> origin/main
       "\n",
       "       nivel_educativo  estado_actividad      id_hogar   region  \n",
       "count     14315.000000      14315.000000  14315.000000  14315.0  \n",
       "mean          3.748795          2.182676      1.028222     43.0  \n",
       "std           1.774382          1.129003      0.175046      0.0  \n",
       "min           1.000000          0.000000      1.000000     43.0  \n",
       "25%           2.000000          1.000000      1.000000     43.0  \n",
       "50%           4.000000          3.000000      1.000000     43.0  \n",
       "75%           5.000000          3.000000      1.000000     43.0  \n",
       "max           7.000000          4.000000      4.000000     43.0  "
      ]
     },
<<<<<<< HEAD
     "execution_count": 11,
=======
     "execution_count": 111,
>>>>>>> origin/main
     "metadata": {},
     "output_type": "execute_result"
    }
   ],
   "source": [
    "personas_fil_pam.describe()"
   ]
  },
  {
   "cell_type": "markdown",
   "id": "66a298af",
   "metadata": {},
   "source": [
    "Hay un minimo de edad de -1 que no es lógico, y de ingresos -9. Y máximos en ingresos mensual marca como maximo $12.370.000 (puede ser correcto).\n",
    "Viendo el comentario:\n",
    "\n",
    "### Comentario General\n",
    "![Observaciones Comentario](ComentarioGeneral.jpg)"
   ]
  },
  {
   "cell_type": "markdown",
   "id": "fe6f1ac0",
   "metadata": {},
   "source": [
    "Si bien no está explicado, el valor -1 de edad corresponde a edades menores a un año. Analizamos los valores de esas fechas:"
   ]
  },
  {
   "cell_type": "code",
<<<<<<< HEAD
   "execution_count": 12,
=======
   "execution_count": 124,
   "id": "c4342f6d",
   "metadata": {},
   "outputs": [
    {
     "name": "stderr",
     "output_type": "stream",
     "text": [
      "C:\\Users\\angel\\AppData\\Local\\Temp\\ipykernel_6380\\3306751936.py:2: FutureWarning: In a future version, `df.iloc[:, i] = newvals` will attempt to set the values inplace instead of always setting a new array. To retain the old behavior, use either `df[df.columns[i]] = newvals` or, if columns are non-unique, `df.isetitem(i, newvals)`\n",
      "  personas_fil_pam.loc[:, 'CH05'] = pd.to_datetime(personas_fil_pam['CH05'], errors='coerce')\n"
     ]
    }
   ],
   "source": [
    "personas_fil_pam = personas_fil_pam.copy()\n",
    "personas_fil_pam.loc[:, 'CH05'] = pd.to_datetime(personas_fil_pam['CH05'], errors='coerce')\n",
    "personas_fil_pam_ordenada = personas_fil_pam.sort_values(by='CH05')"
   ]
  },
  {
   "cell_type": "code",
   "execution_count": 125,
   "id": "a0d843c2",
   "metadata": {},
   "outputs": [
    {
     "data": {
      "text/html": [
       "<div>\n",
       "<style scoped>\n",
       "    .dataframe tbody tr th:only-of-type {\n",
       "        vertical-align: middle;\n",
       "    }\n",
       "\n",
       "    .dataframe tbody tr th {\n",
       "        vertical-align: top;\n",
       "    }\n",
       "\n",
       "    .dataframe thead th {\n",
       "        text-align: right;\n",
       "    }\n",
       "</style>\n",
       "<table border=\"1\" class=\"dataframe\">\n",
       "  <thead>\n",
       "    <tr style=\"text-align: right;\">\n",
       "      <th></th>\n",
       "      <th>CH05</th>\n",
       "      <th>edad</th>\n",
       "      <th>ingreso</th>\n",
       "    </tr>\n",
       "  </thead>\n",
       "  <tbody>\n",
       "  </tbody>\n",
       "</table>\n",
       "</div>"
      ],
      "text/plain": [
       "Empty DataFrame\n",
       "Columns: [CH05, edad, ingreso]\n",
       "Index: []"
      ]
     },
     "execution_count": 125,
     "metadata": {},
     "output_type": "execute_result"
    }
   ],
   "source": [
    "filas_edad = personas_fil_pam_ordenada[personas_fil_pam_ordenada['edad'] == -1]\n",
    "filas_edad = filas_edad[['CH05', 'edad', 'ingreso']]\n",
    "filas_edad"
   ]
  },
  {
   "cell_type": "code",
   "execution_count": 126,
   "id": "7722725b",
   "metadata": {},
   "outputs": [
    {
     "data": {
      "text/plain": [
       "Series([], Name: ingreso, dtype: int64)"
      ]
     },
     "execution_count": 126,
     "metadata": {},
     "output_type": "execute_result"
    }
   ],
   "source": [
    "filas_edad['ingreso'].value_counts()"
   ]
  },
  {
   "cell_type": "code",
   "execution_count": 127,
   "id": "ee35f8c8",
   "metadata": {},
   "outputs": [
    {
     "name": "stdout",
     "output_type": "stream",
     "text": [
      "Cantidad de filas con '1900-01-01': 0\n"
     ]
    }
   ],
   "source": [
    "filas_1900 = filas_edad[filas_edad['CH05'] == '1900-01-01']\n",
    "cantidad_filas_1900 = len(filas_1900)\n",
    "print(f\"Cantidad de filas con '1900-01-01': {cantidad_filas_1900}\")"
   ]
  },
  {
   "cell_type": "markdown",
   "id": "18a65f8d",
   "metadata": {},
   "source": [
    "Hay 21 filas que tienen como fecha \"1900-01-01\" y representan el 20% de los valores \"-1\" y estos representan casi el 0,14% de los datos totales de la muestra. Entendemos que se debe a un error y como no tienen ingresos declarados en las 101 filas, entendemos que no son parte del analisis del trabajo, por lo que se no trabajara con las filas que tengan ingreso igual a cero."
   ]
  },
  {
   "cell_type": "code",
   "execution_count": 128,
   "id": "bceb12e6",
   "metadata": {},
   "outputs": [
    {
     "name": "stdout",
     "output_type": "stream",
     "text": [
      "Cantidad de filas con ingresos igual a cero: 4761\n"
     ]
    }
   ],
   "source": [
    "personas_sin_ingresos = personas_fil[personas_fil['ingreso'] == 0]\n",
    "print('Cantidad de filas con ingresos igual a cero:', len(personas_sin_ingresos))"
   ]
  },
  {
   "cell_type": "markdown",
   "id": "6783f5cf",
   "metadata": {},
   "source": [
    "Analizamos los datos -9 como no respondidos:"
   ]
  },
  {
   "cell_type": "code",
   "execution_count": 129,
   "id": "abadeda2",
   "metadata": {},
   "outputs": [
    {
     "name": "stdout",
     "output_type": "stream",
     "text": [
      "cantidad de filas con ingresos -9: 2411\n"
     ]
    }
   ],
   "source": [
    "filas_cod9 = personas_fil[personas_fil['ingreso'] == -9]\n",
    "print('cantidad de filas con ingresos -9:', len(filas_cod9))"
   ]
  },
  {
   "cell_type": "markdown",
   "id": "4b86b32d",
   "metadata": {},
   "source": [
    "**** COMPLETAMOS LOS -9 CON EL PROMEDIO COMO LOS DATOS NULOS? ELIMINAMOS LOS INGRESOS IGUAL A CERO?"
   ]
  },
  {
   "cell_type": "code",
   "execution_count": 146,
>>>>>>> origin/main
   "id": "45d16ea1",
   "metadata": {},
   "outputs": [
    {
     "name": "stdout",
     "output_type": "stream",
     "text": [
      "Longitud Tabla Hogares: 16650\n",
      "Longitud Tabla Hogares Filtrada: 5410\n",
      "Reducción 0.68\n"
     ]
    }
   ],
   "source": [
    "print(\"Longitud Tabla Hogares:\", len(hogares))\n",
    "print(\"Longitud Tabla Hogares Filtrada:\", len(hogares_fil_pam))\n",
    "print(\"Reducción\", round((len(hogares)-len(hogares_fil_pam))/len(hogares), 2))"
   ]
  },
  {
   "cell_type": "markdown",
   "id": "e8b86a4e",
   "metadata": {},
   "source": [
    "Se redujo el total de la tabla personas a un 32%. Se tabaja sobre las variables de interés. Como las planillas se conectan con la columna \"CODUSU\" que es el Código para distinguir viviendas, permite aparearlas con Hogares y Personas."
   ]
  },
  {
   "cell_type": "code",
<<<<<<< HEAD
   "execution_count": 13,
=======
   "execution_count": 147,
   "id": "e17fdcbf",
   "metadata": {},
   "outputs": [],
   "source": [
    "hogares_fil = hogares_fil_pam[['id_vivienda', 'id_hogar', 'region', 'prestamo_personas', 'prestamo_banco', 'compra_cuotas']]\n"
   ]
  },
  {
   "cell_type": "code",
   "execution_count": 148,
>>>>>>> origin/main
   "id": "c3179bfd",
   "metadata": {},
   "outputs": [
    {
     "data": {
      "text/html": [
       "<div>\n",
       "<style scoped>\n",
       "    .dataframe tbody tr th:only-of-type {\n",
       "        vertical-align: middle;\n",
       "    }\n",
       "\n",
       "    .dataframe tbody tr th {\n",
       "        vertical-align: top;\n",
       "    }\n",
       "\n",
       "    .dataframe thead th {\n",
       "        text-align: right;\n",
       "    }\n",
       "</style>\n",
       "<table border=\"1\" class=\"dataframe\">\n",
       "  <thead>\n",
       "    <tr style=\"text-align: right;\">\n",
       "      <th></th>\n",
       "      <th>prestamo_personas</th>\n",
       "      <th>prestamo_banco</th>\n",
       "      <th>compra_cuotas</th>\n",
       "      <th>id_vivienda</th>\n",
       "      <th>id_hogar</th>\n",
       "      <th>region</th>\n",
       "    </tr>\n",
       "  </thead>\n",
       "  <tbody>\n",
       "    <tr>\n",
       "      <th>0</th>\n",
       "      <td>2</td>\n",
       "      <td>2</td>\n",
       "      <td>1</td>\n",
       "      <td>TQRMNOQVSHMMLOCDEFJAH00808791</td>\n",
       "      <td>1</td>\n",
       "      <td>43</td>\n",
       "    </tr>\n",
       "    <tr>\n",
       "      <th>1</th>\n",
       "      <td>2</td>\n",
       "      <td>2</td>\n",
       "      <td>1</td>\n",
       "      <td>TQRMNOPTQHKLLSCDEFJAH00866946</td>\n",
       "      <td>1</td>\n",
       "      <td>43</td>\n",
       "    </tr>\n",
       "    <tr>\n",
       "      <th>2</th>\n",
       "      <td>2</td>\n",
       "      <td>2</td>\n",
       "      <td>2</td>\n",
       "      <td>TQRMNORVTHMOLSCDEFJAH00808761</td>\n",
       "      <td>1</td>\n",
       "      <td>43</td>\n",
       "    </tr>\n",
       "    <tr>\n",
       "      <th>3</th>\n",
       "      <td>2</td>\n",
       "      <td>2</td>\n",
       "      <td>2</td>\n",
       "      <td>TQRMNORVVHMOLSCDEFJAH00866947</td>\n",
       "      <td>1</td>\n",
       "      <td>43</td>\n",
       "    </tr>\n",
       "    <tr>\n",
       "      <th>4</th>\n",
       "      <td>2</td>\n",
       "      <td>2</td>\n",
       "      <td>2</td>\n",
       "      <td>TQRMNOTPTHLNLRCDEFJAH00803474</td>\n",
       "      <td>1</td>\n",
       "      <td>43</td>\n",
       "    </tr>\n",
       "  </tbody>\n",
       "</table>\n",
       "</div>"
      ],
      "text/plain": [
       "   prestamo_personas  prestamo_banco  compra_cuotas  \\\n",
       "0                  2               2              1   \n",
       "1                  2               2              1   \n",
       "2                  2               2              2   \n",
       "3                  2               2              2   \n",
       "4                  2               2              2   \n",
       "\n",
       "                     id_vivienda  id_hogar  region  \n",
       "0  TQRMNOQVSHMMLOCDEFJAH00808791         1      43  \n",
       "1  TQRMNOPTQHKLLSCDEFJAH00866946         1      43  \n",
       "2  TQRMNORVTHMOLSCDEFJAH00808761         1      43  \n",
       "3  TQRMNORVVHMOLSCDEFJAH00866947         1      43  \n",
       "4  TQRMNOTPTHLNLRCDEFJAH00803474         1      43  "
      ]
     },
<<<<<<< HEAD
     "execution_count": 13,
=======
     "execution_count": 148,
>>>>>>> origin/main
     "metadata": {},
     "output_type": "execute_result"
    }
   ],
   "source": [
    "hogares_fil_pam.head()"
   ]
  },
  {
   "cell_type": "code",
<<<<<<< HEAD
   "execution_count": 14,
=======
   "execution_count": 149,
>>>>>>> origin/main
   "id": "6e0a19be",
   "metadata": {},
   "outputs": [
    {
     "data": {
      "text/plain": [
       "prestamo_personas    0\n",
       "prestamo_banco       0\n",
       "compra_cuotas        0\n",
       "id_vivienda          0\n",
       "id_hogar             0\n",
       "region               0\n",
       "dtype: int64"
      ]
     },
<<<<<<< HEAD
     "execution_count": 14,
=======
     "execution_count": 149,
>>>>>>> origin/main
     "metadata": {},
     "output_type": "execute_result"
    }
   ],
   "source": [
    "hogares_fil_pam.isnull().sum()\n"
   ]
  },
  {
   "cell_type": "markdown",
   "id": "69d63e86",
   "metadata": {},
   "source": [
    "No hay filas nulas."
   ]
  },
  {
   "cell_type": "markdown",
   "id": "6ac65f51",
   "metadata": {},
   "source": [
    "Hacemos un resumen rápido estádistico."
   ]
  },
  {
   "cell_type": "code",
<<<<<<< HEAD
   "execution_count": 15,
=======
   "execution_count": 150,
>>>>>>> origin/main
   "id": "6963df35",
   "metadata": {},
   "outputs": [
    {
     "data": {
      "text/html": [
       "<div>\n",
       "<style scoped>\n",
       "    .dataframe tbody tr th:only-of-type {\n",
       "        vertical-align: middle;\n",
       "    }\n",
       "\n",
       "    .dataframe tbody tr th {\n",
       "        vertical-align: top;\n",
       "    }\n",
       "\n",
       "    .dataframe thead th {\n",
       "        text-align: right;\n",
       "    }\n",
       "</style>\n",
       "<table border=\"1\" class=\"dataframe\">\n",
       "  <thead>\n",
       "    <tr style=\"text-align: right;\">\n",
       "      <th></th>\n",
       "      <th>prestamo_personas</th>\n",
       "      <th>prestamo_banco</th>\n",
       "      <th>compra_cuotas</th>\n",
       "      <th>id_hogar</th>\n",
       "      <th>region</th>\n",
       "    </tr>\n",
       "  </thead>\n",
       "  <tbody>\n",
       "    <tr>\n",
       "      <th>count</th>\n",
       "      <td>5410.000000</td>\n",
       "      <td>5410.000000</td>\n",
       "      <td>5410.000000</td>\n",
       "      <td>5410.000000</td>\n",
       "      <td>5410.0</td>\n",
       "    </tr>\n",
       "    <tr>\n",
       "      <th>mean</th>\n",
       "      <td>1.851386</td>\n",
       "      <td>1.891682</td>\n",
       "      <td>1.529575</td>\n",
       "      <td>1.034566</td>\n",
       "      <td>43.0</td>\n",
       "    </tr>\n",
       "    <tr>\n",
       "      <th>std</th>\n",
       "      <td>0.370006</td>\n",
       "      <td>0.327041</td>\n",
       "      <td>0.509435</td>\n",
       "      <td>0.192548</td>\n",
       "      <td>0.0</td>\n",
       "    </tr>\n",
       "    <tr>\n",
       "      <th>min</th>\n",
       "      <td>1.000000</td>\n",
       "      <td>1.000000</td>\n",
       "      <td>1.000000</td>\n",
       "      <td>1.000000</td>\n",
       "      <td>43.0</td>\n",
       "    </tr>\n",
       "    <tr>\n",
       "      <th>25%</th>\n",
       "      <td>2.000000</td>\n",
       "      <td>2.000000</td>\n",
       "      <td>1.000000</td>\n",
       "      <td>1.000000</td>\n",
       "      <td>43.0</td>\n",
       "    </tr>\n",
       "    <tr>\n",
       "      <th>50%</th>\n",
       "      <td>2.000000</td>\n",
       "      <td>2.000000</td>\n",
       "      <td>2.000000</td>\n",
       "      <td>1.000000</td>\n",
       "      <td>43.0</td>\n",
       "    </tr>\n",
       "    <tr>\n",
       "      <th>75%</th>\n",
       "      <td>2.000000</td>\n",
       "      <td>2.000000</td>\n",
       "      <td>2.000000</td>\n",
       "      <td>1.000000</td>\n",
       "      <td>43.0</td>\n",
       "    </tr>\n",
       "    <tr>\n",
       "      <th>max</th>\n",
       "      <td>9.000000</td>\n",
       "      <td>9.000000</td>\n",
       "      <td>9.000000</td>\n",
       "      <td>4.000000</td>\n",
       "      <td>43.0</td>\n",
       "    </tr>\n",
       "  </tbody>\n",
       "</table>\n",
       "</div>"
      ],
      "text/plain": [
       "       prestamo_personas  prestamo_banco  compra_cuotas     id_hogar  region\n",
       "count        5410.000000     5410.000000    5410.000000  5410.000000  5410.0\n",
       "mean            1.851386        1.891682       1.529575     1.034566    43.0\n",
       "std             0.370006        0.327041       0.509435     0.192548     0.0\n",
       "min             1.000000        1.000000       1.000000     1.000000    43.0\n",
       "25%             2.000000        2.000000       1.000000     1.000000    43.0\n",
       "50%             2.000000        2.000000       2.000000     1.000000    43.0\n",
       "75%             2.000000        2.000000       2.000000     1.000000    43.0\n",
       "max             9.000000        9.000000       9.000000     4.000000    43.0"
      ]
     },
<<<<<<< HEAD
     "execution_count": 15,
=======
     "execution_count": 150,
>>>>>>> origin/main
     "metadata": {},
     "output_type": "execute_result"
    }
   ],
   "source": [
    "hogares_fil_pam.describe()"
   ]
  },
  {
   "cell_type": "markdown",
   "id": "9c6e7ebc",
   "metadata": {},
   "source": [
    "Hay errores de ingreso de datos al tener maximos en \"9\" cuando permite 1 o 2, en cuanto a comportamientos de consumo-prestamos."
   ]
  },
  {
   "cell_type": "code",
<<<<<<< HEAD
   "execution_count": 16,
=======
   "execution_count": 151,
>>>>>>> origin/main
   "id": "7e44a8cc",
   "metadata": {},
   "outputs": [
    {
     "data": {
      "text/plain": [
       "2    4816\n",
       "1     593\n",
       "9       1\n",
       "Name: prestamo_banco, dtype: int64"
      ]
     },
     "execution_count": 151,
     "metadata": {},
     "output_type": "execute_result"
    }
   ],
   "source": [
    "hogares_fil['prestamo_banco'].value_counts()"
   ]
  },
  {
   "cell_type": "code",
   "execution_count": 152,
   "id": "610f126f",
   "metadata": {},
   "outputs": [
    {
     "data": {
      "text/plain": [
       "2    4598\n",
       "1     811\n",
       "9       1\n",
       "Name: prestamo_personas, dtype: int64"
      ]
     },
<<<<<<< HEAD
     "execution_count": 16,
=======
     "execution_count": 152,
>>>>>>> origin/main
     "metadata": {},
     "output_type": "execute_result"
    }
   ],
   "source": [
    "hogares_fil_pam['prestamo_personas'].value_counts()"
   ]
  },
  {
   "cell_type": "code",
   "execution_count": 153,
   "id": "e2cf35d2",
   "metadata": {},
   "outputs": [
    {
     "data": {
      "text/plain": [
       "2    2857\n",
       "1    2552\n",
       "9       1\n",
       "Name: compra_cuotas, dtype: int64"
      ]
     },
     "execution_count": 153,
     "metadata": {},
     "output_type": "execute_result"
    }
   ],
   "source": [
    "hogares_fil['compra_cuotas'].value_counts()"
   ]
  },
  {
   "cell_type": "markdown",
   "id": "4d90040a",
   "metadata": {},
   "source": [
    "Vemos una Fila con el valor 9 en la columna de prestamos a personas, por lo que se revisara cada estas variables. Significa que no ha respondido."
   ]
  },
  {
   "cell_type": "markdown",
   "id": "8ac497a4",
   "metadata": {},
   "source": [
    "Como es un único datos en cada columna, eliminamos las filas con valor 9 (son 3 en total)"
   ]
  },
  {
   "cell_type": "code",
   "execution_count": 154,
   "id": "c2363861",
   "metadata": {},
   "outputs": [],
   "source": [
    "hogares_fil = hogares_fil[hogares_fil['prestamo_banco'] != 9]"
   ]
  },
  {
   "cell_type": "code",
   "execution_count": 155,
   "id": "2d969bab",
   "metadata": {},
   "outputs": [],
   "source": [
    "hogares_fil = hogares_fil[hogares_fil['prestamo_personas'] != 9]"
   ]
  },
  {
   "cell_type": "code",
   "execution_count": 156,
   "id": "b59a97ff",
   "metadata": {},
   "outputs": [],
   "source": [
    "hogares_fil = hogares_fil[hogares_fil['compra_cuotas'] != 9]"
   ]
  },
  {
   "cell_type": "code",
   "execution_count": 160,
   "id": "cae50f39",
   "metadata": {},
   "outputs": [
    {
     "data": {
      "text/html": [
       "<div>\n",
       "<style scoped>\n",
       "    .dataframe tbody tr th:only-of-type {\n",
       "        vertical-align: middle;\n",
       "    }\n",
       "\n",
       "    .dataframe tbody tr th {\n",
       "        vertical-align: top;\n",
       "    }\n",
       "\n",
       "    .dataframe thead th {\n",
       "        text-align: right;\n",
       "    }\n",
       "</style>\n",
       "<table border=\"1\" class=\"dataframe\">\n",
       "  <thead>\n",
       "    <tr style=\"text-align: right;\">\n",
       "      <th></th>\n",
       "      <th>id_hogar</th>\n",
       "      <th>region</th>\n",
       "      <th>prestamo_personas</th>\n",
       "      <th>prestamo_banco</th>\n",
       "      <th>compra_cuotas</th>\n",
       "    </tr>\n",
       "  </thead>\n",
       "  <tbody>\n",
       "    <tr>\n",
       "      <th>count</th>\n",
       "      <td>5409.000000</td>\n",
       "      <td>5409.0</td>\n",
       "      <td>5409.000000</td>\n",
       "      <td>5409.000000</td>\n",
       "      <td>5409.000000</td>\n",
       "    </tr>\n",
       "    <tr>\n",
       "      <th>mean</th>\n",
       "      <td>1.034572</td>\n",
       "      <td>43.0</td>\n",
       "      <td>1.850065</td>\n",
       "      <td>1.890368</td>\n",
       "      <td>1.528194</td>\n",
       "    </tr>\n",
       "    <tr>\n",
       "      <th>std</th>\n",
       "      <td>0.192565</td>\n",
       "      <td>0.0</td>\n",
       "      <td>0.357041</td>\n",
       "      <td>0.312460</td>\n",
       "      <td>0.499251</td>\n",
       "    </tr>\n",
       "    <tr>\n",
       "      <th>min</th>\n",
       "      <td>1.000000</td>\n",
       "      <td>43.0</td>\n",
       "      <td>1.000000</td>\n",
       "      <td>1.000000</td>\n",
       "      <td>1.000000</td>\n",
       "    </tr>\n",
       "    <tr>\n",
       "      <th>25%</th>\n",
       "      <td>1.000000</td>\n",
       "      <td>43.0</td>\n",
       "      <td>2.000000</td>\n",
       "      <td>2.000000</td>\n",
       "      <td>1.000000</td>\n",
       "    </tr>\n",
       "    <tr>\n",
       "      <th>50%</th>\n",
       "      <td>1.000000</td>\n",
       "      <td>43.0</td>\n",
       "      <td>2.000000</td>\n",
       "      <td>2.000000</td>\n",
       "      <td>2.000000</td>\n",
       "    </tr>\n",
       "    <tr>\n",
       "      <th>75%</th>\n",
       "      <td>1.000000</td>\n",
       "      <td>43.0</td>\n",
       "      <td>2.000000</td>\n",
       "      <td>2.000000</td>\n",
       "      <td>2.000000</td>\n",
       "    </tr>\n",
       "    <tr>\n",
       "      <th>max</th>\n",
       "      <td>4.000000</td>\n",
       "      <td>43.0</td>\n",
       "      <td>2.000000</td>\n",
       "      <td>2.000000</td>\n",
       "      <td>2.000000</td>\n",
       "    </tr>\n",
       "  </tbody>\n",
       "</table>\n",
       "</div>"
      ],
      "text/plain": [
       "          id_hogar  region  prestamo_personas  prestamo_banco  compra_cuotas\n",
       "count  5409.000000  5409.0        5409.000000     5409.000000    5409.000000\n",
       "mean      1.034572    43.0           1.850065        1.890368       1.528194\n",
       "std       0.192565     0.0           0.357041        0.312460       0.499251\n",
       "min       1.000000    43.0           1.000000        1.000000       1.000000\n",
       "25%       1.000000    43.0           2.000000        2.000000       1.000000\n",
       "50%       1.000000    43.0           2.000000        2.000000       2.000000\n",
       "75%       1.000000    43.0           2.000000        2.000000       2.000000\n",
       "max       4.000000    43.0           2.000000        2.000000       2.000000"
      ]
     },
     "execution_count": 160,
     "metadata": {},
     "output_type": "execute_result"
    }
   ],
   "source": [
    "hogares_fil.describe()"
   ]
  },
  {
   "cell_type": "markdown",
   "id": "d4531122",
   "metadata": {},
   "source": [
    "### Personas y Hogares región Pampeana\n",
    "Unimos ambas tablas a través de la variable \"CODUSU\""
   ]
  },
  {
   "cell_type": "code",
<<<<<<< HEAD
   "execution_count": 17,
=======
   "execution_count": 163,
>>>>>>> origin/main
   "id": "e1a7aad2",
   "metadata": {},
   "outputs": [
    {
     "data": {
      "text/plain": [
       "14313"
      ]
     },
<<<<<<< HEAD
     "execution_count": 17,
=======
     "execution_count": 163,
>>>>>>> origin/main
     "metadata": {},
     "output_type": "execute_result"
    }
   ],
   "source": [
<<<<<<< HEAD
    "df_final = encuesta.df_hogares_personas(hogares_fil_pam, personas_fil_pam)\n",
=======
    "df_final = pd.merge(personas_fil, hogares_fil, on=['id_vivienda', 'id_hogar', 'region'], how='inner')\n",
>>>>>>> origin/main
    "len(df_final)\n"
   ]
  },
  {
   "cell_type": "code",
<<<<<<< HEAD
   "execution_count": 18,
=======
   "execution_count": 164,
>>>>>>> origin/main
   "id": "e5a2baa7",
   "metadata": {},
   "outputs": [
    {
     "data": {
      "text/html": [
       "<div>\n",
       "<style scoped>\n",
       "    .dataframe tbody tr th:only-of-type {\n",
       "        vertical-align: middle;\n",
       "    }\n",
       "\n",
       "    .dataframe tbody tr th {\n",
       "        vertical-align: top;\n",
       "    }\n",
       "\n",
       "    .dataframe thead th {\n",
       "        text-align: right;\n",
       "    }\n",
       "</style>\n",
       "<table border=\"1\" class=\"dataframe\">\n",
       "  <thead>\n",
       "    <tr style=\"text-align: right;\">\n",
       "      <th></th>\n",
       "      <th>sexo</th>\n",
       "      <th>edad</th>\n",
       "      <th>ingreso</th>\n",
       "      <th>ingreso_ponderado</th>\n",
       "      <th>nivel_educativo</th>\n",
       "      <th>estado_actividad</th>\n",
<<<<<<< HEAD
       "      <th>id_vivienda</th>\n",
       "      <th>id_hogar</th>\n",
       "      <th>region_x</th>\n",
=======
       "      <th>region</th>\n",
>>>>>>> origin/main
       "      <th>prestamo_personas</th>\n",
       "      <th>prestamo_banco</th>\n",
       "      <th>compra_cuotas</th>\n",
       "      <th>region_y</th>\n",
       "    </tr>\n",
       "  </thead>\n",
       "  <tbody>\n",
       "    <tr>\n",
       "      <th>0</th>\n",
       "      <td>2</td>\n",
       "      <td>33</td>\n",
       "      <td>-9.0</td>\n",
       "      <td>0</td>\n",
       "      <td>6</td>\n",
       "      <td>1</td>\n",
<<<<<<< HEAD
       "      <td>TQRMNOPTVHLOKRCDEFJAH00803557</td>\n",
       "      <td>1</td>\n",
=======
>>>>>>> origin/main
       "      <td>43</td>\n",
       "      <td>2</td>\n",
       "      <td>2</td>\n",
       "      <td>1</td>\n",
       "      <td>43</td>\n",
       "    </tr>\n",
       "    <tr>\n",
       "      <th>1</th>\n",
       "      <td>1</td>\n",
       "      <td>33</td>\n",
       "      <td>-9.0</td>\n",
       "      <td>0</td>\n",
       "      <td>6</td>\n",
       "      <td>1</td>\n",
<<<<<<< HEAD
       "      <td>TQRMNOPTVHLOKRCDEFJAH00803557</td>\n",
       "      <td>1</td>\n",
=======
>>>>>>> origin/main
       "      <td>43</td>\n",
       "      <td>2</td>\n",
       "      <td>2</td>\n",
       "      <td>1</td>\n",
       "      <td>43</td>\n",
       "    </tr>\n",
       "    <tr>\n",
       "      <th>2</th>\n",
       "      <td>1</td>\n",
       "      <td>81</td>\n",
       "      <td>1750000.0</td>\n",
       "      <td>401</td>\n",
       "      <td>6</td>\n",
       "      <td>1</td>\n",
<<<<<<< HEAD
       "      <td>TQRMNOQPRHKLKNCDEFJAH00868631</td>\n",
       "      <td>1</td>\n",
=======
>>>>>>> origin/main
       "      <td>43</td>\n",
       "      <td>2</td>\n",
       "      <td>2</td>\n",
       "      <td>2</td>\n",
       "      <td>43</td>\n",
       "    </tr>\n",
       "    <tr>\n",
       "      <th>3</th>\n",
       "      <td>2</td>\n",
       "      <td>78</td>\n",
       "      <td>400000.0</td>\n",
       "      <td>354</td>\n",
       "      <td>6</td>\n",
       "      <td>3</td>\n",
<<<<<<< HEAD
       "      <td>TQRMNOQPRHKLKNCDEFJAH00868631</td>\n",
       "      <td>1</td>\n",
=======
>>>>>>> origin/main
       "      <td>43</td>\n",
       "      <td>2</td>\n",
       "      <td>2</td>\n",
       "      <td>2</td>\n",
       "      <td>43</td>\n",
       "    </tr>\n",
       "    <tr>\n",
       "      <th>4</th>\n",
       "      <td>1</td>\n",
       "      <td>65</td>\n",
       "      <td>1200000.0</td>\n",
       "      <td>328</td>\n",
       "      <td>4</td>\n",
       "      <td>1</td>\n",
<<<<<<< HEAD
       "      <td>TQRMNORVXHKLKNCDEFJAH00868632</td>\n",
       "      <td>1</td>\n",
=======
>>>>>>> origin/main
       "      <td>43</td>\n",
       "      <td>2</td>\n",
       "      <td>1</td>\n",
       "      <td>1</td>\n",
       "      <td>43</td>\n",
       "    </tr>\n",
       "    <tr>\n",
       "      <th>5</th>\n",
       "      <td>2</td>\n",
       "      <td>66</td>\n",
       "      <td>435600.0</td>\n",
       "      <td>366</td>\n",
       "      <td>4</td>\n",
       "      <td>1</td>\n",
<<<<<<< HEAD
       "      <td>TQRMNORVXHKLKNCDEFJAH00868632</td>\n",
       "      <td>1</td>\n",
=======
>>>>>>> origin/main
       "      <td>43</td>\n",
       "      <td>2</td>\n",
       "      <td>1</td>\n",
       "      <td>1</td>\n",
       "      <td>43</td>\n",
       "    </tr>\n",
       "    <tr>\n",
       "      <th>6</th>\n",
       "      <td>1</td>\n",
       "      <td>30</td>\n",
       "      <td>1125000.0</td>\n",
       "      <td>362</td>\n",
       "      <td>5</td>\n",
       "      <td>1</td>\n",
<<<<<<< HEAD
       "      <td>TQRMNORVXHKLKNCDEFJAH00868632</td>\n",
       "      <td>1</td>\n",
=======
>>>>>>> origin/main
       "      <td>43</td>\n",
       "      <td>2</td>\n",
       "      <td>1</td>\n",
       "      <td>1</td>\n",
       "      <td>43</td>\n",
       "    </tr>\n",
       "    <tr>\n",
       "      <th>7</th>\n",
       "      <td>1</td>\n",
       "      <td>63</td>\n",
       "      <td>-9.0</td>\n",
       "      <td>0</td>\n",
       "      <td>3</td>\n",
       "      <td>1</td>\n",
<<<<<<< HEAD
       "      <td>TQRMNQYTSHMOKQCDEFJAH00851671</td>\n",
       "      <td>1</td>\n",
=======
>>>>>>> origin/main
       "      <td>43</td>\n",
       "      <td>2</td>\n",
       "      <td>2</td>\n",
       "      <td>2</td>\n",
       "      <td>43</td>\n",
       "    </tr>\n",
       "    <tr>\n",
       "      <th>8</th>\n",
       "      <td>2</td>\n",
       "      <td>60</td>\n",
       "      <td>0.0</td>\n",
       "      <td>238</td>\n",
       "      <td>3</td>\n",
       "      <td>3</td>\n",
<<<<<<< HEAD
       "      <td>TQRMNQYTSHMOKQCDEFJAH00851671</td>\n",
       "      <td>1</td>\n",
=======
>>>>>>> origin/main
       "      <td>43</td>\n",
       "      <td>2</td>\n",
       "      <td>2</td>\n",
       "      <td>2</td>\n",
       "      <td>43</td>\n",
       "    </tr>\n",
       "    <tr>\n",
       "      <th>9</th>\n",
       "      <td>2</td>\n",
       "      <td>22</td>\n",
       "      <td>0.0</td>\n",
       "      <td>238</td>\n",
       "      <td>4</td>\n",
       "      <td>2</td>\n",
<<<<<<< HEAD
       "      <td>TQRMNQYTSHMOKQCDEFJAH00851671</td>\n",
       "      <td>1</td>\n",
=======
>>>>>>> origin/main
       "      <td>43</td>\n",
       "      <td>2</td>\n",
       "      <td>2</td>\n",
       "      <td>2</td>\n",
       "      <td>43</td>\n",
       "    </tr>\n",
       "    <tr>\n",
       "      <th>10</th>\n",
       "      <td>1</td>\n",
       "      <td>75</td>\n",
       "      <td>350000.0</td>\n",
       "      <td>121</td>\n",
       "      <td>3</td>\n",
       "      <td>3</td>\n",
<<<<<<< HEAD
       "      <td>TQRMNORQRHLMLLCDEGKDB00805055</td>\n",
       "      <td>1</td>\n",
=======
>>>>>>> origin/main
       "      <td>43</td>\n",
       "      <td>2</td>\n",
       "      <td>2</td>\n",
       "      <td>2</td>\n",
       "      <td>43</td>\n",
       "    </tr>\n",
       "    <tr>\n",
       "      <th>11</th>\n",
       "      <td>2</td>\n",
       "      <td>49</td>\n",
       "      <td>-9.0</td>\n",
       "      <td>0</td>\n",
       "      <td>5</td>\n",
       "      <td>1</td>\n",
<<<<<<< HEAD
       "      <td>TQRMNORQRHLMLLCDEGKDB00805055</td>\n",
       "      <td>1</td>\n",
=======
>>>>>>> origin/main
       "      <td>43</td>\n",
       "      <td>2</td>\n",
       "      <td>2</td>\n",
       "      <td>2</td>\n",
       "      <td>43</td>\n",
       "    </tr>\n",
       "    <tr>\n",
       "      <th>12</th>\n",
       "      <td>1</td>\n",
       "      <td>28</td>\n",
       "      <td>500000.0</td>\n",
       "      <td>287</td>\n",
       "      <td>6</td>\n",
       "      <td>1</td>\n",
<<<<<<< HEAD
       "      <td>TQRMNOQVTHMLLNCDEGKDB00810177</td>\n",
       "      <td>1</td>\n",
=======
>>>>>>> origin/main
       "      <td>43</td>\n",
       "      <td>2</td>\n",
       "      <td>2</td>\n",
       "      <td>1</td>\n",
       "      <td>43</td>\n",
       "    </tr>\n",
       "    <tr>\n",
       "      <th>13</th>\n",
       "      <td>2</td>\n",
       "      <td>32</td>\n",
       "      <td>320000.0</td>\n",
       "      <td>282</td>\n",
       "      <td>5</td>\n",
       "      <td>1</td>\n",
<<<<<<< HEAD
       "      <td>TQRMNOQVTHMLLNCDEGKDB00810177</td>\n",
       "      <td>1</td>\n",
=======
>>>>>>> origin/main
       "      <td>43</td>\n",
       "      <td>2</td>\n",
       "      <td>2</td>\n",
       "      <td>1</td>\n",
       "      <td>43</td>\n",
       "    </tr>\n",
       "    <tr>\n",
       "      <th>14</th>\n",
       "      <td>1</td>\n",
       "      <td>38</td>\n",
       "      <td>1300000.0</td>\n",
       "      <td>211</td>\n",
       "      <td>4</td>\n",
       "      <td>1</td>\n",
<<<<<<< HEAD
       "      <td>TQRMNOPRYHKMLMCDEGKDB00868633</td>\n",
       "      <td>1</td>\n",
=======
>>>>>>> origin/main
       "      <td>43</td>\n",
       "      <td>2</td>\n",
       "      <td>1</td>\n",
       "      <td>1</td>\n",
       "      <td>43</td>\n",
       "    </tr>\n",
       "  </tbody>\n",
       "</table>\n",
       "</div>"
      ],
      "text/plain": [
       "    sexo  edad    ingreso  ingreso_ponderado  nivel_educativo  \\\n",
       "0      2    33       -9.0                  0                6   \n",
       "1      1    33       -9.0                  0                6   \n",
       "2      1    81  1750000.0                401                6   \n",
       "3      2    78   400000.0                354                6   \n",
       "4      1    65  1200000.0                328                4   \n",
       "5      2    66   435600.0                366                4   \n",
       "6      1    30  1125000.0                362                5   \n",
       "7      1    63       -9.0                  0                3   \n",
       "8      2    60        0.0                238                3   \n",
       "9      2    22        0.0                238                4   \n",
       "10     1    75   350000.0                121                3   \n",
       "11     2    49       -9.0                  0                5   \n",
       "12     1    28   500000.0                287                6   \n",
       "13     2    32   320000.0                282                5   \n",
       "14     1    38  1300000.0                211                4   \n",
       "\n",
<<<<<<< HEAD
       "    estado_actividad                    id_vivienda  id_hogar  region_x  \\\n",
       "0                  1  TQRMNOPTVHLOKRCDEFJAH00803557         1        43   \n",
       "1                  1  TQRMNOPTVHLOKRCDEFJAH00803557         1        43   \n",
       "2                  1  TQRMNOQPRHKLKNCDEFJAH00868631         1        43   \n",
       "3                  3  TQRMNOQPRHKLKNCDEFJAH00868631         1        43   \n",
       "4                  1  TQRMNORVXHKLKNCDEFJAH00868632         1        43   \n",
       "5                  1  TQRMNORVXHKLKNCDEFJAH00868632         1        43   \n",
       "6                  1  TQRMNORVXHKLKNCDEFJAH00868632         1        43   \n",
       "7                  1  TQRMNQYTSHMOKQCDEFJAH00851671         1        43   \n",
       "8                  3  TQRMNQYTSHMOKQCDEFJAH00851671         1        43   \n",
       "9                  2  TQRMNQYTSHMOKQCDEFJAH00851671         1        43   \n",
       "10                 3  TQRMNORQRHLMLLCDEGKDB00805055         1        43   \n",
       "11                 1  TQRMNORQRHLMLLCDEGKDB00805055         1        43   \n",
       "12                 1  TQRMNOQVTHMLLNCDEGKDB00810177         1        43   \n",
       "13                 1  TQRMNOQVTHMLLNCDEGKDB00810177         1        43   \n",
       "14                 1  TQRMNOPRYHKMLMCDEGKDB00868633         1        43   \n",
=======
       "    nivel_educativo  estado_actividad  region  prestamo_personas  \\\n",
       "0                 6                 1      43                  2   \n",
       "1                 6                 1      43                  2   \n",
       "2                 6                 1      43                  2   \n",
       "3                 6                 3      43                  2   \n",
       "4                 4                 1      43                  2   \n",
       "5                 4                 1      43                  2   \n",
       "6                 5                 1      43                  2   \n",
       "7                 3                 1      43                  2   \n",
       "8                 3                 3      43                  2   \n",
       "9                 4                 2      43                  2   \n",
       "10                3                 3      43                  2   \n",
       "11                5                 1      43                  2   \n",
       "12                6                 1      43                  2   \n",
       "13                5                 1      43                  2   \n",
       "14                4                 1      43                  2   \n",
>>>>>>> origin/main
       "\n",
       "    prestamo_personas  prestamo_banco  compra_cuotas  region_y  \n",
       "0                   2               2              1        43  \n",
       "1                   2               2              1        43  \n",
       "2                   2               2              2        43  \n",
       "3                   2               2              2        43  \n",
       "4                   2               1              1        43  \n",
       "5                   2               1              1        43  \n",
       "6                   2               1              1        43  \n",
       "7                   2               2              2        43  \n",
       "8                   2               2              2        43  \n",
       "9                   2               2              2        43  \n",
       "10                  2               2              2        43  \n",
       "11                  2               2              2        43  \n",
       "12                  2               2              1        43  \n",
       "13                  2               2              1        43  \n",
       "14                  2               1              1        43  "
      ]
     },
<<<<<<< HEAD
     "execution_count": 18,
=======
     "execution_count": 164,
>>>>>>> origin/main
     "metadata": {},
     "output_type": "execute_result"
    }
   ],
   "source": [
    "df_final.head(15)\n"
   ]
  },
  {
   "cell_type": "markdown",
   "id": "0c679ab2",
   "metadata": {},
   "source": [
    "En este caso vamos a tener que agrupar las columnas de personas para resumirlas y trabajarlas junto con los datos de hogares."
   ]
  },
  {
   "cell_type": "markdown",
   "id": "35f8708a",
   "metadata": {},
   "source": [
    "### Tablas de Referencia"
   ]
  },
  {
   "cell_type": "markdown",
   "id": "29f9837f",
   "metadata": {},
   "source": [
    "#### ESTADO - Condición de Actividad\n",
    "Tipo de variable: Nominal"
   ]
  },
  {
   "cell_type": "code",
   "execution_count": 19,
   "id": "2d9eaf3d",
   "metadata": {},
   "outputs": [],
   "source": [
    "estado = pd.DataFrame([\n",
    "    (0, \"Encuesta no realizada\"),\n",
    "    (1, \"Ocupado\"),\n",
    "    (2, \"Desocupado\"),\n",
    "    (3, \"Inactivo\"),\n",
    "    (4, \"Menor de 10 años\")\n",
    "], columns=[\"estado_actividad\", \"estado_nombre\"])"
   ]
  },
  {
   "cell_type": "markdown",
   "id": "2e195781",
   "metadata": {},
   "source": [
    "##### Datos faltantes\n",
    "No hay registros con valores indefinidos."
   ]
  },
  {
   "cell_type": "code",
   "execution_count": 20,
   "id": "fcaacd47",
   "metadata": {},
   "outputs": [
    {
     "data": {
      "text/plain": [
       "np.int64(0)"
      ]
     },
     "execution_count": 20,
     "metadata": {},
     "output_type": "execute_result"
    }
   ],
   "source": [
    "personas_fil_pam[\"estado_actividad\"].isna().sum()"
   ]
  },
  {
   "cell_type": "markdown",
   "id": "01d57fe8",
   "metadata": {},
   "source": [
    "##### Análisis de Frecuencias"
   ]
  },
  {
   "cell_type": "code",
   "execution_count": 21,
   "id": "d7e81a7c",
   "metadata": {},
   "outputs": [
    {
     "data": {
      "text/plain": [
       "estado_nombre\n",
       "Ocupado                  6389\n",
       "Inactivo                 5794\n",
       "Menor de 10 años         1620\n",
       "Desocupado                497\n",
       "Encuesta no realizada      15\n",
       "Name: count, dtype: int64"
      ]
     },
     "execution_count": 21,
     "metadata": {},
     "output_type": "execute_result"
    }
   ],
   "source": [
    "personas_fil_pam.merge(estado, how=\"inner\", on=\"estado_actividad\")[\"estado_nombre\"].value_counts()"
   ]
  },
  {
   "cell_type": "code",
   "execution_count": 22,
   "id": "9a060012",
   "metadata": {},
   "outputs": [
    {
     "data": {
      "text/plain": [
       "estado_nombre\n",
       "Ocupado                  0.446315\n",
       "Inactivo                 0.404750\n",
       "Menor de 10 años         0.113168\n",
       "Desocupado               0.034719\n",
       "Encuesta no realizada    0.001048\n",
       "Name: proportion, dtype: float64"
      ]
     },
     "execution_count": 22,
     "metadata": {},
     "output_type": "execute_result"
    }
   ],
   "source": [
    "personas_fil_pam.merge(estado, how=\"inner\", on=\"estado_actividad\")[\"estado_nombre\"].value_counts(normalize=True)"
   ]
  },
  {
   "cell_type": "code",
   "execution_count": 23,
   "id": "a525e28b",
   "metadata": {},
   "outputs": [
    {
     "data": {
      "text/plain": [
       "([<matplotlib.patches.Wedge at 0x743c4451fdc0>,\n",
       "  <matplotlib.patches.Wedge at 0x743c4451f250>,\n",
       "  <matplotlib.patches.Wedge at 0x743c446db370>,\n",
       "  <matplotlib.patches.Wedge at 0x743c446d9b70>,\n",
       "  <matplotlib.patches.Wedge at 0x743c4469f610>],\n",
       " [Text(0.2400365887314052, 1.4097100539012235, 'Ocupado'),\n",
       "  Text(-0.8500255506619434, -1.1499376344923495, 'Inactivo'),\n",
       "  Text(1.1959403305519825, -0.783981329981279, 'Menor de 10 años'),\n",
       "  Text(1.4204464824824705, -0.16502057569641798, 'Desocupado'),\n",
       "  Text(1.429992251792115, -0.00470742121724979, 'Encuesta no realizada')],\n",
       " [Text(0.17457206453193105, 1.0252436755645262, '44.63%'),\n",
       "  Text(-0.6182004004814133, -0.8363182796307995, '40.48%'),\n",
       "  Text(0.8697747858559872, -0.5701682399863847, '11.32%'),\n",
       "  Text(1.0330519872599784, -0.12001496414284943, '3.47%'),\n",
       "  Text(1.03999436493972, -0.003423579067090756, '0.10%')])"
      ]
     },
     "execution_count": 23,
     "metadata": {},
     "output_type": "execute_result"
    },
    {
     "data": {
      "image/png": "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",
      "text/plain": [
       "<Figure size 640x480 with 1 Axes>"
      ]
     },
     "metadata": {},
     "output_type": "display_data"
    }
   ],
   "source": [
    "frecuencias = personas_fil_pam.merge(estado, how=\"inner\", on=\"estado_actividad\")[\"estado_nombre\"].value_counts()\n",
    "plt.pie(frecuencias, labels=frecuencias.index, autopct=\"%.2f%%\", pctdistance=0.8, labeldistance=1.1, radius=1.3)"
   ]
  },
  {
   "cell_type": "markdown",
   "id": "df316772",
   "metadata": {},
   "source": [
    "\n",
    "#### NIVEL_ED - Nivel Educativo\n",
    "\n",
    "Tipo de Variable: Ordinal\n"
   ]
  },
  {
   "cell_type": "code",
   "execution_count": 24,
   "id": "ca6f8163",
   "metadata": {},
   "outputs": [],
   "source": [
    "nivel_educativo = pd.DataFrame([\n",
    "    (1, \"Primario incompleto (incluye educación especial)\"),\n",
    "    (2, \"Primario completo\"),\n",
    "    (3, \"Secundario incompleto\"),\n",
    "    (4, \"Secundario completo\"),\n",
    "    (5, \"Superior universitario incompleto\"),\n",
    "    (6, \"Superior universitario completo\"),\n",
    "    (7, \"Sin instrucción\"),\n",
    "    (9, \"Ns/Nr\"),\n",
    "    ], columns=[\"nivel_educativo\", \"nivel_educativo_nombre\"])\n"
   ]
  },
  {
   "cell_type": "markdown",
   "id": "d774cadf",
   "metadata": {},
   "source": [
    "\n",
    "#### Datos faltantes\n",
    "\n",
    "No hay registros con valores indefinidos.\n"
   ]
  },
  {
   "cell_type": "code",
   "execution_count": 25,
   "id": "53ad2c9a",
   "metadata": {},
   "outputs": [
    {
     "data": {
      "text/plain": [
       "np.int64(0)"
      ]
     },
     "execution_count": 25,
     "metadata": {},
     "output_type": "execute_result"
    }
   ],
   "source": [
    "personas_fil_pam[\"nivel_educativo\"].isna().sum()"
   ]
  },
  {
   "cell_type": "markdown",
   "id": "c101aa13",
   "metadata": {},
   "source": [
    "#### Análisis de Frecuencias"
   ]
  },
  {
   "cell_type": "code",
   "execution_count": 26,
   "id": "2b7a0948",
   "metadata": {},
   "outputs": [
    {
     "data": {
      "text/plain": [
       "nivel_educativo  nivel_educativo_nombre                          \n",
       "4                Secundario completo                                 2965\n",
       "3                Secundario incompleto                               2887\n",
       "6                Superior universitario completo                     2156\n",
       "1                Primario incompleto (incluye educación especial)    2016\n",
       "5                Superior universitario incompleto                   1743\n",
       "2                Primario completo                                   1672\n",
       "7                Sin instrucción                                      876\n",
       "Name: count, dtype: int64"
      ]
     },
     "execution_count": 26,
     "metadata": {},
     "output_type": "execute_result"
    }
   ],
   "source": [
    "personas_fil_pam.merge(nivel_educativo, how=\"inner\", on=\"nivel_educativo\")[[\"nivel_educativo\",\"nivel_educativo_nombre\"]].value_counts()"
   ]
  },
  {
   "cell_type": "code",
   "execution_count": 27,
   "id": "30b458a4",
   "metadata": {},
   "outputs": [
    {
     "data": {
      "text/plain": [
       "nivel_educativo_nombre\n",
       "Secundario completo                                 0.207125\n",
       "Secundario incompleto                               0.201677\n",
       "Superior universitario completo                     0.150611\n",
       "Primario incompleto (incluye educación especial)    0.140831\n",
       "Superior universitario incompleto                   0.121760\n",
       "Primario completo                                   0.116801\n",
       "Sin instrucción                                     0.061195\n",
       "Name: proportion, dtype: float64"
      ]
     },
     "execution_count": 27,
     "metadata": {},
     "output_type": "execute_result"
    }
   ],
   "source": [
    "personas_fil_pam.merge(nivel_educativo, how=\"inner\", on=\"nivel_educativo\")[\"nivel_educativo_nombre\"].value_counts(normalize=True)"
   ]
  },
  {
   "cell_type": "code",
   "execution_count": 28,
   "id": "e41c637f",
   "metadata": {},
   "outputs": [
    {
     "data": {
      "image/png": "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",
      "text/plain": [
       "<Figure size 1000x600 with 1 Axes>"
      ]
     },
     "metadata": {},
     "output_type": "display_data"
    }
   ],
   "source": [
    "frecuencias = personas_fil_pam.merge(nivel_educativo, how=\"inner\", on=\"nivel_educativo\") \\\n",
    "    [[\"nivel_educativo\", \"nivel_educativo_nombre\"]].value_counts() \\\n",
    "    .reset_index(name='nivel_educativo_count') \\\n",
    "    .sort_values(\"nivel_educativo\")\n",
    "\n",
    "plt.figure(figsize=(10, 6))\n",
    "plt.bar(frecuencias[\"nivel_educativo_nombre\"], frecuencias[\"nivel_educativo_count\"])\n",
    "plt.xticks(rotation=45)\n",
    "plt.title(\"Distribución por Nivel Educativo\")\n",
    "plt.ylabel(\"Cantidad de personas\")\n",
    "plt.tight_layout()\n"
   ]
  },
  {
   "cell_type": "markdown",
   "id": "b654836b",
   "metadata": {},
   "source": [
    "\n",
    "#### Variable Edad\n",
    "Tipo de variable: Continua"
   ]
  },
  {
   "cell_type": "code",
<<<<<<< HEAD
   "execution_count": 29,
=======
   "execution_count": 165,
>>>>>>> origin/main
   "id": "9f2f852c",
   "metadata": {},
   "outputs": [
    {
     "data": {
      "text/plain": [
       "count    14315.000000\n",
       "mean        37.258819\n",
       "std         22.382583\n",
       "min          0.000000\n",
       "25%         18.000000\n",
       "50%         35.000000\n",
       "75%         55.000000\n",
       "max        102.000000\n",
       "Name: edad, dtype: float64"
      ]
     },
<<<<<<< HEAD
     "execution_count": 29,
=======
     "execution_count": 165,
>>>>>>> origin/main
     "metadata": {},
     "output_type": "execute_result"
    }
   ],
   "source": [
    "personas_fil_pam[\"edad\"].describe()"
   ]
  },
  {
   "cell_type": "code",
   "execution_count": 166,
   "id": "22ea3a31",
   "metadata": {},
   "outputs": [
    {
     "data": {
      "text/plain": [
       "Text(0.5, 1.0, 'Distribución de edades')"
      ]
     },
     "execution_count": 166,
     "metadata": {},
     "output_type": "execute_result"
    },
    {
     "data": {
<<<<<<< HEAD
      "image/png": "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",
=======
      "image/png": "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",
>>>>>>> origin/main
      "text/plain": [
       "<Figure size 640x480 with 1 Axes>"
      ]
     },
     "metadata": {},
     "output_type": "display_data"
    }
   ],
   "source": [
    "bin_edges = np.histogram_bin_edges(personas_fil_pam[\"edad\"], bins='scott')\n",
    "plt.hist(personas_fil_pam[\"edad\"], edgecolor='black', bins=bin_edges)\n",
    "plt.xlabel('Edad')\n",
    "plt.ylabel('Fecuencia')\n",
    "plt.title(\"Distribución de edades\")"
   ]
  },
  {
   "cell_type": "markdown",
   "id": "19f0f910",
   "metadata": {},
   "source": [
    "#### Variable: Sexo\n",
    "Varieble cualititativa"
   ]
  },
  {
   "cell_type": "code",
   "execution_count": null,
   "id": "d6dabe83",
   "metadata": {},
   "outputs": [
    {
     "data": {
      "image/png": "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",
      "text/plain": [
       "<Figure size 640x480 with 1 Axes>"
      ]
     },
     "metadata": {},
     "output_type": "display_data"
    }
   ],
   "source": [
    "\n",
    "personas_fil['sexo'] = personas_fil['sexo'].map({1: 'Hombre', 2: 'Mujer'})\n",
    "ax = sns.countplot(x='sexo', data=personas_fil, palette='Set2')\n",
    "for p in ax.patches:\n",
    "    height = p.get_height()\n",
    "    ax.text(\n",
    "        p.get_x() + p.get_width() / 2, \n",
    "        height * 0.5,\n",
    "        str(height),  \n",
    "        ha='center', va='center', \n",
    "        color='black', fontsize=12\n",
    "    )\n",
    "\n",
    "plt.title('Distribución de sexo')\n",
    "plt.xlabel('Sexo')\n",
    "plt.ylabel('Frecuencia')\n",
    "plt.tight_layout()\n",
    "plt.show()"
   ]
  }
 ],
 "metadata": {
  "kernelspec": {
<<<<<<< HEAD
   "display_name": ".venv",
=======
   "display_name": "Python 3",
>>>>>>> origin/main
   "language": "python",
   "name": "python3"
  },
  "language_info": {
   "codemirror_mode": {
    "name": "ipython",
    "version": 3
   },
   "file_extension": ".py",
   "mimetype": "text/x-python",
   "name": "python",
   "nbconvert_exporter": "python",
   "pygments_lexer": "ipython3",
<<<<<<< HEAD
   "version": "3.10.12"
=======
   "version": "3.10.4"
>>>>>>> origin/main
  }
 },
 "nbformat": 4,
 "nbformat_minor": 5
}
